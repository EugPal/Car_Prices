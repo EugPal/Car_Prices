{
 "cells": [
  {
   "cell_type": "markdown",
   "metadata": {},
   "source": [
    "# Определение стоимости автомобилей"
   ]
  },
  {
   "cell_type": "markdown",
   "metadata": {},
   "source": [
    "Сервис по продаже автомобилей с пробегом «Не бит, не крашен» разрабатывает приложение для привлечения новых клиентов. В нём можно быстро узнать рыночную стоимость своего автомобиля. В вашем распоряжении исторические данные: технические характеристики, комплектации и цены автомобилей. Вам нужно построить модель для определения стоимости. \n",
    "\n",
    "Заказчику важны:\n",
    "\n",
    "- качество предсказания;\n",
    "- скорость предсказания;\n",
    "- время обучения."
   ]
  },
  {
   "cell_type": "markdown",
   "metadata": {},
   "source": [
    "## Подготовка данных"
   ]
  },
  {
   "cell_type": "code",
   "execution_count": 1,
   "metadata": {},
   "outputs": [],
   "source": [
    "import math\n",
    "import numpy as np\n",
    "import pandas as pd\n",
    "from sklearn.metrics import r2_score\n",
    "import lightgbm as lgb\n",
    "from catboost import CatBoostRegressor\n",
    "from sklearn.model_selection import KFold\n",
    "from sklearn.model_selection import GridSearchCV\n",
    "from sklearn.metrics import roc_auc_score\n",
    "from sklearn.preprocessing import StandardScaler, OrdinalEncoder\n",
    "from sklearn.model_selection import train_test_split, cross_val_score, StratifiedShuffleSplit\n",
    "from sklearn.ensemble import RandomForestRegressor\n",
    "import seaborn as sns\n",
    "import matplotlib.pyplot as plt\n",
    "from sklearn.metrics import mean_squared_error"
   ]
  },
  {
   "cell_type": "code",
   "execution_count": 2,
   "metadata": {},
   "outputs": [],
   "source": [
    "import sys\n",
    "\n",
    "if not sys.warnoptions:\n",
    "    import warnings\n",
    "    warnings.simplefilter(\"ignore\")"
   ]
  },
  {
   "cell_type": "code",
   "execution_count": 3,
   "metadata": {},
   "outputs": [],
   "source": [
    "import time\n",
    "def exec_time(start, end):\n",
    "   diff_time = end - start\n",
    "   m, s = divmod(diff_time, 60)\n",
    "   h, m = divmod(m, 60)\n",
    "   s,m,h = int(round(s, 0)), int(round(m, 0)), int(round(h, 0))\n",
    "   print(\"Time: \" + \"{0:02d}:{1:02d}:{2:02d}\".format(h, m, s))\n",
    "   return(\"{0:02d}:{1:02d}:{2:02d}\".format(h, m, s))"
   ]
  },
  {
   "cell_type": "code",
   "execution_count": 4,
   "metadata": {},
   "outputs": [],
   "source": [
    "try:\n",
    "    df = pd.read_csv('/datasets/autos.csv')\n",
    "except:\n",
    "    df = pd.read_csv('https://code.s3.yandex.net/datasets/autos.csv')"
   ]
  },
  {
   "cell_type": "code",
   "execution_count": 5,
   "metadata": {},
   "outputs": [
    {
     "name": "stdout",
     "output_type": "stream",
     "text": [
      "<class 'pandas.core.frame.DataFrame'>\n",
      "RangeIndex: 354369 entries, 0 to 354368\n",
      "Data columns (total 16 columns):\n",
      " #   Column             Non-Null Count   Dtype \n",
      "---  ------             --------------   ----- \n",
      " 0   DateCrawled        354369 non-null  object\n",
      " 1   Price              354369 non-null  int64 \n",
      " 2   VehicleType        316879 non-null  object\n",
      " 3   RegistrationYear   354369 non-null  int64 \n",
      " 4   Gearbox            334536 non-null  object\n",
      " 5   Power              354369 non-null  int64 \n",
      " 6   Model              334664 non-null  object\n",
      " 7   Kilometer          354369 non-null  int64 \n",
      " 8   RegistrationMonth  354369 non-null  int64 \n",
      " 9   FuelType           321474 non-null  object\n",
      " 10  Brand              354369 non-null  object\n",
      " 11  Repaired           283215 non-null  object\n",
      " 12  DateCreated        354369 non-null  object\n",
      " 13  NumberOfPictures   354369 non-null  int64 \n",
      " 14  PostalCode         354369 non-null  int64 \n",
      " 15  LastSeen           354369 non-null  object\n",
      "dtypes: int64(7), object(9)\n",
      "memory usage: 43.3+ MB\n"
     ]
    }
   ],
   "source": [
    "df.info()"
   ]
  },
  {
   "cell_type": "markdown",
   "metadata": {},
   "source": [
    "Удалим неинформативные столбцы DateCrawled, DateCreated, PostalCode, LastSeen:"
   ]
  },
  {
   "cell_type": "code",
   "execution_count": 6,
   "metadata": {},
   "outputs": [],
   "source": [
    "df = df.drop(['DateCrawled','DateCreated','PostalCode','LastSeen'], axis=1)"
   ]
  },
  {
   "cell_type": "markdown",
   "metadata": {},
   "source": [
    "Обработаем пропуски:"
   ]
  },
  {
   "cell_type": "code",
   "execution_count": 7,
   "metadata": {},
   "outputs": [
    {
     "data": {
      "text/plain": [
       "Price                 0.000000\n",
       "VehicleType          10.579368\n",
       "RegistrationYear      0.000000\n",
       "Gearbox               5.596709\n",
       "Power                 0.000000\n",
       "Model                 5.560588\n",
       "Kilometer             0.000000\n",
       "RegistrationMonth     0.000000\n",
       "FuelType              9.282697\n",
       "Brand                 0.000000\n",
       "Repaired             20.079070\n",
       "NumberOfPictures      0.000000\n",
       "dtype: float64"
      ]
     },
     "execution_count": 7,
     "metadata": {},
     "output_type": "execute_result"
    }
   ],
   "source": [
    "df.isna().sum()/len(df)*100"
   ]
  },
  {
   "cell_type": "markdown",
   "metadata": {},
   "source": [
    "Пропусков довольно много, от 5.6% до 20%. Отметим, что все это столбцы с типом данных object, поэтому не получится заполнить пропуски соседними значениями."
   ]
  },
  {
   "cell_type": "markdown",
   "metadata": {},
   "source": [
    " Заменим значения NaN на unknown:"
   ]
  },
  {
   "cell_type": "code",
   "execution_count": 8,
   "metadata": {},
   "outputs": [],
   "source": [
    "df['VehicleType'] = df['VehicleType'].fillna(value='unknown');"
   ]
  },
  {
   "cell_type": "code",
   "execution_count": 9,
   "metadata": {},
   "outputs": [],
   "source": [
    "df['Gearbox'] = df['Gearbox'].fillna(value='unknown');"
   ]
  },
  {
   "cell_type": "code",
   "execution_count": 10,
   "metadata": {},
   "outputs": [],
   "source": [
    "df['Model'] = df['Model'].fillna(value='unknown');"
   ]
  },
  {
   "cell_type": "code",
   "execution_count": 11,
   "metadata": {},
   "outputs": [],
   "source": [
    "df['FuelType'] = df['FuelType'].fillna(value='unknown');"
   ]
  },
  {
   "cell_type": "code",
   "execution_count": 12,
   "metadata": {},
   "outputs": [],
   "source": [
    "df['Repaired'] = df['Repaired'].fillna(value='unknown');"
   ]
  },
  {
   "cell_type": "code",
   "execution_count": 13,
   "metadata": {},
   "outputs": [
    {
     "data": {
      "text/plain": [
       "Price                0.0\n",
       "VehicleType          0.0\n",
       "RegistrationYear     0.0\n",
       "Gearbox              0.0\n",
       "Power                0.0\n",
       "Model                0.0\n",
       "Kilometer            0.0\n",
       "RegistrationMonth    0.0\n",
       "FuelType             0.0\n",
       "Brand                0.0\n",
       "Repaired             0.0\n",
       "NumberOfPictures     0.0\n",
       "dtype: float64"
      ]
     },
     "execution_count": 13,
     "metadata": {},
     "output_type": "execute_result"
    }
   ],
   "source": [
    "#check\n",
    "df.isna().sum()/len(df)*100"
   ]
  },
  {
   "cell_type": "markdown",
   "metadata": {},
   "source": [
    "**Посмотрим на заполненность данных в числовых значениях:**"
   ]
  },
  {
   "cell_type": "code",
   "execution_count": 14,
   "metadata": {},
   "outputs": [
    {
     "name": "stdout",
     "output_type": "stream",
     "text": [
      "Price 3.0397692800442475\n",
      "VehicleType 0.0\n",
      "RegistrationYear 0.0\n",
      "Gearbox 0.0\n",
      "Power 11.351162206626427\n",
      "Model 0.0\n",
      "Kilometer 0.0\n",
      "RegistrationMonth 10.540425375808832\n",
      "FuelType 0.0\n",
      "Brand 0.0\n",
      "Repaired 0.0\n",
      "NumberOfPictures 100.0\n"
     ]
    }
   ],
   "source": [
    "for i in df.columns:\n",
    "    print(i, df.loc[df[i] == 0 , i].count()/len(df)*100)"
   ]
  },
  {
   "cell_type": "markdown",
   "metadata": {},
   "source": [
    "Достаточно много позиций заполнены нулями. Характер данных не позволяет заполнить их соседними значениями, оставим их как есть, только удалим столбец NumberOfPictures - он заполнен нулями на 100%. "
   ]
  },
  {
   "cell_type": "code",
   "execution_count": 15,
   "metadata": {},
   "outputs": [],
   "source": [
    "df = df.drop(['NumberOfPictures'], axis=1)"
   ]
  },
  {
   "cell_type": "code",
   "execution_count": 16,
   "metadata": {},
   "outputs": [
    {
     "data": {
      "text/plain": [
       "354369"
      ]
     },
     "execution_count": 16,
     "metadata": {},
     "output_type": "execute_result"
    }
   ],
   "source": [
    "#check\n",
    "len(df)"
   ]
  },
  {
   "cell_type": "code",
   "execution_count": 17,
   "metadata": {},
   "outputs": [
    {
     "data": {
      "text/html": [
       "<div>\n",
       "<style scoped>\n",
       "    .dataframe tbody tr th:only-of-type {\n",
       "        vertical-align: middle;\n",
       "    }\n",
       "\n",
       "    .dataframe tbody tr th {\n",
       "        vertical-align: top;\n",
       "    }\n",
       "\n",
       "    .dataframe thead th {\n",
       "        text-align: right;\n",
       "    }\n",
       "</style>\n",
       "<table border=\"1\" class=\"dataframe\">\n",
       "  <thead>\n",
       "    <tr style=\"text-align: right;\">\n",
       "      <th></th>\n",
       "      <th>Price</th>\n",
       "      <th>RegistrationYear</th>\n",
       "      <th>Power</th>\n",
       "      <th>Kilometer</th>\n",
       "      <th>RegistrationMonth</th>\n",
       "    </tr>\n",
       "  </thead>\n",
       "  <tbody>\n",
       "    <tr>\n",
       "      <th>count</th>\n",
       "      <td>354369.000000</td>\n",
       "      <td>354369.000000</td>\n",
       "      <td>354369.000000</td>\n",
       "      <td>354369.000000</td>\n",
       "      <td>354369.000000</td>\n",
       "    </tr>\n",
       "    <tr>\n",
       "      <th>mean</th>\n",
       "      <td>4416.656776</td>\n",
       "      <td>2004.234448</td>\n",
       "      <td>110.094337</td>\n",
       "      <td>128211.172535</td>\n",
       "      <td>5.714645</td>\n",
       "    </tr>\n",
       "    <tr>\n",
       "      <th>std</th>\n",
       "      <td>4514.158514</td>\n",
       "      <td>90.227958</td>\n",
       "      <td>189.850405</td>\n",
       "      <td>37905.341530</td>\n",
       "      <td>3.726421</td>\n",
       "    </tr>\n",
       "    <tr>\n",
       "      <th>min</th>\n",
       "      <td>0.000000</td>\n",
       "      <td>1000.000000</td>\n",
       "      <td>0.000000</td>\n",
       "      <td>5000.000000</td>\n",
       "      <td>0.000000</td>\n",
       "    </tr>\n",
       "    <tr>\n",
       "      <th>25%</th>\n",
       "      <td>1050.000000</td>\n",
       "      <td>1999.000000</td>\n",
       "      <td>69.000000</td>\n",
       "      <td>125000.000000</td>\n",
       "      <td>3.000000</td>\n",
       "    </tr>\n",
       "    <tr>\n",
       "      <th>50%</th>\n",
       "      <td>2700.000000</td>\n",
       "      <td>2003.000000</td>\n",
       "      <td>105.000000</td>\n",
       "      <td>150000.000000</td>\n",
       "      <td>6.000000</td>\n",
       "    </tr>\n",
       "    <tr>\n",
       "      <th>75%</th>\n",
       "      <td>6400.000000</td>\n",
       "      <td>2008.000000</td>\n",
       "      <td>143.000000</td>\n",
       "      <td>150000.000000</td>\n",
       "      <td>9.000000</td>\n",
       "    </tr>\n",
       "    <tr>\n",
       "      <th>max</th>\n",
       "      <td>20000.000000</td>\n",
       "      <td>9999.000000</td>\n",
       "      <td>20000.000000</td>\n",
       "      <td>150000.000000</td>\n",
       "      <td>12.000000</td>\n",
       "    </tr>\n",
       "  </tbody>\n",
       "</table>\n",
       "</div>"
      ],
      "text/plain": [
       "               Price  RegistrationYear          Power      Kilometer  \\\n",
       "count  354369.000000     354369.000000  354369.000000  354369.000000   \n",
       "mean     4416.656776       2004.234448     110.094337  128211.172535   \n",
       "std      4514.158514         90.227958     189.850405   37905.341530   \n",
       "min         0.000000       1000.000000       0.000000    5000.000000   \n",
       "25%      1050.000000       1999.000000      69.000000  125000.000000   \n",
       "50%      2700.000000       2003.000000     105.000000  150000.000000   \n",
       "75%      6400.000000       2008.000000     143.000000  150000.000000   \n",
       "max     20000.000000       9999.000000   20000.000000  150000.000000   \n",
       "\n",
       "       RegistrationMonth  \n",
       "count      354369.000000  \n",
       "mean            5.714645  \n",
       "std             3.726421  \n",
       "min             0.000000  \n",
       "25%             3.000000  \n",
       "50%             6.000000  \n",
       "75%             9.000000  \n",
       "max            12.000000  "
      ]
     },
     "execution_count": 17,
     "metadata": {},
     "output_type": "execute_result"
    }
   ],
   "source": [
    "df.describe()"
   ]
  },
  {
   "cell_type": "markdown",
   "metadata": {},
   "source": [
    "Видим подозрительные значения в RegistrationYear, Power, Kilometer. Рассмотрим их далее"
   ]
  },
  {
   "cell_type": "markdown",
   "metadata": {},
   "source": [
    "**RegistrationYear**"
   ]
  },
  {
   "cell_type": "code",
   "execution_count": 18,
   "metadata": {},
   "outputs": [
    {
     "data": {
      "image/png": "[encoded data removed]",
      "text/plain": [
       "<Figure size 720x360 with 1 Axes>"
      ]
     },
     "metadata": {
      "needs_background": "light"
     },
     "output_type": "display_data"
    }
   ],
   "source": [
    "df['RegistrationYear'].plot(kind='hist', bins=75, figsize=(10,5), rot=90, grid=True, range=(1950, 2023));\n",
    "plt.locator_params(axis='x', nbins = 60)"
   ]
  },
  {
   "cell_type": "code",
   "execution_count": 19,
   "metadata": {},
   "outputs": [
    {
     "data": {
      "text/plain": [
       "0.09904929607273774"
      ]
     },
     "execution_count": 19,
     "metadata": {},
     "output_type": "execute_result"
    }
   ],
   "source": [
    "#check\n",
    "df.loc[(df['RegistrationYear']<1950) | (df['RegistrationYear']>2023), 'RegistrationYear'].count()/len(df)*100"
   ]
  },
  {
   "cell_type": "markdown",
   "metadata": {},
   "source": [
    "Около 0.1 процента составляют значения менее 1950 либо больше 2023, удалим такие строки"
   ]
  },
  {
   "cell_type": "code",
   "execution_count": 20,
   "metadata": {},
   "outputs": [],
   "source": [
    "df = df[(df['RegistrationYear'] >= 1950) & (df['RegistrationYear'] <= 2023)]"
   ]
  },
  {
   "cell_type": "code",
   "execution_count": 21,
   "metadata": {},
   "outputs": [
    {
     "data": {
      "text/plain": [
       "0"
      ]
     },
     "execution_count": 21,
     "metadata": {},
     "output_type": "execute_result"
    }
   ],
   "source": [
    "#check\n",
    "df.loc[(df['RegistrationYear']<1950) | (df['RegistrationYear']>2023), 'RegistrationYear'].count()"
   ]
  },
  {
   "cell_type": "markdown",
   "metadata": {},
   "source": [
    "**Power**"
   ]
  },
  {
   "cell_type": "code",
   "execution_count": 22,
   "metadata": {},
   "outputs": [
    {
     "data": {
      "image/png": "[encoded data removed]",
      "text/plain": [
       "<Figure size 720x360 with 1 Axes>"
      ]
     },
     "metadata": {
      "needs_background": "light"
     },
     "output_type": "display_data"
    }
   ],
   "source": [
    "df['Power'].plot(kind='hist', bins=110, figsize=(10,5), rot=90, grid=True, range=(0, 500));\n",
    "plt.locator_params(axis='x', nbins = 60)"
   ]
  },
  {
   "cell_type": "code",
   "execution_count": 23,
   "metadata": {},
   "outputs": [
    {
     "data": {
      "text/plain": [
       "0.35478422001141185"
      ]
     },
     "execution_count": 23,
     "metadata": {},
     "output_type": "execute_result"
    }
   ],
   "source": [
    "df.loc[((df['Power']<30) | (df['Power']>600)) & (df['Power'] != 0), 'RegistrationYear'].count()/len(df)*100"
   ]
  },
  {
   "cell_type": "markdown",
   "metadata": {},
   "source": [
    "Как мы узнали ранее, около 11% данных Power заполнены нулями. Оставим их."
   ]
  },
  {
   "cell_type": "markdown",
   "metadata": {},
   "source": [
    "Тем не менее, около 0.35% данных имеют аномальные значения менее 30 либо более 600. Удалим их"
   ]
  },
  {
   "cell_type": "code",
   "execution_count": 24,
   "metadata": {},
   "outputs": [],
   "source": [
    "df = df[((df['Power'] >= 30) & (df['Power'] <= 600)) | (df['Power'] == 0)]"
   ]
  },
  {
   "cell_type": "code",
   "execution_count": 25,
   "metadata": {},
   "outputs": [
    {
     "data": {
      "text/plain": [
       "0.0"
      ]
     },
     "execution_count": 25,
     "metadata": {},
     "output_type": "execute_result"
    }
   ],
   "source": [
    "#check\n",
    "df.loc[((df['Power']<30) | (df['Power']>600)) & (df['Power'] != 0), 'RegistrationYear'].count()/len(df)*100"
   ]
  },
  {
   "cell_type": "markdown",
   "metadata": {},
   "source": [
    "**Kilometer**"
   ]
  },
  {
   "cell_type": "code",
   "execution_count": 26,
   "metadata": {},
   "outputs": [
    {
     "data": {
      "image/png": "[encoded data removed]",
      "text/plain": [
       "<Figure size 720x360 with 1 Axes>"
      ]
     },
     "metadata": {
      "needs_background": "light"
     },
     "output_type": "display_data"
    }
   ],
   "source": [
    "df['Kilometer'].plot(kind='hist', bins=110, figsize=(10,5), rot=90, grid=True);\n",
    "plt.locator_params(axis='x', nbins = 60)"
   ]
  },
  {
   "cell_type": "code",
   "execution_count": 27,
   "metadata": {},
   "outputs": [
    {
     "data": {
      "text/plain": [
       "array([150000, 125000,  90000,  40000,  30000,  70000, 100000,  60000,\n",
       "         5000,  20000,  80000,  50000,  10000], dtype=int64)"
      ]
     },
     "execution_count": 27,
     "metadata": {},
     "output_type": "execute_result"
    }
   ],
   "source": [
    "#check\n",
    "df['Kilometer'].unique()"
   ]
  },
  {
   "cell_type": "code",
   "execution_count": 28,
   "metadata": {},
   "outputs": [
    {
     "data": {
      "text/plain": [
       "150000    67.409755\n",
       "125000    10.313753\n",
       "100000     4.199432\n",
       "90000      3.263957\n",
       "80000      2.833072\n",
       "70000      2.415226\n",
       "60000      2.087243\n",
       "50000      1.743952\n",
       "5000       1.720140\n",
       "40000      1.369195\n",
       "30000      1.230858\n",
       "20000      1.098191\n",
       "10000      0.315227\n",
       "Name: Kilometer, dtype: float64"
      ]
     },
     "execution_count": 28,
     "metadata": {},
     "output_type": "execute_result"
    }
   ],
   "source": [
    "df['Kilometer'].value_counts()/len(df)*100"
   ]
  },
  {
   "cell_type": "markdown",
   "metadata": {},
   "source": [
    "порядка 67% всех значений это 150тыс км, видимо, это максимально большое значение, доступное к выбору. Скорее всего, имелось в виду \"150тыс и более\". Оставим, как есть."
   ]
  },
  {
   "cell_type": "code",
   "execution_count": 29,
   "metadata": {},
   "outputs": [
    {
     "name": "stdout",
     "output_type": "stream",
     "text": [
      "<class 'pandas.core.frame.DataFrame'>\n",
      "Int64Index: 352762 entries, 0 to 354368\n",
      "Data columns (total 11 columns):\n",
      " #   Column             Non-Null Count   Dtype \n",
      "---  ------             --------------   ----- \n",
      " 0   Price              352762 non-null  int64 \n",
      " 1   VehicleType        352762 non-null  object\n",
      " 2   RegistrationYear   352762 non-null  int64 \n",
      " 3   Gearbox            352762 non-null  object\n",
      " 4   Power              352762 non-null  int64 \n",
      " 5   Model              352762 non-null  object\n",
      " 6   Kilometer          352762 non-null  int64 \n",
      " 7   RegistrationMonth  352762 non-null  int64 \n",
      " 8   FuelType           352762 non-null  object\n",
      " 9   Brand              352762 non-null  object\n",
      " 10  Repaired           352762 non-null  object\n",
      "dtypes: int64(5), object(6)\n",
      "memory usage: 32.3+ MB\n"
     ]
    }
   ],
   "source": [
    "#check\n",
    "df.info()"
   ]
  },
  {
   "cell_type": "code",
   "execution_count": 30,
   "metadata": {},
   "outputs": [
    {
     "data": {
      "text/html": [
       "<div>\n",
       "<style scoped>\n",
       "    .dataframe tbody tr th:only-of-type {\n",
       "        vertical-align: middle;\n",
       "    }\n",
       "\n",
       "    .dataframe tbody tr th {\n",
       "        vertical-align: top;\n",
       "    }\n",
       "\n",
       "    .dataframe thead th {\n",
       "        text-align: right;\n",
       "    }\n",
       "</style>\n",
       "<table border=\"1\" class=\"dataframe\">\n",
       "  <thead>\n",
       "    <tr style=\"text-align: right;\">\n",
       "      <th></th>\n",
       "      <th>Price</th>\n",
       "      <th>RegistrationYear</th>\n",
       "      <th>Power</th>\n",
       "      <th>Kilometer</th>\n",
       "      <th>RegistrationMonth</th>\n",
       "    </tr>\n",
       "  </thead>\n",
       "  <tbody>\n",
       "    <tr>\n",
       "      <th>count</th>\n",
       "      <td>352762.000000</td>\n",
       "      <td>352762.000000</td>\n",
       "      <td>352762.000000</td>\n",
       "      <td>352762.000000</td>\n",
       "      <td>352762.000000</td>\n",
       "    </tr>\n",
       "    <tr>\n",
       "      <th>mean</th>\n",
       "      <td>4421.310351</td>\n",
       "      <td>2003.160510</td>\n",
       "      <td>106.777589</td>\n",
       "      <td>128479.357187</td>\n",
       "      <td>5.720707</td>\n",
       "    </tr>\n",
       "    <tr>\n",
       "      <th>std</th>\n",
       "      <td>4515.877666</td>\n",
       "      <td>7.238426</td>\n",
       "      <td>63.330216</td>\n",
       "      <td>37584.921102</td>\n",
       "      <td>3.724276</td>\n",
       "    </tr>\n",
       "    <tr>\n",
       "      <th>min</th>\n",
       "      <td>0.000000</td>\n",
       "      <td>1950.000000</td>\n",
       "      <td>0.000000</td>\n",
       "      <td>5000.000000</td>\n",
       "      <td>0.000000</td>\n",
       "    </tr>\n",
       "    <tr>\n",
       "      <th>25%</th>\n",
       "      <td>1090.000000</td>\n",
       "      <td>1999.000000</td>\n",
       "      <td>69.000000</td>\n",
       "      <td>125000.000000</td>\n",
       "      <td>3.000000</td>\n",
       "    </tr>\n",
       "    <tr>\n",
       "      <th>50%</th>\n",
       "      <td>2700.000000</td>\n",
       "      <td>2003.000000</td>\n",
       "      <td>105.000000</td>\n",
       "      <td>150000.000000</td>\n",
       "      <td>6.000000</td>\n",
       "    </tr>\n",
       "    <tr>\n",
       "      <th>75%</th>\n",
       "      <td>6400.000000</td>\n",
       "      <td>2008.000000</td>\n",
       "      <td>143.000000</td>\n",
       "      <td>150000.000000</td>\n",
       "      <td>9.000000</td>\n",
       "    </tr>\n",
       "    <tr>\n",
       "      <th>max</th>\n",
       "      <td>20000.000000</td>\n",
       "      <td>2019.000000</td>\n",
       "      <td>600.000000</td>\n",
       "      <td>150000.000000</td>\n",
       "      <td>12.000000</td>\n",
       "    </tr>\n",
       "  </tbody>\n",
       "</table>\n",
       "</div>"
      ],
      "text/plain": [
       "               Price  RegistrationYear          Power      Kilometer  \\\n",
       "count  352762.000000     352762.000000  352762.000000  352762.000000   \n",
       "mean     4421.310351       2003.160510     106.777589  128479.357187   \n",
       "std      4515.877666          7.238426      63.330216   37584.921102   \n",
       "min         0.000000       1950.000000       0.000000    5000.000000   \n",
       "25%      1090.000000       1999.000000      69.000000  125000.000000   \n",
       "50%      2700.000000       2003.000000     105.000000  150000.000000   \n",
       "75%      6400.000000       2008.000000     143.000000  150000.000000   \n",
       "max     20000.000000       2019.000000     600.000000  150000.000000   \n",
       "\n",
       "       RegistrationMonth  \n",
       "count      352762.000000  \n",
       "mean            5.720707  \n",
       "std             3.724276  \n",
       "min             0.000000  \n",
       "25%             3.000000  \n",
       "50%             6.000000  \n",
       "75%             9.000000  \n",
       "max            12.000000  "
      ]
     },
     "execution_count": 30,
     "metadata": {},
     "output_type": "execute_result"
    }
   ],
   "source": [
    "#check\n",
    "df.describe()"
   ]
  },
  {
   "cell_type": "markdown",
   "metadata": {},
   "source": [
    "**Вывод:** Данные подготовлены, потери составили 0.45%, что допустимо."
   ]
  },
  {
   "cell_type": "markdown",
   "metadata": {},
   "source": [
    "## Обучение моделей"
   ]
  },
  {
   "cell_type": "markdown",
   "metadata": {},
   "source": [
    "Разделим данные на выборки и выделим целевой признак"
   ]
  },
  {
   "cell_type": "markdown",
   "metadata": {},
   "source": [
    "Разделим данные на выборки в пропорции 60:20:20"
   ]
  },
  {
   "cell_type": "code",
   "execution_count": 31,
   "metadata": {},
   "outputs": [
    {
     "name": "stdout",
     "output_type": "stream",
     "text": [
      "(211656, 10)\n",
      "(70553, 10)\n",
      "(70553, 10)\n"
     ]
    }
   ],
   "source": [
    "features = df.drop(['Price'], axis = 1)  \n",
    "target = df['Price'] \n",
    "\n",
    "features_train, features_valid, target_train, target_valid = train_test_split(features,target, test_size=0.2,train_size=0.8,random_state=123)\n",
    "features_train, features_test, target_train, target_test = train_test_split(features_train, target_train, test_size=0.25,train_size=0.75,random_state=123)\n",
    "\n",
    "print(features_train.shape)\n",
    "print(features_valid.shape)\n",
    "print(features_test.shape)"
   ]
  },
  {
   "cell_type": "code",
   "execution_count": 32,
   "metadata": {},
   "outputs": [
    {
     "data": {
      "text/html": [
       "<div>\n",
       "<style scoped>\n",
       "    .dataframe tbody tr th:only-of-type {\n",
       "        vertical-align: middle;\n",
       "    }\n",
       "\n",
       "    .dataframe tbody tr th {\n",
       "        vertical-align: top;\n",
       "    }\n",
       "\n",
       "    .dataframe thead th {\n",
       "        text-align: right;\n",
       "    }\n",
       "</style>\n",
       "<table border=\"1\" class=\"dataframe\">\n",
       "  <thead>\n",
       "    <tr style=\"text-align: right;\">\n",
       "      <th></th>\n",
       "      <th>Price</th>\n",
       "      <th>VehicleType</th>\n",
       "      <th>RegistrationYear</th>\n",
       "      <th>Gearbox</th>\n",
       "      <th>Power</th>\n",
       "      <th>Model</th>\n",
       "      <th>Kilometer</th>\n",
       "      <th>RegistrationMonth</th>\n",
       "      <th>FuelType</th>\n",
       "      <th>Brand</th>\n",
       "      <th>Repaired</th>\n",
       "    </tr>\n",
       "  </thead>\n",
       "  <tbody>\n",
       "    <tr>\n",
       "      <th>0</th>\n",
       "      <td>480</td>\n",
       "      <td>unknown</td>\n",
       "      <td>1993</td>\n",
       "      <td>manual</td>\n",
       "      <td>0</td>\n",
       "      <td>golf</td>\n",
       "      <td>150000</td>\n",
       "      <td>0</td>\n",
       "      <td>petrol</td>\n",
       "      <td>volkswagen</td>\n",
       "      <td>unknown</td>\n",
       "    </tr>\n",
       "    <tr>\n",
       "      <th>1</th>\n",
       "      <td>18300</td>\n",
       "      <td>coupe</td>\n",
       "      <td>2011</td>\n",
       "      <td>manual</td>\n",
       "      <td>190</td>\n",
       "      <td>unknown</td>\n",
       "      <td>125000</td>\n",
       "      <td>5</td>\n",
       "      <td>gasoline</td>\n",
       "      <td>audi</td>\n",
       "      <td>yes</td>\n",
       "    </tr>\n",
       "    <tr>\n",
       "      <th>2</th>\n",
       "      <td>9800</td>\n",
       "      <td>suv</td>\n",
       "      <td>2004</td>\n",
       "      <td>auto</td>\n",
       "      <td>163</td>\n",
       "      <td>grand</td>\n",
       "      <td>125000</td>\n",
       "      <td>8</td>\n",
       "      <td>gasoline</td>\n",
       "      <td>jeep</td>\n",
       "      <td>unknown</td>\n",
       "    </tr>\n",
       "    <tr>\n",
       "      <th>3</th>\n",
       "      <td>1500</td>\n",
       "      <td>small</td>\n",
       "      <td>2001</td>\n",
       "      <td>manual</td>\n",
       "      <td>75</td>\n",
       "      <td>golf</td>\n",
       "      <td>150000</td>\n",
       "      <td>6</td>\n",
       "      <td>petrol</td>\n",
       "      <td>volkswagen</td>\n",
       "      <td>no</td>\n",
       "    </tr>\n",
       "    <tr>\n",
       "      <th>4</th>\n",
       "      <td>3600</td>\n",
       "      <td>small</td>\n",
       "      <td>2008</td>\n",
       "      <td>manual</td>\n",
       "      <td>69</td>\n",
       "      <td>fabia</td>\n",
       "      <td>90000</td>\n",
       "      <td>7</td>\n",
       "      <td>gasoline</td>\n",
       "      <td>skoda</td>\n",
       "      <td>no</td>\n",
       "    </tr>\n",
       "  </tbody>\n",
       "</table>\n",
       "</div>"
      ],
      "text/plain": [
       "   Price VehicleType  RegistrationYear Gearbox  Power    Model  Kilometer  \\\n",
       "0    480     unknown              1993  manual      0     golf     150000   \n",
       "1  18300       coupe              2011  manual    190  unknown     125000   \n",
       "2   9800         suv              2004    auto    163    grand     125000   \n",
       "3   1500       small              2001  manual     75     golf     150000   \n",
       "4   3600       small              2008  manual     69    fabia      90000   \n",
       "\n",
       "   RegistrationMonth  FuelType       Brand Repaired  \n",
       "0                  0    petrol  volkswagen  unknown  \n",
       "1                  5  gasoline        audi      yes  \n",
       "2                  8  gasoline        jeep  unknown  \n",
       "3                  6    petrol  volkswagen       no  \n",
       "4                  7  gasoline       skoda       no  "
      ]
     },
     "execution_count": 32,
     "metadata": {},
     "output_type": "execute_result"
    }
   ],
   "source": [
    "#check\n",
    "df.head()"
   ]
  },
  {
   "cell_type": "markdown",
   "metadata": {},
   "source": [
    "Обучение моделей и подбор гиперпараметров\n",
    "LGBMRegressor\n",
    "Судя по документации LGBMRegressor не требует кодирования категориальных признаков\n",
    "categorical_feature — принимает список строк/целых чисел или строку auto. Если мы передадим список строк/целых чисел, тогда указанные столбцы из набора данных будут рассматриваться как категориальные."
   ]
  },
  {
   "cell_type": "code",
   "execution_count": 33,
   "metadata": {
    "scrolled": true
   },
   "outputs": [
    {
     "data": {
      "text/html": [
       "<div>\n",
       "<style scoped>\n",
       "    .dataframe tbody tr th:only-of-type {\n",
       "        vertical-align: middle;\n",
       "    }\n",
       "\n",
       "    .dataframe tbody tr th {\n",
       "        vertical-align: top;\n",
       "    }\n",
       "\n",
       "    .dataframe thead th {\n",
       "        text-align: right;\n",
       "    }\n",
       "</style>\n",
       "<table border=\"1\" class=\"dataframe\">\n",
       "  <thead>\n",
       "    <tr style=\"text-align: right;\">\n",
       "      <th></th>\n",
       "      <th>VehicleType</th>\n",
       "      <th>RegistrationYear</th>\n",
       "      <th>Gearbox</th>\n",
       "      <th>Power</th>\n",
       "      <th>Model</th>\n",
       "      <th>Kilometer</th>\n",
       "      <th>RegistrationMonth</th>\n",
       "      <th>FuelType</th>\n",
       "      <th>Brand</th>\n",
       "      <th>Repaired</th>\n",
       "    </tr>\n",
       "  </thead>\n",
       "  <tbody>\n",
       "    <tr>\n",
       "      <th>117935</th>\n",
       "      <td>unknown</td>\n",
       "      <td>2017</td>\n",
       "      <td>auto</td>\n",
       "      <td>0</td>\n",
       "      <td>a3</td>\n",
       "      <td>150000</td>\n",
       "      <td>0</td>\n",
       "      <td>petrol</td>\n",
       "      <td>audi</td>\n",
       "      <td>unknown</td>\n",
       "    </tr>\n",
       "  </tbody>\n",
       "</table>\n",
       "</div>"
      ],
      "text/plain": [
       "       VehicleType  RegistrationYear Gearbox  Power Model  Kilometer  \\\n",
       "117935     unknown              2017    auto      0    a3     150000   \n",
       "\n",
       "        RegistrationMonth FuelType Brand Repaired  \n",
       "117935                  0   petrol  audi  unknown  "
      ]
     },
     "metadata": {},
     "output_type": "display_data"
    },
    {
     "name": "stdout",
     "output_type": "stream",
     "text": [
      "[0, 2, 4, 7, 8, 9]\n"
     ]
    }
   ],
   "source": [
    "display(features_train.head(1))\n",
    "categorical_features = [0,2,4,7,8,9]\n",
    "print(categorical_features)\n",
    "for i in ['VehicleType','Gearbox','Model','FuelType','Brand','Repaired']:\n",
    "    features_train[i]=features_train[i].astype('category')\n",
    "    features_valid[i]=features_valid[i].astype('category')\n",
    "    features_test[i]=features_test[i].astype('category')"
   ]
  },
  {
   "cell_type": "code",
   "execution_count": 34,
   "metadata": {},
   "outputs": [
    {
     "name": "stdout",
     "output_type": "stream",
     "text": [
      "Time: 00:00:01\n",
      "00:00:01\n",
      "Wall time: 1.07 s\n"
     ]
    }
   ],
   "source": [
    "%%time\n",
    "\n",
    "start = time.time() \n",
    "\n",
    "LGBM_model = lgb.LGBMRegressor(num_leaves= 100, learning_rate=0.05, max_depth=15, n_estimators=100)\n",
    "LGBM_model.fit(features_train, target_train, eval_metric='rmse', categorical_feature=categorical_features)\n",
    "\n",
    "end = time.time()\n",
    "\n",
    "LGBM_learn=exec_time(start,end)\n",
    "\n",
    "print(LGBM_learn)"
   ]
  },
  {
   "cell_type": "code",
   "execution_count": 35,
   "metadata": {},
   "outputs": [
    {
     "name": "stdout",
     "output_type": "stream",
     "text": [
      "RMSE for LGBMR -> test: 1725.6953195767103\n",
      "Time: 00:00:00\n",
      "00:00:00\n",
      "Wall time: 169 ms\n"
     ]
    }
   ],
   "source": [
    "%%time\n",
    "\n",
    "start = time.time() \n",
    "\n",
    "predicted_test_LGBM = LGBM_model.predict(features_test)\n",
    "\n",
    "end = time.time()\n",
    "\n",
    "print('RMSE for LGBMR -> test:', mean_squared_error(target_test, predicted_test_LGBM) ** 0.5)\n",
    "\n",
    "LGBM_predict=exec_time(start,end)\n",
    "LGBM_RMSE=mean_squared_error(target_test, predicted_test_LGBM) ** 0.5\n",
    "print(LGBM_predict)"
   ]
  },
  {
   "cell_type": "code",
   "execution_count": 46,
   "metadata": {},
   "outputs": [
    {
     "name": "stdout",
     "output_type": "stream",
     "text": [
      "Fitting 5 folds for each of 4 candidates, totalling 20 fits\n",
      "[CV 1/5; 1/4] START learning_rate=0.05, max_depth=5.............................\n",
      "[CV 1/5; 1/4] END ...........learning_rate=0.05, max_depth=5; total time=   0.5s\n",
      "[CV 2/5; 1/4] START learning_rate=0.05, max_depth=5.............................\n",
      "[CV 2/5; 1/4] END ...........learning_rate=0.05, max_depth=5; total time=   0.5s\n",
      "[CV 3/5; 1/4] START learning_rate=0.05, max_depth=5.............................\n",
      "[CV 3/5; 1/4] END ...........learning_rate=0.05, max_depth=5; total time=   0.5s\n",
      "[CV 4/5; 1/4] START learning_rate=0.05, max_depth=5.............................\n",
      "[CV 4/5; 1/4] END ...........learning_rate=0.05, max_depth=5; total time=   0.5s\n",
      "[CV 5/5; 1/4] START learning_rate=0.05, max_depth=5.............................\n",
      "[CV 5/5; 1/4] END ...........learning_rate=0.05, max_depth=5; total time=   0.5s\n",
      "[CV 1/5; 2/4] START learning_rate=0.05, max_depth=15............................\n",
      "[CV 1/5; 2/4] END ..........learning_rate=0.05, max_depth=15; total time=   0.6s\n",
      "[CV 2/5; 2/4] START learning_rate=0.05, max_depth=15............................\n",
      "[CV 2/5; 2/4] END ..........learning_rate=0.05, max_depth=15; total time=   0.6s\n",
      "[CV 3/5; 2/4] START learning_rate=0.05, max_depth=15............................\n",
      "[CV 3/5; 2/4] END ..........learning_rate=0.05, max_depth=15; total time=   0.6s\n",
      "[CV 4/5; 2/4] START learning_rate=0.05, max_depth=15............................\n",
      "[CV 4/5; 2/4] END ..........learning_rate=0.05, max_depth=15; total time=   0.6s\n",
      "[CV 5/5; 2/4] START learning_rate=0.05, max_depth=15............................\n",
      "[CV 5/5; 2/4] END ..........learning_rate=0.05, max_depth=15; total time=   0.6s\n",
      "[CV 1/5; 3/4] START learning_rate=0.1, max_depth=5..............................\n",
      "[CV 1/5; 3/4] END ............learning_rate=0.1, max_depth=5; total time=   0.4s\n",
      "[CV 2/5; 3/4] START learning_rate=0.1, max_depth=5..............................\n",
      "[CV 2/5; 3/4] END ............learning_rate=0.1, max_depth=5; total time=   0.4s\n",
      "[CV 3/5; 3/4] START learning_rate=0.1, max_depth=5..............................\n",
      "[CV 3/5; 3/4] END ............learning_rate=0.1, max_depth=5; total time=   0.4s\n",
      "[CV 4/5; 3/4] START learning_rate=0.1, max_depth=5..............................\n",
      "[CV 4/5; 3/4] END ............learning_rate=0.1, max_depth=5; total time=   0.4s\n",
      "[CV 5/5; 3/4] START learning_rate=0.1, max_depth=5..............................\n",
      "[CV 5/5; 3/4] END ............learning_rate=0.1, max_depth=5; total time=   0.4s\n",
      "[CV 1/5; 4/4] START learning_rate=0.1, max_depth=15.............................\n",
      "[CV 1/5; 4/4] END ...........learning_rate=0.1, max_depth=15; total time=   0.6s\n",
      "[CV 2/5; 4/4] START learning_rate=0.1, max_depth=15.............................\n",
      "[CV 2/5; 4/4] END ...........learning_rate=0.1, max_depth=15; total time=   0.5s\n",
      "[CV 3/5; 4/4] START learning_rate=0.1, max_depth=15.............................\n",
      "[CV 3/5; 4/4] END ...........learning_rate=0.1, max_depth=15; total time=   0.5s\n",
      "[CV 4/5; 4/4] START learning_rate=0.1, max_depth=15.............................\n",
      "[CV 4/5; 4/4] END ...........learning_rate=0.1, max_depth=15; total time=   0.5s\n",
      "[CV 5/5; 4/4] START learning_rate=0.1, max_depth=15.............................\n",
      "[CV 5/5; 4/4] END ...........learning_rate=0.1, max_depth=15; total time=   0.5s\n",
      "best params\n",
      " {'learning_rate': 0.1, 'max_depth': 15}\n",
      "best RMSE\n",
      " 1778.2779010469599\n",
      "Wall time: 13 s\n"
     ]
    }
   ],
   "source": [
    "%%time\n",
    "param_grid = {'max_depth':[5,15],\n",
    "              'learning_rate': [0.05,0.1],\n",
    "              }\n",
    "LGBM_model = lgb.LGBMRegressor()\n",
    "                                  \n",
    "parameters_LGBM = GridSearchCV(estimator = LGBM_model,param_grid = param_grid,n_jobs=1,verbose=10,scoring= 'neg_root_mean_squared_error',cv=5)\n",
    "\n",
    "parameters_LGBM.fit(features_train, target_train)\n",
    "print('best params\\n', parameters_LGBM.best_params_)\n",
    "print('best RMSE\\n', -parameters_LGBM.best_score_)"
   ]
  },
  {
   "cell_type": "markdown",
   "metadata": {},
   "source": [
    "**CatBoost**\n",
    "\n",
    "CatBoost также не требует кодирования категориальных признаков"
   ]
  },
  {
   "cell_type": "code",
   "execution_count": 37,
   "metadata": {},
   "outputs": [
    {
     "name": "stdout",
     "output_type": "stream",
     "text": [
      "0:\tlearn: 4422.4209527\ttotal: 225ms\tremaining: 33.6s\n",
      "10:\tlearn: 3657.7957766\ttotal: 1.07s\tremaining: 13.5s\n",
      "20:\tlearn: 3137.0653966\ttotal: 1.88s\tremaining: 11.5s\n",
      "30:\tlearn: 2782.7250366\ttotal: 2.69s\tremaining: 10.3s\n",
      "40:\tlearn: 2532.5515445\ttotal: 3.5s\tremaining: 9.31s\n",
      "50:\tlearn: 2351.2492037\ttotal: 4.32s\tremaining: 8.39s\n",
      "60:\tlearn: 2228.8048335\ttotal: 5.14s\tremaining: 7.5s\n",
      "70:\tlearn: 2136.9858280\ttotal: 5.94s\tremaining: 6.61s\n",
      "80:\tlearn: 2066.4648854\ttotal: 6.76s\tremaining: 5.75s\n",
      "90:\tlearn: 2016.9131210\ttotal: 7.57s\tremaining: 4.91s\n",
      "100:\tlearn: 1981.3538469\ttotal: 8.38s\tremaining: 4.07s\n",
      "110:\tlearn: 1954.9871153\ttotal: 9.18s\tremaining: 3.23s\n",
      "120:\tlearn: 1935.6929647\ttotal: 9.99s\tremaining: 2.39s\n",
      "130:\tlearn: 1919.5800222\ttotal: 10.8s\tremaining: 1.56s\n",
      "140:\tlearn: 1906.2364713\ttotal: 11.6s\tremaining: 740ms\n",
      "149:\tlearn: 1896.5951806\ttotal: 12.3s\tremaining: 0us\n",
      "Time: 00:00:13\n",
      "Wall time: 12.6 s\n"
     ]
    }
   ],
   "source": [
    "%%time\n",
    "\n",
    "start = time.time() \n",
    "\n",
    "CatBoost_model = CatBoostRegressor(iterations = 150, l2_leaf_reg=10, max_depth=10,loss_function = 'RMSE',eval_metric = 'RMSE')\n",
    "CatBoost_model.fit(features_train, target_train, cat_features=categorical_features,verbose=10)\n",
    "\n",
    "end = time.time()\n",
    "CatBoost_learn=exec_time(start,end)"
   ]
  },
  {
   "cell_type": "code",
   "execution_count": 38,
   "metadata": {},
   "outputs": [
    {
     "name": "stdout",
     "output_type": "stream",
     "text": [
      "Time: 00:00:00\n",
      "RMSE for CatBoost -> test: 1893.6199689314478\n",
      "Wall time: 60.8 ms\n"
     ]
    }
   ],
   "source": [
    "%%time\n",
    "\n",
    "start = time.time() \n",
    "\n",
    "predicted_test_CatBoost = CatBoost_model.predict(features_test)\n",
    "\n",
    "end = time.time()\n",
    "\n",
    "CatBoost_predict=exec_time(start,end)\n",
    "\n",
    "print('RMSE for CatBoost -> test:', mean_squared_error(target_test, predicted_test_CatBoost) ** 0.5)\n",
    "\n",
    "CatBoost_RMSE=mean_squared_error(target_test, predicted_test_CatBoost) ** 0.5"
   ]
  },
  {
   "cell_type": "code",
   "execution_count": 39,
   "metadata": {},
   "outputs": [
    {
     "name": "stdout",
     "output_type": "stream",
     "text": [
      "0:\tlearn: 4420.7143043\ttotal: 83.8ms\tremaining: 4.11s\n",
      "1:\tlearn: 4331.4253109\ttotal: 158ms\tremaining: 3.78s\n",
      "2:\tlearn: 4244.5088044\ttotal: 233ms\tremaining: 3.64s\n",
      "3:\tlearn: 4160.6293526\ttotal: 318ms\tremaining: 3.66s\n",
      "4:\tlearn: 4080.9684856\ttotal: 392ms\tremaining: 3.53s\n",
      "5:\tlearn: 4003.1601934\ttotal: 466ms\tremaining: 3.42s\n",
      "6:\tlearn: 3929.0668058\ttotal: 546ms\tremaining: 3.35s\n",
      "7:\tlearn: 3856.7592777\ttotal: 621ms\tremaining: 3.26s\n",
      "8:\tlearn: 3787.3241037\ttotal: 698ms\tremaining: 3.18s\n",
      "9:\tlearn: 3720.6601358\ttotal: 771ms\tremaining: 3.08s\n",
      "10:\tlearn: 3656.6251163\ttotal: 858ms\tremaining: 3.04s\n",
      "11:\tlearn: 3594.8179811\ttotal: 930ms\tremaining: 2.94s\n",
      "12:\tlearn: 3535.0603587\ttotal: 1s\tremaining: 2.85s\n",
      "13:\tlearn: 3478.0280823\ttotal: 1.08s\tremaining: 2.78s\n",
      "14:\tlearn: 3423.2046840\ttotal: 1.16s\tremaining: 2.7s\n",
      "15:\tlearn: 3369.6409115\ttotal: 1.23s\tremaining: 2.61s\n",
      "16:\tlearn: 3318.5380256\ttotal: 1.3s\tremaining: 2.53s\n",
      "17:\tlearn: 3269.3448715\ttotal: 1.38s\tremaining: 2.45s\n",
      "18:\tlearn: 3222.5875105\ttotal: 1.46s\tremaining: 2.39s\n",
      "19:\tlearn: 3177.3466840\ttotal: 1.55s\tremaining: 2.33s\n",
      "20:\tlearn: 3133.7634927\ttotal: 1.63s\tremaining: 2.25s\n",
      "21:\tlearn: 3092.8172110\ttotal: 1.71s\tremaining: 2.17s\n",
      "22:\tlearn: 3053.3961068\ttotal: 1.78s\tremaining: 2.1s\n",
      "23:\tlearn: 3015.5514629\ttotal: 1.86s\tremaining: 2.01s\n",
      "24:\tlearn: 2978.4979958\ttotal: 1.93s\tremaining: 1.93s\n",
      "25:\tlearn: 2942.3273020\ttotal: 2.01s\tremaining: 1.85s\n",
      "26:\tlearn: 2907.9424318\ttotal: 2.09s\tremaining: 1.78s\n",
      "27:\tlearn: 2874.7617143\ttotal: 2.16s\tremaining: 1.7s\n",
      "28:\tlearn: 2842.4605232\ttotal: 2.24s\tremaining: 1.62s\n",
      "29:\tlearn: 2811.4094268\ttotal: 2.31s\tremaining: 1.54s\n",
      "30:\tlearn: 2781.5916869\ttotal: 2.39s\tremaining: 1.46s\n",
      "31:\tlearn: 2753.2641236\ttotal: 2.47s\tremaining: 1.39s\n",
      "32:\tlearn: 2726.1375278\ttotal: 2.54s\tremaining: 1.31s\n",
      "33:\tlearn: 2699.7073562\ttotal: 2.62s\tremaining: 1.23s\n",
      "34:\tlearn: 2675.4536596\ttotal: 2.69s\tremaining: 1.15s\n",
      "35:\tlearn: 2651.6652676\ttotal: 2.77s\tremaining: 1.08s\n",
      "36:\tlearn: 2625.9215550\ttotal: 2.84s\tremaining: 1000ms\n",
      "37:\tlearn: 2600.5035469\ttotal: 2.92s\tremaining: 923ms\n",
      "38:\tlearn: 2576.3228269\ttotal: 3s\tremaining: 846ms\n",
      "39:\tlearn: 2553.6374760\ttotal: 3.08s\tremaining: 769ms\n",
      "40:\tlearn: 2531.1780988\ttotal: 3.15s\tremaining: 692ms\n",
      "41:\tlearn: 2508.5844151\ttotal: 3.23s\tremaining: 615ms\n",
      "42:\tlearn: 2487.3146405\ttotal: 3.3s\tremaining: 537ms\n",
      "43:\tlearn: 2467.2252069\ttotal: 3.38s\tremaining: 461ms\n",
      "44:\tlearn: 2447.2183534\ttotal: 3.46s\tremaining: 384ms\n",
      "45:\tlearn: 2429.0886794\ttotal: 3.53s\tremaining: 307ms\n",
      "46:\tlearn: 2412.4822582\ttotal: 3.61s\tremaining: 230ms\n",
      "47:\tlearn: 2395.2487050\ttotal: 3.68s\tremaining: 153ms\n",
      "48:\tlearn: 2379.0608610\ttotal: 3.76s\tremaining: 76.8ms\n",
      "49:\tlearn: 2363.6089380\ttotal: 3.84s\tremaining: 0us\n",
      "0:\tlearn: 4423.9207397\ttotal: 114ms\tremaining: 5.58s\n",
      "1:\tlearn: 4333.8806713\ttotal: 190ms\tremaining: 4.55s\n",
      "2:\tlearn: 4249.1479118\ttotal: 263ms\tremaining: 4.12s\n",
      "3:\tlearn: 4167.8492862\ttotal: 350ms\tremaining: 4.03s\n",
      "4:\tlearn: 4087.5540650\ttotal: 424ms\tremaining: 3.82s\n",
      "5:\tlearn: 4009.1418078\ttotal: 497ms\tremaining: 3.64s\n",
      "6:\tlearn: 3934.8760797\ttotal: 574ms\tremaining: 3.53s\n",
      "7:\tlearn: 3863.2982706\ttotal: 648ms\tremaining: 3.4s\n",
      "8:\tlearn: 3794.9179111\ttotal: 723ms\tremaining: 3.29s\n",
      "9:\tlearn: 3728.6328554\ttotal: 797ms\tremaining: 3.19s\n",
      "10:\tlearn: 3664.0013023\ttotal: 875ms\tremaining: 3.1s\n",
      "11:\tlearn: 3603.1159629\ttotal: 948ms\tremaining: 3s\n",
      "12:\tlearn: 3544.0211990\ttotal: 1.02s\tremaining: 2.92s\n",
      "13:\tlearn: 3488.3814526\ttotal: 1.1s\tremaining: 2.84s\n",
      "14:\tlearn: 3433.5167373\ttotal: 1.18s\tremaining: 2.75s\n",
      "15:\tlearn: 3380.3432006\ttotal: 1.26s\tremaining: 2.67s\n",
      "16:\tlearn: 3329.3559072\ttotal: 1.33s\tremaining: 2.58s\n",
      "17:\tlearn: 3279.8598166\ttotal: 1.4s\tremaining: 2.49s\n",
      "18:\tlearn: 3232.7566403\ttotal: 1.48s\tremaining: 2.41s\n",
      "19:\tlearn: 3186.2521844\ttotal: 1.55s\tremaining: 2.33s\n",
      "20:\tlearn: 3143.1011365\ttotal: 1.63s\tremaining: 2.25s\n",
      "21:\tlearn: 3101.8402463\ttotal: 1.7s\tremaining: 2.17s\n",
      "22:\tlearn: 3061.4760528\ttotal: 1.78s\tremaining: 2.09s\n",
      "23:\tlearn: 3022.2107456\ttotal: 1.85s\tremaining: 2.01s\n",
      "24:\tlearn: 2984.3703115\ttotal: 1.93s\tremaining: 1.93s\n",
      "25:\tlearn: 2949.3739510\ttotal: 2.01s\tremaining: 1.85s\n",
      "26:\tlearn: 2913.9382940\ttotal: 2.08s\tremaining: 1.77s\n",
      "27:\tlearn: 2881.7640907\ttotal: 2.16s\tremaining: 1.7s\n",
      "28:\tlearn: 2850.2396976\ttotal: 2.23s\tremaining: 1.62s\n",
      "29:\tlearn: 2818.7241736\ttotal: 2.31s\tremaining: 1.54s\n",
      "30:\tlearn: 2789.1384668\ttotal: 2.38s\tremaining: 1.46s\n",
      "31:\tlearn: 2761.2821223\ttotal: 2.46s\tremaining: 1.38s\n",
      "32:\tlearn: 2733.8874438\ttotal: 2.54s\tremaining: 1.31s\n",
      "33:\tlearn: 2707.7295960\ttotal: 2.61s\tremaining: 1.23s\n",
      "34:\tlearn: 2682.7117852\ttotal: 2.69s\tremaining: 1.15s\n",
      "35:\tlearn: 2657.4187449\ttotal: 2.76s\tremaining: 1.07s\n",
      "36:\tlearn: 2631.7455070\ttotal: 2.84s\tremaining: 998ms\n",
      "37:\tlearn: 2606.4053625\ttotal: 2.92s\tremaining: 921ms\n",
      "38:\tlearn: 2583.2525008\ttotal: 2.99s\tremaining: 843ms\n",
      "39:\tlearn: 2559.3209204\ttotal: 3.07s\tremaining: 768ms\n",
      "40:\tlearn: 2536.9452267\ttotal: 3.14s\tremaining: 690ms\n",
      "41:\tlearn: 2515.4381518\ttotal: 3.22s\tremaining: 613ms\n",
      "42:\tlearn: 2494.3274940\ttotal: 3.29s\tremaining: 536ms\n",
      "43:\tlearn: 2474.7070380\ttotal: 3.37s\tremaining: 459ms\n",
      "44:\tlearn: 2455.8079841\ttotal: 3.44s\tremaining: 383ms\n",
      "45:\tlearn: 2437.8084230\ttotal: 3.52s\tremaining: 306ms\n",
      "46:\tlearn: 2420.5588812\ttotal: 3.59s\tremaining: 229ms\n",
      "47:\tlearn: 2403.8417533\ttotal: 3.67s\tremaining: 153ms\n",
      "48:\tlearn: 2388.2875537\ttotal: 3.74s\tremaining: 76.4ms\n",
      "49:\tlearn: 2373.3254158\ttotal: 3.82s\tremaining: 0us\n",
      "0:\tlearn: 4425.0724396\ttotal: 84.4ms\tremaining: 4.14s\n",
      "1:\tlearn: 4335.1423810\ttotal: 162ms\tremaining: 3.88s\n",
      "2:\tlearn: 4250.0565343\ttotal: 240ms\tremaining: 3.76s\n",
      "3:\tlearn: 4166.5260049\ttotal: 318ms\tremaining: 3.66s\n",
      "4:\tlearn: 4086.3374501\ttotal: 392ms\tremaining: 3.52s\n",
      "5:\tlearn: 4008.9258978\ttotal: 466ms\tremaining: 3.42s\n",
      "6:\tlearn: 3934.8086019\ttotal: 544ms\tremaining: 3.34s\n",
      "7:\tlearn: 3863.4432001\ttotal: 618ms\tremaining: 3.24s\n",
      "8:\tlearn: 3793.9924334\ttotal: 693ms\tremaining: 3.16s\n",
      "9:\tlearn: 3728.3861277\ttotal: 767ms\tremaining: 3.07s\n",
      "10:\tlearn: 3663.6318707\ttotal: 844ms\tremaining: 2.99s\n",
      "11:\tlearn: 3602.1064511\ttotal: 917ms\tremaining: 2.9s\n",
      "12:\tlearn: 3542.4130541\ttotal: 992ms\tremaining: 2.82s\n",
      "13:\tlearn: 3484.8825106\ttotal: 1.07s\tremaining: 2.76s\n",
      "14:\tlearn: 3429.9810413\ttotal: 1.14s\tremaining: 2.67s\n",
      "15:\tlearn: 3377.0869116\ttotal: 1.22s\tremaining: 2.59s\n",
      "16:\tlearn: 3325.5377545\ttotal: 1.29s\tremaining: 2.51s\n",
      "17:\tlearn: 3276.2814570\ttotal: 1.36s\tremaining: 2.43s\n",
      "18:\tlearn: 3229.3425756\ttotal: 1.44s\tremaining: 2.35s\n",
      "19:\tlearn: 3184.0346311\ttotal: 1.52s\tremaining: 2.27s\n",
      "20:\tlearn: 3141.0495642\ttotal: 1.59s\tremaining: 2.2s\n",
      "21:\tlearn: 3098.9186669\ttotal: 1.67s\tremaining: 2.12s\n",
      "22:\tlearn: 3059.0384995\ttotal: 1.75s\tremaining: 2.05s\n",
      "23:\tlearn: 3021.1659755\ttotal: 1.82s\tremaining: 1.97s\n",
      "24:\tlearn: 2983.3784339\ttotal: 1.89s\tremaining: 1.89s\n",
      "25:\tlearn: 2948.1815632\ttotal: 1.97s\tremaining: 1.82s\n",
      "26:\tlearn: 2914.1916333\ttotal: 2.04s\tremaining: 1.74s\n",
      "27:\tlearn: 2881.3418442\ttotal: 2.12s\tremaining: 1.67s\n",
      "28:\tlearn: 2850.1249210\ttotal: 2.19s\tremaining: 1.59s\n",
      "29:\tlearn: 2818.6399486\ttotal: 2.27s\tremaining: 1.51s\n",
      "30:\tlearn: 2789.0814191\ttotal: 2.34s\tremaining: 1.43s\n",
      "31:\tlearn: 2760.4298483\ttotal: 2.41s\tremaining: 1.36s\n",
      "32:\tlearn: 2733.1437802\ttotal: 2.48s\tremaining: 1.28s\n",
      "33:\tlearn: 2707.0284954\ttotal: 2.56s\tremaining: 1.21s\n",
      "34:\tlearn: 2678.7690420\ttotal: 2.64s\tremaining: 1.13s\n",
      "35:\tlearn: 2651.3669063\ttotal: 2.71s\tremaining: 1.05s\n",
      "36:\tlearn: 2625.8333113\ttotal: 2.79s\tremaining: 980ms\n",
      "37:\tlearn: 2600.5072506\ttotal: 2.86s\tremaining: 904ms\n",
      "38:\tlearn: 2575.7755241\ttotal: 2.94s\tremaining: 828ms\n",
      "39:\tlearn: 2552.2672636\ttotal: 3.01s\tremaining: 753ms\n",
      "40:\tlearn: 2529.8368898\ttotal: 3.09s\tremaining: 679ms\n",
      "41:\tlearn: 2507.9093436\ttotal: 3.16s\tremaining: 603ms\n",
      "42:\tlearn: 2487.9987227\ttotal: 3.24s\tremaining: 528ms\n",
      "43:\tlearn: 2468.6015214\ttotal: 3.32s\tremaining: 453ms\n",
      "44:\tlearn: 2449.6753968\ttotal: 3.39s\tremaining: 377ms\n",
      "45:\tlearn: 2431.7168950\ttotal: 3.47s\tremaining: 302ms\n",
      "46:\tlearn: 2414.5738207\ttotal: 3.55s\tremaining: 226ms\n",
      "47:\tlearn: 2398.6118607\ttotal: 3.62s\tremaining: 151ms\n",
      "48:\tlearn: 2381.9623001\ttotal: 3.69s\tremaining: 75.4ms\n",
      "49:\tlearn: 2366.3807147\ttotal: 3.77s\tremaining: 0us\n",
      "0:\tlearn: 4421.5353166\ttotal: 83.3ms\tremaining: 4.08s\n",
      "1:\tlearn: 4331.8654203\ttotal: 161ms\tremaining: 3.87s\n",
      "2:\tlearn: 4246.8744266\ttotal: 239ms\tremaining: 3.75s\n",
      "3:\tlearn: 4163.6982564\ttotal: 320ms\tremaining: 3.68s\n",
      "4:\tlearn: 4085.0018559\ttotal: 396ms\tremaining: 3.57s\n",
      "5:\tlearn: 4008.6410334\ttotal: 473ms\tremaining: 3.47s\n",
      "6:\tlearn: 3934.1050491\ttotal: 550ms\tremaining: 3.38s\n",
      "7:\tlearn: 3861.7620171\ttotal: 626ms\tremaining: 3.29s\n",
      "8:\tlearn: 3792.8050166\ttotal: 701ms\tremaining: 3.19s\n",
      "9:\tlearn: 3726.2566268\ttotal: 777ms\tremaining: 3.11s\n",
      "10:\tlearn: 3662.5207884\ttotal: 851ms\tremaining: 3.02s\n",
      "11:\tlearn: 3601.5735999\ttotal: 924ms\tremaining: 2.93s\n",
      "12:\tlearn: 3541.9917452\ttotal: 997ms\tremaining: 2.84s\n",
      "13:\tlearn: 3486.2958443\ttotal: 1.08s\tremaining: 2.77s\n",
      "14:\tlearn: 3431.3992017\ttotal: 1.15s\tremaining: 2.68s\n",
      "15:\tlearn: 3377.6383981\ttotal: 1.23s\tremaining: 2.61s\n",
      "16:\tlearn: 3326.2666842\ttotal: 1.3s\tremaining: 2.53s\n",
      "17:\tlearn: 3276.9524411\ttotal: 1.38s\tremaining: 2.46s\n",
      "18:\tlearn: 3230.8293711\ttotal: 1.46s\tremaining: 2.38s\n",
      "19:\tlearn: 3186.2936017\ttotal: 1.54s\tremaining: 2.31s\n",
      "20:\tlearn: 3143.9152192\ttotal: 1.61s\tremaining: 2.23s\n",
      "21:\tlearn: 3102.6014360\ttotal: 1.69s\tremaining: 2.15s\n",
      "22:\tlearn: 3062.6580988\ttotal: 1.76s\tremaining: 2.07s\n",
      "23:\tlearn: 3024.8529122\ttotal: 1.84s\tremaining: 1.99s\n",
      "24:\tlearn: 2987.3325071\ttotal: 1.92s\tremaining: 1.92s\n",
      "25:\tlearn: 2951.0598586\ttotal: 2s\tremaining: 1.84s\n",
      "26:\tlearn: 2917.1639601\ttotal: 2.08s\tremaining: 1.77s\n",
      "27:\tlearn: 2883.1129407\ttotal: 2.15s\tremaining: 1.69s\n",
      "28:\tlearn: 2851.5740896\ttotal: 2.23s\tremaining: 1.61s\n",
      "29:\tlearn: 2822.2781477\ttotal: 2.3s\tremaining: 1.53s\n",
      "30:\tlearn: 2793.8912817\ttotal: 2.38s\tremaining: 1.46s\n",
      "31:\tlearn: 2765.8663804\ttotal: 2.46s\tremaining: 1.38s\n",
      "32:\tlearn: 2737.7985134\ttotal: 2.53s\tremaining: 1.3s\n",
      "33:\tlearn: 2711.8953990\ttotal: 2.6s\tremaining: 1.23s\n",
      "34:\tlearn: 2683.9574446\ttotal: 2.68s\tremaining: 1.15s\n",
      "35:\tlearn: 2656.5011556\ttotal: 2.76s\tremaining: 1.07s\n",
      "36:\tlearn: 2630.4700401\ttotal: 2.84s\tremaining: 997ms\n",
      "37:\tlearn: 2605.0857921\ttotal: 2.91s\tremaining: 920ms\n",
      "38:\tlearn: 2580.9121213\ttotal: 2.99s\tremaining: 843ms\n",
      "39:\tlearn: 2557.6155791\ttotal: 3.06s\tremaining: 766ms\n",
      "40:\tlearn: 2534.9394192\ttotal: 3.15s\tremaining: 691ms\n",
      "41:\tlearn: 2513.3246817\ttotal: 3.22s\tremaining: 614ms\n",
      "42:\tlearn: 2492.4693155\ttotal: 3.3s\tremaining: 538ms\n",
      "43:\tlearn: 2472.4108085\ttotal: 3.38s\tremaining: 461ms\n",
      "44:\tlearn: 2453.3772640\ttotal: 3.45s\tremaining: 384ms\n",
      "45:\tlearn: 2435.2772030\ttotal: 3.53s\tremaining: 307ms\n",
      "46:\tlearn: 2417.3400974\ttotal: 3.6s\tremaining: 230ms\n",
      "47:\tlearn: 2400.3061474\ttotal: 3.68s\tremaining: 153ms\n",
      "48:\tlearn: 2384.2720799\ttotal: 3.76s\tremaining: 76.7ms\n",
      "49:\tlearn: 2368.8367042\ttotal: 3.83s\tremaining: 0us\n",
      "0:\tlearn: 4419.1867959\ttotal: 81.2ms\tremaining: 3.98s\n",
      "1:\tlearn: 4329.2217685\ttotal: 162ms\tremaining: 3.9s\n",
      "2:\tlearn: 4242.8735830\ttotal: 244ms\tremaining: 3.82s\n",
      "3:\tlearn: 4160.3477412\ttotal: 321ms\tremaining: 3.69s\n",
      "4:\tlearn: 4080.6577657\ttotal: 396ms\tremaining: 3.56s\n",
      "5:\tlearn: 4003.5733318\ttotal: 470ms\tremaining: 3.45s\n",
      "6:\tlearn: 3928.7641549\ttotal: 551ms\tremaining: 3.38s\n",
      "7:\tlearn: 3856.6463061\ttotal: 625ms\tremaining: 3.28s\n",
      "8:\tlearn: 3787.4300060\ttotal: 701ms\tremaining: 3.19s\n",
      "9:\tlearn: 3721.5537310\ttotal: 780ms\tremaining: 3.12s\n",
      "10:\tlearn: 3657.5097325\ttotal: 859ms\tremaining: 3.05s\n",
      "11:\tlearn: 3595.4063077\ttotal: 933ms\tremaining: 2.95s\n",
      "12:\tlearn: 3535.4187317\ttotal: 1.01s\tremaining: 2.87s\n",
      "13:\tlearn: 3477.8048658\ttotal: 1.08s\tremaining: 2.79s\n",
      "14:\tlearn: 3422.4704755\ttotal: 1.16s\tremaining: 2.7s\n",
      "15:\tlearn: 3369.8271430\ttotal: 1.23s\tremaining: 2.62s\n",
      "16:\tlearn: 3319.5159031\ttotal: 1.31s\tremaining: 2.54s\n",
      "17:\tlearn: 3270.6678180\ttotal: 1.38s\tremaining: 2.46s\n",
      "18:\tlearn: 3224.3207696\ttotal: 1.46s\tremaining: 2.38s\n",
      "19:\tlearn: 3179.8844683\ttotal: 1.53s\tremaining: 2.3s\n",
      "20:\tlearn: 3136.9807464\ttotal: 1.61s\tremaining: 2.22s\n",
      "21:\tlearn: 3094.6808047\ttotal: 1.68s\tremaining: 2.14s\n",
      "22:\tlearn: 3054.2719388\ttotal: 1.76s\tremaining: 2.06s\n",
      "23:\tlearn: 3015.0531162\ttotal: 1.83s\tremaining: 1.99s\n",
      "24:\tlearn: 2977.8116215\ttotal: 1.91s\tremaining: 1.91s\n",
      "25:\tlearn: 2941.8381537\ttotal: 1.98s\tremaining: 1.83s\n",
      "26:\tlearn: 2907.7559379\ttotal: 2.06s\tremaining: 1.75s\n",
      "27:\tlearn: 2874.9420251\ttotal: 2.14s\tremaining: 1.68s\n",
      "28:\tlearn: 2842.7358414\ttotal: 2.21s\tremaining: 1.6s\n",
      "29:\tlearn: 2812.3666992\ttotal: 2.29s\tremaining: 1.53s\n",
      "30:\tlearn: 2783.8054605\ttotal: 2.36s\tremaining: 1.45s\n",
      "31:\tlearn: 2754.9832089\ttotal: 2.44s\tremaining: 1.37s\n",
      "32:\tlearn: 2727.1518451\ttotal: 2.52s\tremaining: 1.3s\n",
      "33:\tlearn: 2700.5587851\ttotal: 2.59s\tremaining: 1.22s\n",
      "34:\tlearn: 2674.8727865\ttotal: 2.67s\tremaining: 1.14s\n",
      "35:\tlearn: 2647.5205213\ttotal: 2.75s\tremaining: 1.07s\n",
      "36:\tlearn: 2622.0837493\ttotal: 2.82s\tremaining: 992ms\n",
      "37:\tlearn: 2596.6003124\ttotal: 2.9s\tremaining: 916ms\n",
      "38:\tlearn: 2571.8545696\ttotal: 2.97s\tremaining: 839ms\n",
      "39:\tlearn: 2548.5482697\ttotal: 3.05s\tremaining: 762ms\n",
      "40:\tlearn: 2525.2067229\ttotal: 3.12s\tremaining: 686ms\n",
      "41:\tlearn: 2503.2133112\ttotal: 3.2s\tremaining: 610ms\n",
      "42:\tlearn: 2482.9883223\ttotal: 3.27s\tremaining: 533ms\n",
      "43:\tlearn: 2463.5637687\ttotal: 3.35s\tremaining: 457ms\n",
      "44:\tlearn: 2444.5098501\ttotal: 3.43s\tremaining: 381ms\n",
      "45:\tlearn: 2425.4302936\ttotal: 3.5s\tremaining: 305ms\n",
      "46:\tlearn: 2408.9390771\ttotal: 3.58s\tremaining: 228ms\n",
      "47:\tlearn: 2392.2014548\ttotal: 3.65s\tremaining: 152ms\n",
      "48:\tlearn: 2376.0033780\ttotal: 3.73s\tremaining: 76.1ms\n",
      "49:\tlearn: 2360.5167736\ttotal: 3.8s\tremaining: 0us\n",
      "0:\tlearn: 4418.8834546\ttotal: 555ms\tremaining: 27.2s\n",
      "1:\tlearn: 4327.5885960\ttotal: 1.09s\tremaining: 26.2s\n",
      "2:\tlearn: 4239.0979701\ttotal: 1.6s\tremaining: 25.1s\n",
      "3:\tlearn: 4156.3742888\ttotal: 2.14s\tremaining: 24.6s\n",
      "4:\tlearn: 4074.9362413\ttotal: 2.68s\tremaining: 24.1s\n",
      "5:\tlearn: 3995.3721949\ttotal: 3.21s\tremaining: 23.5s\n",
      "6:\tlearn: 3919.7638502\ttotal: 3.73s\tremaining: 22.9s\n",
      "7:\tlearn: 3847.3165421\ttotal: 3.89s\tremaining: 20.4s\n",
      "8:\tlearn: 3775.4935068\ttotal: 4.41s\tremaining: 20.1s\n",
      "9:\tlearn: 3707.2859830\ttotal: 4.93s\tremaining: 19.7s\n",
      "10:\tlearn: 3641.6601343\ttotal: 5.46s\tremaining: 19.4s\n",
      "11:\tlearn: 3578.9884421\ttotal: 5.98s\tremaining: 18.9s\n",
      "12:\tlearn: 3516.9136436\ttotal: 6.51s\tremaining: 18.5s\n",
      "13:\tlearn: 3458.2973708\ttotal: 7.02s\tremaining: 18s\n",
      "14:\tlearn: 3400.7852633\ttotal: 7.52s\tremaining: 17.5s\n",
      "15:\tlearn: 3345.0312951\ttotal: 8.03s\tremaining: 17.1s\n",
      "16:\tlearn: 3293.3633126\ttotal: 8.15s\tremaining: 15.8s\n",
      "17:\tlearn: 3243.0642616\ttotal: 8.4s\tremaining: 14.9s\n",
      "18:\tlearn: 3193.9623864\ttotal: 8.91s\tremaining: 14.5s\n",
      "19:\tlearn: 3146.1282583\ttotal: 9.4s\tremaining: 14.1s\n",
      "20:\tlearn: 3100.3495874\ttotal: 9.9s\tremaining: 13.7s\n",
      "21:\tlearn: 3056.0165073\ttotal: 10.4s\tremaining: 13.2s\n",
      "22:\tlearn: 3014.0942331\ttotal: 10.9s\tremaining: 12.8s\n",
      "23:\tlearn: 2973.7897899\ttotal: 11.4s\tremaining: 12.4s\n",
      "24:\tlearn: 2934.3806244\ttotal: 11.9s\tremaining: 11.9s\n",
      "25:\tlearn: 2898.0457488\ttotal: 12.4s\tremaining: 11.5s\n",
      "26:\tlearn: 2863.5219771\ttotal: 12.9s\tremaining: 11s\n",
      "27:\tlearn: 2828.8761520\ttotal: 13.4s\tremaining: 10.5s\n",
      "28:\tlearn: 2795.9746137\ttotal: 13.9s\tremaining: 10.1s\n",
      "29:\tlearn: 2763.2937813\ttotal: 14.4s\tremaining: 9.61s\n",
      "30:\tlearn: 2732.9463684\ttotal: 14.9s\tremaining: 9.14s\n",
      "31:\tlearn: 2704.9232987\ttotal: 15.4s\tremaining: 8.66s\n",
      "32:\tlearn: 2677.7745356\ttotal: 15.9s\tremaining: 8.19s\n",
      "33:\tlearn: 2651.4635856\ttotal: 16.4s\tremaining: 7.71s\n",
      "34:\tlearn: 2624.9771863\ttotal: 16.9s\tremaining: 7.24s\n",
      "35:\tlearn: 2600.7902065\ttotal: 17.4s\tremaining: 6.76s\n",
      "36:\tlearn: 2573.3951684\ttotal: 17.9s\tremaining: 6.28s\n",
      "37:\tlearn: 2546.5059357\ttotal: 18.4s\tremaining: 5.81s\n",
      "38:\tlearn: 2521.2073954\ttotal: 18.9s\tremaining: 5.33s\n",
      "39:\tlearn: 2496.7982899\ttotal: 19.4s\tremaining: 4.84s\n",
      "40:\tlearn: 2473.2111178\ttotal: 19.9s\tremaining: 4.36s\n",
      "41:\tlearn: 2450.1348298\ttotal: 20.3s\tremaining: 3.87s\n",
      "42:\tlearn: 2428.8599748\ttotal: 20.8s\tremaining: 3.39s\n",
      "43:\tlearn: 2407.7861528\ttotal: 21.3s\tremaining: 2.91s\n",
      "44:\tlearn: 2387.0114923\ttotal: 21.8s\tremaining: 2.42s\n",
      "45:\tlearn: 2367.0778222\ttotal: 22.3s\tremaining: 1.94s\n",
      "46:\tlearn: 2347.7308704\ttotal: 22.8s\tremaining: 1.45s\n",
      "47:\tlearn: 2329.7906358\ttotal: 23.3s\tremaining: 970ms\n",
      "48:\tlearn: 2312.2021675\ttotal: 23.8s\tremaining: 485ms\n",
      "49:\tlearn: 2294.9262399\ttotal: 24.3s\tremaining: 0us\n",
      "0:\tlearn: 4421.7135790\ttotal: 535ms\tremaining: 26.2s\n",
      "1:\tlearn: 4329.4758188\ttotal: 1.01s\tremaining: 24.3s\n",
      "2:\tlearn: 4240.7012566\ttotal: 1.5s\tremaining: 23.5s\n",
      "3:\tlearn: 4155.4095233\ttotal: 1.98s\tremaining: 22.8s\n",
      "4:\tlearn: 4073.9249507\ttotal: 2.46s\tremaining: 22.2s\n",
      "5:\tlearn: 3995.5049207\ttotal: 2.71s\tremaining: 19.9s\n",
      "6:\tlearn: 3918.8151654\ttotal: 3.19s\tremaining: 19.6s\n",
      "7:\tlearn: 3845.6612792\ttotal: 3.67s\tremaining: 19.2s\n",
      "8:\tlearn: 3775.0543689\ttotal: 4.16s\tremaining: 18.9s\n",
      "9:\tlearn: 3706.3901154\ttotal: 4.63s\tremaining: 18.5s\n",
      "10:\tlearn: 3640.5826600\ttotal: 5.11s\tremaining: 18.1s\n",
      "11:\tlearn: 3576.9471956\ttotal: 5.6s\tremaining: 17.7s\n",
      "12:\tlearn: 3516.2050650\ttotal: 6.07s\tremaining: 17.3s\n",
      "13:\tlearn: 3457.5482718\ttotal: 6.55s\tremaining: 16.8s\n",
      "14:\tlearn: 3401.3579384\ttotal: 7.03s\tremaining: 16.4s\n",
      "15:\tlearn: 3348.4823755\ttotal: 7.51s\tremaining: 16s\n",
      "16:\tlearn: 3297.3435094\ttotal: 7.67s\tremaining: 14.9s\n",
      "17:\tlearn: 3248.0124387\ttotal: 8.15s\tremaining: 14.5s\n",
      "18:\tlearn: 3198.8908795\ttotal: 8.63s\tremaining: 14.1s\n",
      "19:\tlearn: 3151.3059028\ttotal: 9.11s\tremaining: 13.7s\n",
      "20:\tlearn: 3106.1410738\ttotal: 9.54s\tremaining: 13.2s\n",
      "21:\tlearn: 3064.0569752\ttotal: 10s\tremaining: 12.7s\n",
      "22:\tlearn: 3022.5690141\ttotal: 10.5s\tremaining: 12.3s\n",
      "23:\tlearn: 2983.0890679\ttotal: 11s\tremaining: 11.9s\n",
      "24:\tlearn: 2943.4474071\ttotal: 11.5s\tremaining: 11.5s\n",
      "25:\tlearn: 2905.1019623\ttotal: 12s\tremaining: 11.1s\n",
      "26:\tlearn: 2869.1923470\ttotal: 12.5s\tremaining: 10.6s\n",
      "27:\tlearn: 2834.5755138\ttotal: 12.9s\tremaining: 10.2s\n",
      "28:\tlearn: 2801.2801896\ttotal: 13.4s\tremaining: 9.72s\n",
      "29:\tlearn: 2769.2821814\ttotal: 13.9s\tremaining: 9.27s\n",
      "30:\tlearn: 2739.1132495\ttotal: 14.4s\tremaining: 8.82s\n",
      "31:\tlearn: 2709.7722151\ttotal: 14.9s\tremaining: 8.38s\n",
      "32:\tlearn: 2682.0483399\ttotal: 15.4s\tremaining: 7.92s\n",
      "33:\tlearn: 2656.3723379\ttotal: 15.8s\tremaining: 7.46s\n",
      "34:\tlearn: 2630.6919212\ttotal: 16.3s\tremaining: 7s\n",
      "35:\tlearn: 2606.1928000\ttotal: 16.8s\tremaining: 6.53s\n",
      "36:\tlearn: 2581.9411485\ttotal: 17.3s\tremaining: 6.07s\n",
      "37:\tlearn: 2559.2714406\ttotal: 17.7s\tremaining: 5.6s\n",
      "38:\tlearn: 2533.8399495\ttotal: 18.2s\tremaining: 5.14s\n",
      "39:\tlearn: 2509.2837599\ttotal: 18.7s\tremaining: 4.67s\n",
      "40:\tlearn: 2486.2306704\ttotal: 19.2s\tremaining: 4.21s\n",
      "41:\tlearn: 2463.5340381\ttotal: 19.7s\tremaining: 3.74s\n",
      "42:\tlearn: 2441.7835293\ttotal: 20.1s\tremaining: 3.28s\n",
      "43:\tlearn: 2420.5989067\ttotal: 20.6s\tremaining: 2.81s\n",
      "44:\tlearn: 2400.3743966\ttotal: 21.1s\tremaining: 2.34s\n",
      "45:\tlearn: 2380.7090769\ttotal: 21.6s\tremaining: 1.88s\n",
      "46:\tlearn: 2361.8594416\ttotal: 22.1s\tremaining: 1.41s\n",
      "47:\tlearn: 2343.6322807\ttotal: 22.6s\tremaining: 940ms\n",
      "48:\tlearn: 2325.5016552\ttotal: 23s\tremaining: 470ms\n",
      "49:\tlearn: 2308.6511847\ttotal: 23.5s\tremaining: 0us\n",
      "0:\tlearn: 4423.0631207\ttotal: 557ms\tremaining: 27.3s\n",
      "1:\tlearn: 4331.0510125\ttotal: 1.03s\tremaining: 24.6s\n",
      "2:\tlearn: 4241.5346372\ttotal: 1.51s\tremaining: 23.7s\n",
      "3:\tlearn: 4156.0495759\ttotal: 1.97s\tremaining: 22.7s\n",
      "4:\tlearn: 4073.6472131\ttotal: 2.46s\tremaining: 22.1s\n",
      "5:\tlearn: 3994.8478891\ttotal: 2.92s\tremaining: 21.4s\n",
      "6:\tlearn: 3920.1427849\ttotal: 3.4s\tremaining: 20.9s\n",
      "7:\tlearn: 3847.0152660\ttotal: 3.87s\tremaining: 20.3s\n",
      "8:\tlearn: 3777.1607717\ttotal: 4.35s\tremaining: 19.8s\n",
      "9:\tlearn: 3708.6474033\ttotal: 4.83s\tremaining: 19.3s\n",
      "10:\tlearn: 3642.7147766\ttotal: 5.32s\tremaining: 18.8s\n",
      "11:\tlearn: 3578.9120778\ttotal: 5.79s\tremaining: 18.3s\n",
      "12:\tlearn: 3518.9091497\ttotal: 6.26s\tremaining: 17.8s\n",
      "13:\tlearn: 3460.6851614\ttotal: 6.72s\tremaining: 17.3s\n",
      "14:\tlearn: 3404.1387732\ttotal: 7.2s\tremaining: 16.8s\n",
      "15:\tlearn: 3351.0588571\ttotal: 7.67s\tremaining: 16.3s\n",
      "16:\tlearn: 3298.2927932\ttotal: 8.15s\tremaining: 15.8s\n",
      "17:\tlearn: 3247.1148468\ttotal: 8.62s\tremaining: 15.3s\n",
      "18:\tlearn: 3197.8299365\ttotal: 9.09s\tremaining: 14.8s\n",
      "19:\tlearn: 3151.4165995\ttotal: 9.56s\tremaining: 14.3s\n",
      "20:\tlearn: 3106.2083846\ttotal: 10s\tremaining: 13.9s\n",
      "21:\tlearn: 3062.7205397\ttotal: 10.5s\tremaining: 13.4s\n",
      "22:\tlearn: 3021.0334973\ttotal: 11s\tremaining: 12.9s\n",
      "23:\tlearn: 2980.2658073\ttotal: 11.5s\tremaining: 12.4s\n",
      "24:\tlearn: 2941.7825241\ttotal: 12s\tremaining: 12s\n",
      "25:\tlearn: 2905.1407721\ttotal: 12.5s\tremaining: 11.6s\n",
      "26:\tlearn: 2869.2088581\ttotal: 13s\tremaining: 11.1s\n",
      "27:\tlearn: 2835.2468356\ttotal: 13.5s\tremaining: 10.6s\n",
      "28:\tlearn: 2802.0481421\ttotal: 14s\tremaining: 10.1s\n",
      "29:\tlearn: 2769.3158280\ttotal: 14.4s\tremaining: 9.63s\n",
      "30:\tlearn: 2738.2118628\ttotal: 14.9s\tremaining: 9.15s\n",
      "31:\tlearn: 2708.1743969\ttotal: 15.4s\tremaining: 8.67s\n",
      "32:\tlearn: 2680.0557780\ttotal: 15.9s\tremaining: 8.19s\n",
      "33:\tlearn: 2653.5641588\ttotal: 16.4s\tremaining: 7.71s\n",
      "34:\tlearn: 2627.4036316\ttotal: 16.9s\tremaining: 7.22s\n",
      "35:\tlearn: 2602.7291535\ttotal: 17.3s\tremaining: 6.74s\n",
      "36:\tlearn: 2578.9644264\ttotal: 17.8s\tremaining: 6.25s\n",
      "37:\tlearn: 2551.8020544\ttotal: 18.3s\tremaining: 5.78s\n",
      "38:\tlearn: 2526.4207192\ttotal: 18.8s\tremaining: 5.3s\n",
      "39:\tlearn: 2502.1659812\ttotal: 19.3s\tremaining: 4.83s\n",
      "40:\tlearn: 2478.7508118\ttotal: 19.8s\tremaining: 4.35s\n",
      "41:\tlearn: 2455.8928406\ttotal: 20.3s\tremaining: 3.87s\n",
      "42:\tlearn: 2433.9972394\ttotal: 20.8s\tremaining: 3.39s\n",
      "43:\tlearn: 2412.4205577\ttotal: 21.3s\tremaining: 2.91s\n",
      "44:\tlearn: 2391.2505685\ttotal: 21.8s\tremaining: 2.42s\n",
      "45:\tlearn: 2371.7727428\ttotal: 22.4s\tremaining: 1.94s\n",
      "46:\tlearn: 2352.9513945\ttotal: 22.9s\tremaining: 1.46s\n",
      "47:\tlearn: 2334.6833190\ttotal: 23.5s\tremaining: 978ms\n",
      "48:\tlearn: 2316.9055999\ttotal: 23.9s\tremaining: 489ms\n",
      "49:\tlearn: 2299.6937716\ttotal: 24.5s\tremaining: 0us\n",
      "0:\tlearn: 4419.9587572\ttotal: 589ms\tremaining: 28.9s\n",
      "1:\tlearn: 4327.8789903\ttotal: 1.07s\tremaining: 25.8s\n",
      "2:\tlearn: 4238.3537245\ttotal: 1.56s\tremaining: 24.5s\n",
      "3:\tlearn: 4154.6755554\ttotal: 1.84s\tremaining: 21.1s\n",
      "4:\tlearn: 4071.4864269\ttotal: 2.33s\tremaining: 20.9s\n",
      "5:\tlearn: 3992.6955988\ttotal: 2.82s\tremaining: 20.7s\n",
      "6:\tlearn: 3916.5205673\ttotal: 3.32s\tremaining: 20.4s\n",
      "7:\tlearn: 3842.1279118\ttotal: 3.8s\tremaining: 20s\n",
      "8:\tlearn: 3771.2721955\ttotal: 4.28s\tremaining: 19.5s\n",
      "9:\tlearn: 3701.2580151\ttotal: 4.76s\tremaining: 19s\n",
      "10:\tlearn: 3634.7397067\ttotal: 5.23s\tremaining: 18.5s\n",
      "11:\tlearn: 3571.1559622\ttotal: 5.66s\tremaining: 17.9s\n",
      "12:\tlearn: 3509.9669619\ttotal: 6.13s\tremaining: 17.5s\n",
      "13:\tlearn: 3450.4935089\ttotal: 6.6s\tremaining: 17s\n",
      "14:\tlearn: 3394.1235736\ttotal: 7.09s\tremaining: 16.6s\n",
      "15:\tlearn: 3340.6633574\ttotal: 7.54s\tremaining: 16s\n",
      "16:\tlearn: 3289.2701061\ttotal: 8.03s\tremaining: 15.6s\n",
      "17:\tlearn: 3239.5038570\ttotal: 8.52s\tremaining: 15.2s\n",
      "18:\tlearn: 3192.2717269\ttotal: 8.99s\tremaining: 14.7s\n",
      "19:\tlearn: 3145.3184211\ttotal: 9.43s\tremaining: 14.1s\n",
      "20:\tlearn: 3100.6234173\ttotal: 9.91s\tremaining: 13.7s\n",
      "21:\tlearn: 3058.0259904\ttotal: 10.4s\tremaining: 13.2s\n",
      "22:\tlearn: 3015.6733245\ttotal: 10.8s\tremaining: 12.7s\n",
      "23:\tlearn: 2976.1037386\ttotal: 11.3s\tremaining: 12.3s\n",
      "24:\tlearn: 2937.2348463\ttotal: 11.8s\tremaining: 11.8s\n",
      "25:\tlearn: 2900.5224955\ttotal: 12.3s\tremaining: 11.4s\n",
      "26:\tlearn: 2865.2785115\ttotal: 12.9s\tremaining: 10.9s\n",
      "27:\tlearn: 2831.2990004\ttotal: 13.3s\tremaining: 10.5s\n",
      "28:\tlearn: 2799.0277548\ttotal: 13.8s\tremaining: 10s\n",
      "29:\tlearn: 2768.2113795\ttotal: 14.3s\tremaining: 9.54s\n",
      "30:\tlearn: 2737.0183463\ttotal: 14.8s\tremaining: 9.06s\n",
      "31:\tlearn: 2707.4352342\ttotal: 15.3s\tremaining: 8.58s\n",
      "32:\tlearn: 2680.3739027\ttotal: 15.7s\tremaining: 8.11s\n",
      "33:\tlearn: 2653.7648721\ttotal: 16.2s\tremaining: 7.65s\n",
      "34:\tlearn: 2627.5803259\ttotal: 16.8s\tremaining: 7.18s\n",
      "35:\tlearn: 2602.9532958\ttotal: 17.3s\tremaining: 6.72s\n",
      "36:\tlearn: 2575.8568915\ttotal: 17.8s\tremaining: 6.24s\n",
      "37:\tlearn: 2549.2703506\ttotal: 18.2s\tremaining: 5.76s\n",
      "38:\tlearn: 2523.7211122\ttotal: 18.7s\tremaining: 5.28s\n",
      "39:\tlearn: 2499.1819775\ttotal: 19.2s\tremaining: 4.8s\n",
      "40:\tlearn: 2476.5337458\ttotal: 19.7s\tremaining: 4.33s\n",
      "41:\tlearn: 2454.0272772\ttotal: 20.2s\tremaining: 3.85s\n",
      "42:\tlearn: 2432.1612777\ttotal: 20.7s\tremaining: 3.37s\n",
      "43:\tlearn: 2411.3319455\ttotal: 21.2s\tremaining: 2.89s\n",
      "44:\tlearn: 2391.2833952\ttotal: 21.7s\tremaining: 2.41s\n",
      "45:\tlearn: 2371.2176287\ttotal: 22.2s\tremaining: 1.93s\n",
      "46:\tlearn: 2352.2502991\ttotal: 22.7s\tremaining: 1.45s\n",
      "47:\tlearn: 2334.3097825\ttotal: 23.2s\tremaining: 968ms\n",
      "48:\tlearn: 2317.9248143\ttotal: 23.7s\tremaining: 484ms\n",
      "49:\tlearn: 2301.0042334\ttotal: 24.2s\tremaining: 0us\n",
      "0:\tlearn: 4416.0433151\ttotal: 560ms\tremaining: 27.4s\n",
      "1:\tlearn: 4324.6661295\ttotal: 1.13s\tremaining: 27.1s\n",
      "2:\tlearn: 4235.9079319\ttotal: 1.39s\tremaining: 21.8s\n",
      "3:\tlearn: 4149.1122494\ttotal: 1.88s\tremaining: 21.6s\n",
      "4:\tlearn: 4066.9933281\ttotal: 2.37s\tremaining: 21.3s\n",
      "5:\tlearn: 3988.2959204\ttotal: 2.89s\tremaining: 21.2s\n",
      "6:\tlearn: 3910.8744058\ttotal: 3.36s\tremaining: 20.6s\n",
      "7:\tlearn: 3837.7730556\ttotal: 3.64s\tremaining: 19.1s\n",
      "8:\tlearn: 3766.9133964\ttotal: 4.12s\tremaining: 18.8s\n",
      "9:\tlearn: 3700.2248857\ttotal: 4.6s\tremaining: 18.4s\n",
      "10:\tlearn: 3634.3604023\ttotal: 5.08s\tremaining: 18s\n",
      "11:\tlearn: 3572.1295829\ttotal: 5.56s\tremaining: 17.6s\n",
      "12:\tlearn: 3510.7928846\ttotal: 6.03s\tremaining: 17.2s\n",
      "13:\tlearn: 3451.8424737\ttotal: 6.5s\tremaining: 16.7s\n",
      "14:\tlearn: 3394.1098652\ttotal: 7.01s\tremaining: 16.3s\n",
      "15:\tlearn: 3340.0867139\ttotal: 7.48s\tremaining: 15.9s\n",
      "16:\tlearn: 3287.8395221\ttotal: 7.96s\tremaining: 15.4s\n",
      "17:\tlearn: 3236.1947329\ttotal: 8.42s\tremaining: 15s\n",
      "18:\tlearn: 3189.5201896\ttotal: 8.9s\tremaining: 14.5s\n",
      "19:\tlearn: 3142.3293672\ttotal: 9.37s\tremaining: 14.1s\n",
      "20:\tlearn: 3096.4611456\ttotal: 9.86s\tremaining: 13.6s\n",
      "21:\tlearn: 3053.7831500\ttotal: 10.3s\tremaining: 13.2s\n",
      "22:\tlearn: 3012.4274948\ttotal: 10.8s\tremaining: 12.7s\n",
      "23:\tlearn: 2972.2472199\ttotal: 11.3s\tremaining: 12.2s\n",
      "24:\tlearn: 2933.2616153\ttotal: 11.8s\tremaining: 11.8s\n",
      "25:\tlearn: 2897.0522409\ttotal: 12.3s\tremaining: 11.3s\n",
      "26:\tlearn: 2861.2258186\ttotal: 12.8s\tremaining: 10.9s\n",
      "27:\tlearn: 2827.6751143\ttotal: 13.3s\tremaining: 10.5s\n",
      "28:\tlearn: 2795.9485361\ttotal: 13.8s\tremaining: 9.98s\n",
      "29:\tlearn: 2764.6606137\ttotal: 14.3s\tremaining: 9.52s\n",
      "30:\tlearn: 2733.5169440\ttotal: 14.8s\tremaining: 9.04s\n",
      "31:\tlearn: 2704.1002466\ttotal: 15.3s\tremaining: 8.61s\n",
      "32:\tlearn: 2676.1421961\ttotal: 15.8s\tremaining: 8.14s\n",
      "33:\tlearn: 2648.6314554\ttotal: 16.3s\tremaining: 7.66s\n",
      "34:\tlearn: 2621.8815632\ttotal: 16.8s\tremaining: 7.18s\n",
      "35:\tlearn: 2592.5046637\ttotal: 17.2s\tremaining: 6.71s\n",
      "36:\tlearn: 2566.1250448\ttotal: 17.7s\tremaining: 6.23s\n",
      "37:\tlearn: 2539.0945317\ttotal: 18.2s\tremaining: 5.76s\n",
      "38:\tlearn: 2512.7069219\ttotal: 18.7s\tremaining: 5.28s\n",
      "39:\tlearn: 2487.9652305\ttotal: 19.2s\tremaining: 4.81s\n",
      "40:\tlearn: 2465.3116664\ttotal: 19.7s\tremaining: 4.33s\n",
      "41:\tlearn: 2442.3137244\ttotal: 20.2s\tremaining: 3.85s\n",
      "42:\tlearn: 2420.6670204\ttotal: 20.7s\tremaining: 3.37s\n",
      "43:\tlearn: 2399.7321980\ttotal: 21.2s\tremaining: 2.89s\n",
      "44:\tlearn: 2379.8405641\ttotal: 21.7s\tremaining: 2.41s\n",
      "45:\tlearn: 2360.2186111\ttotal: 22.2s\tremaining: 1.93s\n",
      "46:\tlearn: 2340.9355636\ttotal: 22.7s\tremaining: 1.45s\n",
      "47:\tlearn: 2323.6046507\ttotal: 23.2s\tremaining: 966ms\n",
      "48:\tlearn: 2306.0269457\ttotal: 23.7s\tremaining: 484ms\n",
      "49:\tlearn: 2288.7973754\ttotal: 24.3s\tremaining: 0us\n",
      "0:\tlearn: 4420.9599611\ttotal: 85.5ms\tremaining: 4.19s\n",
      "1:\tlearn: 4332.0550203\ttotal: 164ms\tremaining: 3.94s\n",
      "2:\tlearn: 4245.4052228\ttotal: 243ms\tremaining: 3.81s\n",
      "3:\tlearn: 4162.4570378\ttotal: 341ms\tremaining: 3.92s\n",
      "4:\tlearn: 4083.1916867\ttotal: 426ms\tremaining: 3.83s\n",
      "5:\tlearn: 4005.9234781\ttotal: 504ms\tremaining: 3.7s\n",
      "6:\tlearn: 3931.9626848\ttotal: 589ms\tremaining: 3.62s\n",
      "7:\tlearn: 3860.2418610\ttotal: 669ms\tremaining: 3.51s\n",
      "8:\tlearn: 3791.0714564\ttotal: 748ms\tremaining: 3.41s\n",
      "9:\tlearn: 3726.1137621\ttotal: 826ms\tremaining: 3.31s\n",
      "10:\tlearn: 3663.1877939\ttotal: 906ms\tremaining: 3.21s\n",
      "11:\tlearn: 3601.6150958\ttotal: 983ms\tremaining: 3.11s\n",
      "12:\tlearn: 3543.7349746\ttotal: 1.06s\tremaining: 3.03s\n",
      "13:\tlearn: 3485.8810226\ttotal: 1.14s\tremaining: 2.94s\n",
      "14:\tlearn: 3431.0180313\ttotal: 1.22s\tremaining: 2.85s\n",
      "15:\tlearn: 3377.7576396\ttotal: 1.3s\tremaining: 2.76s\n",
      "16:\tlearn: 3326.0230009\ttotal: 1.37s\tremaining: 2.67s\n",
      "17:\tlearn: 3276.6179052\ttotal: 1.45s\tremaining: 2.58s\n",
      "18:\tlearn: 3229.8460083\ttotal: 1.52s\tremaining: 2.49s\n",
      "19:\tlearn: 3185.7071635\ttotal: 1.6s\tremaining: 2.4s\n",
      "20:\tlearn: 3140.9121604\ttotal: 1.68s\tremaining: 2.31s\n",
      "21:\tlearn: 3100.9434754\ttotal: 1.76s\tremaining: 2.23s\n",
      "22:\tlearn: 3061.1479591\ttotal: 1.83s\tremaining: 2.15s\n",
      "23:\tlearn: 3023.3924415\ttotal: 1.91s\tremaining: 2.07s\n",
      "24:\tlearn: 2985.5377942\ttotal: 1.98s\tremaining: 1.98s\n",
      "25:\tlearn: 2949.6359674\ttotal: 2.06s\tremaining: 1.9s\n",
      "26:\tlearn: 2915.8650024\ttotal: 2.13s\tremaining: 1.81s\n",
      "27:\tlearn: 2883.5357637\ttotal: 2.21s\tremaining: 1.73s\n",
      "28:\tlearn: 2851.9173234\ttotal: 2.29s\tremaining: 1.66s\n",
      "29:\tlearn: 2821.3408567\ttotal: 2.37s\tremaining: 1.58s\n",
      "30:\tlearn: 2792.2362434\ttotal: 2.45s\tremaining: 1.5s\n",
      "31:\tlearn: 2762.8289856\ttotal: 2.53s\tremaining: 1.42s\n",
      "32:\tlearn: 2735.8596396\ttotal: 2.6s\tremaining: 1.34s\n",
      "33:\tlearn: 2709.3403722\ttotal: 2.67s\tremaining: 1.26s\n",
      "34:\tlearn: 2683.9971881\ttotal: 2.75s\tremaining: 1.18s\n",
      "35:\tlearn: 2657.6114637\ttotal: 2.83s\tremaining: 1.1s\n",
      "36:\tlearn: 2631.6064649\ttotal: 2.91s\tremaining: 1.02s\n",
      "37:\tlearn: 2606.2553293\ttotal: 2.99s\tremaining: 946ms\n",
      "38:\tlearn: 2581.9726370\ttotal: 3.08s\tremaining: 870ms\n",
      "39:\tlearn: 2558.5818459\ttotal: 3.16s\tremaining: 791ms\n",
      "40:\tlearn: 2535.5844014\ttotal: 3.24s\tremaining: 711ms\n",
      "41:\tlearn: 2513.8387311\ttotal: 3.32s\tremaining: 633ms\n",
      "42:\tlearn: 2492.4685358\ttotal: 3.41s\tremaining: 556ms\n",
      "43:\tlearn: 2472.0314297\ttotal: 3.5s\tremaining: 477ms\n",
      "44:\tlearn: 2452.1788637\ttotal: 3.58s\tremaining: 398ms\n",
      "45:\tlearn: 2434.0574001\ttotal: 3.66s\tremaining: 319ms\n",
      "46:\tlearn: 2416.8392102\ttotal: 3.75s\tremaining: 239ms\n",
      "47:\tlearn: 2399.6988243\ttotal: 3.83s\tremaining: 160ms\n",
      "48:\tlearn: 2384.0418587\ttotal: 3.92s\tremaining: 80ms\n",
      "49:\tlearn: 2368.4649047\ttotal: 4s\tremaining: 0us\n",
      "0:\tlearn: 4424.2380996\ttotal: 80.4ms\tremaining: 3.94s\n",
      "1:\tlearn: 4334.4765791\ttotal: 160ms\tremaining: 3.84s\n",
      "2:\tlearn: 4250.0799432\ttotal: 241ms\tremaining: 3.77s\n",
      "3:\tlearn: 4169.5212813\ttotal: 329ms\tremaining: 3.78s\n",
      "4:\tlearn: 4089.7263273\ttotal: 415ms\tremaining: 3.73s\n",
      "5:\tlearn: 4011.4738376\ttotal: 496ms\tremaining: 3.63s\n",
      "6:\tlearn: 3937.1068428\ttotal: 574ms\tremaining: 3.52s\n",
      "7:\tlearn: 3865.1173500\ttotal: 650ms\tremaining: 3.41s\n",
      "8:\tlearn: 3795.3867034\ttotal: 724ms\tremaining: 3.3s\n",
      "9:\tlearn: 3729.2870235\ttotal: 801ms\tremaining: 3.2s\n",
      "10:\tlearn: 3665.8360419\ttotal: 882ms\tremaining: 3.13s\n",
      "11:\tlearn: 3604.0739639\ttotal: 960ms\tremaining: 3.04s\n",
      "12:\tlearn: 3545.5530760\ttotal: 1.04s\tremaining: 2.95s\n",
      "13:\tlearn: 3488.1727211\ttotal: 1.11s\tremaining: 2.86s\n",
      "14:\tlearn: 3432.8507488\ttotal: 1.19s\tremaining: 2.77s\n",
      "15:\tlearn: 3380.0916216\ttotal: 1.27s\tremaining: 2.69s\n",
      "16:\tlearn: 3329.3492747\ttotal: 1.34s\tremaining: 2.61s\n",
      "17:\tlearn: 3280.4930441\ttotal: 1.42s\tremaining: 2.53s\n",
      "18:\tlearn: 3232.9976097\ttotal: 1.5s\tremaining: 2.44s\n",
      "19:\tlearn: 3187.8334941\ttotal: 1.58s\tremaining: 2.36s\n",
      "20:\tlearn: 3144.8289367\ttotal: 1.65s\tremaining: 2.28s\n",
      "21:\tlearn: 3102.9332759\ttotal: 1.74s\tremaining: 2.21s\n",
      "22:\tlearn: 3062.9074822\ttotal: 1.81s\tremaining: 2.13s\n",
      "23:\tlearn: 3023.2009606\ttotal: 1.89s\tremaining: 2.04s\n",
      "24:\tlearn: 2986.9488162\ttotal: 1.97s\tremaining: 1.97s\n",
      "25:\tlearn: 2952.5718990\ttotal: 2.04s\tremaining: 1.89s\n",
      "26:\tlearn: 2917.2354691\ttotal: 2.12s\tremaining: 1.81s\n",
      "27:\tlearn: 2884.5316854\ttotal: 2.2s\tremaining: 1.73s\n",
      "28:\tlearn: 2852.1511595\ttotal: 2.28s\tremaining: 1.65s\n",
      "29:\tlearn: 2822.0211745\ttotal: 2.35s\tremaining: 1.57s\n",
      "30:\tlearn: 2792.5204384\ttotal: 2.43s\tremaining: 1.49s\n",
      "31:\tlearn: 2764.2415500\ttotal: 2.5s\tremaining: 1.41s\n",
      "32:\tlearn: 2736.4560727\ttotal: 2.58s\tremaining: 1.33s\n",
      "33:\tlearn: 2710.2893646\ttotal: 2.66s\tremaining: 1.25s\n",
      "34:\tlearn: 2684.6656031\ttotal: 2.74s\tremaining: 1.17s\n",
      "35:\tlearn: 2660.0860853\ttotal: 2.81s\tremaining: 1.09s\n",
      "36:\tlearn: 2637.1415653\ttotal: 2.89s\tremaining: 1.02s\n",
      "37:\tlearn: 2611.7565174\ttotal: 2.97s\tremaining: 938ms\n",
      "38:\tlearn: 2587.6600855\ttotal: 3.05s\tremaining: 859ms\n",
      "39:\tlearn: 2563.7764071\ttotal: 3.12s\tremaining: 780ms\n",
      "40:\tlearn: 2540.6886568\ttotal: 3.2s\tremaining: 702ms\n",
      "41:\tlearn: 2518.5584222\ttotal: 3.28s\tremaining: 624ms\n",
      "42:\tlearn: 2498.6008142\ttotal: 3.35s\tremaining: 546ms\n",
      "43:\tlearn: 2478.7947508\ttotal: 3.43s\tremaining: 468ms\n",
      "44:\tlearn: 2460.1776744\ttotal: 3.51s\tremaining: 390ms\n",
      "45:\tlearn: 2441.1242268\ttotal: 3.58s\tremaining: 311ms\n",
      "46:\tlearn: 2423.5716700\ttotal: 3.66s\tremaining: 234ms\n",
      "47:\tlearn: 2407.3269337\ttotal: 3.74s\tremaining: 156ms\n",
      "48:\tlearn: 2391.5032252\ttotal: 3.81s\tremaining: 77.9ms\n",
      "49:\tlearn: 2376.1038978\ttotal: 3.9s\tremaining: 0us\n",
      "0:\tlearn: 4425.3879279\ttotal: 81ms\tremaining: 3.97s\n",
      "1:\tlearn: 4335.7989151\ttotal: 167ms\tremaining: 4s\n",
      "2:\tlearn: 4251.0524354\ttotal: 246ms\tremaining: 3.85s\n",
      "3:\tlearn: 4168.0038071\ttotal: 328ms\tremaining: 3.77s\n",
      "4:\tlearn: 4088.4001189\ttotal: 403ms\tremaining: 3.62s\n",
      "5:\tlearn: 4010.9879885\ttotal: 478ms\tremaining: 3.5s\n",
      "6:\tlearn: 3937.4573051\ttotal: 556ms\tremaining: 3.41s\n",
      "7:\tlearn: 3866.5094048\ttotal: 634ms\tremaining: 3.33s\n",
      "8:\tlearn: 3797.6550024\ttotal: 710ms\tremaining: 3.23s\n",
      "9:\tlearn: 3731.7977571\ttotal: 789ms\tremaining: 3.16s\n",
      "10:\tlearn: 3667.3393056\ttotal: 866ms\tremaining: 3.07s\n",
      "11:\tlearn: 3605.9901333\ttotal: 948ms\tremaining: 3s\n",
      "12:\tlearn: 3546.6331894\ttotal: 1.02s\tremaining: 2.92s\n",
      "13:\tlearn: 3489.2135471\ttotal: 1.1s\tremaining: 2.83s\n",
      "14:\tlearn: 3434.6986365\ttotal: 1.18s\tremaining: 2.75s\n",
      "15:\tlearn: 3382.0558012\ttotal: 1.25s\tremaining: 2.67s\n",
      "16:\tlearn: 3331.2223665\ttotal: 1.33s\tremaining: 2.59s\n",
      "17:\tlearn: 3281.7878750\ttotal: 1.42s\tremaining: 2.53s\n",
      "18:\tlearn: 3235.0479560\ttotal: 1.51s\tremaining: 2.46s\n",
      "19:\tlearn: 3190.0753962\ttotal: 1.59s\tremaining: 2.39s\n",
      "20:\tlearn: 3145.9869698\ttotal: 1.68s\tremaining: 2.31s\n",
      "21:\tlearn: 3104.7682999\ttotal: 1.76s\tremaining: 2.24s\n",
      "22:\tlearn: 3064.7482821\ttotal: 1.84s\tremaining: 2.16s\n",
      "23:\tlearn: 3025.9296238\ttotal: 1.93s\tremaining: 2.09s\n",
      "24:\tlearn: 2988.7943161\ttotal: 2.01s\tremaining: 2.01s\n",
      "25:\tlearn: 2952.2944015\ttotal: 2.1s\tremaining: 1.94s\n",
      "26:\tlearn: 2917.0314235\ttotal: 2.19s\tremaining: 1.86s\n",
      "27:\tlearn: 2883.9802197\ttotal: 2.27s\tremaining: 1.78s\n",
      "28:\tlearn: 2851.8975405\ttotal: 2.35s\tremaining: 1.7s\n",
      "29:\tlearn: 2821.2996750\ttotal: 2.44s\tremaining: 1.62s\n",
      "30:\tlearn: 2791.7992277\ttotal: 2.52s\tremaining: 1.54s\n",
      "31:\tlearn: 2763.3535973\ttotal: 2.59s\tremaining: 1.46s\n",
      "32:\tlearn: 2736.3567526\ttotal: 2.67s\tremaining: 1.38s\n",
      "33:\tlearn: 2711.5742417\ttotal: 2.75s\tremaining: 1.3s\n",
      "34:\tlearn: 2687.4486941\ttotal: 2.83s\tremaining: 1.21s\n",
      "35:\tlearn: 2663.6565174\ttotal: 2.9s\tremaining: 1.13s\n",
      "36:\tlearn: 2640.1724356\ttotal: 2.98s\tremaining: 1.05s\n",
      "37:\tlearn: 2614.7752007\ttotal: 3.06s\tremaining: 967ms\n",
      "38:\tlearn: 2589.7835811\ttotal: 3.14s\tremaining: 886ms\n",
      "39:\tlearn: 2566.6421403\ttotal: 3.22s\tremaining: 805ms\n",
      "40:\tlearn: 2543.4154510\ttotal: 3.3s\tremaining: 724ms\n",
      "41:\tlearn: 2521.2915967\ttotal: 3.37s\tremaining: 642ms\n",
      "42:\tlearn: 2501.0737305\ttotal: 3.45s\tremaining: 562ms\n",
      "43:\tlearn: 2481.9934565\ttotal: 3.53s\tremaining: 481ms\n",
      "44:\tlearn: 2463.8106878\ttotal: 3.61s\tremaining: 401ms\n",
      "45:\tlearn: 2445.4207008\ttotal: 3.69s\tremaining: 321ms\n",
      "46:\tlearn: 2427.3792303\ttotal: 3.76s\tremaining: 240ms\n",
      "47:\tlearn: 2409.7462529\ttotal: 3.84s\tremaining: 160ms\n",
      "48:\tlearn: 2393.2786459\ttotal: 3.92s\tremaining: 80ms\n",
      "49:\tlearn: 2377.8283245\ttotal: 3.99s\tremaining: 0us\n",
      "0:\tlearn: 4421.8509982\ttotal: 81.6ms\tremaining: 4s\n",
      "1:\tlearn: 4332.5295262\ttotal: 162ms\tremaining: 3.88s\n",
      "2:\tlearn: 4247.8854566\ttotal: 241ms\tremaining: 3.78s\n",
      "3:\tlearn: 4164.4737720\ttotal: 319ms\tremaining: 3.67s\n",
      "4:\tlearn: 4085.3901313\ttotal: 398ms\tremaining: 3.58s\n",
      "5:\tlearn: 4008.6524104\ttotal: 472ms\tremaining: 3.46s\n",
      "6:\tlearn: 3935.6254348\ttotal: 550ms\tremaining: 3.38s\n",
      "7:\tlearn: 3864.6133771\ttotal: 639ms\tremaining: 3.35s\n",
      "8:\tlearn: 3795.2363812\ttotal: 722ms\tremaining: 3.29s\n",
      "9:\tlearn: 3728.5040456\ttotal: 804ms\tremaining: 3.21s\n",
      "10:\tlearn: 3664.9473169\ttotal: 881ms\tremaining: 3.12s\n",
      "11:\tlearn: 3603.0512133\ttotal: 961ms\tremaining: 3.04s\n",
      "12:\tlearn: 3544.0059815\ttotal: 1.04s\tremaining: 2.96s\n",
      "13:\tlearn: 3487.5484386\ttotal: 1.11s\tremaining: 2.87s\n",
      "14:\tlearn: 3433.4379531\ttotal: 1.19s\tremaining: 2.79s\n",
      "15:\tlearn: 3380.9564564\ttotal: 1.28s\tremaining: 2.72s\n",
      "16:\tlearn: 3329.7990762\ttotal: 1.36s\tremaining: 2.65s\n",
      "17:\tlearn: 3281.6952433\ttotal: 1.45s\tremaining: 2.57s\n",
      "18:\tlearn: 3234.8256304\ttotal: 1.53s\tremaining: 2.49s\n",
      "19:\tlearn: 3189.7329713\ttotal: 1.6s\tremaining: 2.4s\n",
      "20:\tlearn: 3147.9341735\ttotal: 1.68s\tremaining: 2.32s\n",
      "21:\tlearn: 3105.1183354\ttotal: 1.76s\tremaining: 2.24s\n",
      "22:\tlearn: 3064.3271180\ttotal: 1.84s\tremaining: 2.15s\n",
      "23:\tlearn: 3025.4011386\ttotal: 1.91s\tremaining: 2.07s\n",
      "24:\tlearn: 2988.3641871\ttotal: 1.99s\tremaining: 1.99s\n",
      "25:\tlearn: 2952.9989111\ttotal: 2.07s\tremaining: 1.91s\n",
      "26:\tlearn: 2918.9558303\ttotal: 2.14s\tremaining: 1.82s\n",
      "27:\tlearn: 2885.8014727\ttotal: 2.22s\tremaining: 1.74s\n",
      "28:\tlearn: 2853.8558917\ttotal: 2.3s\tremaining: 1.66s\n",
      "29:\tlearn: 2822.9791989\ttotal: 2.37s\tremaining: 1.58s\n",
      "30:\tlearn: 2793.9967110\ttotal: 2.45s\tremaining: 1.5s\n",
      "31:\tlearn: 2765.4585713\ttotal: 2.54s\tremaining: 1.43s\n",
      "32:\tlearn: 2738.8423458\ttotal: 2.62s\tremaining: 1.35s\n",
      "33:\tlearn: 2710.6143818\ttotal: 2.71s\tremaining: 1.27s\n",
      "34:\tlearn: 2682.9567028\ttotal: 2.79s\tremaining: 1.19s\n",
      "35:\tlearn: 2656.6120437\ttotal: 2.86s\tremaining: 1.11s\n",
      "36:\tlearn: 2630.5019333\ttotal: 2.94s\tremaining: 1.03s\n",
      "37:\tlearn: 2605.3254909\ttotal: 3.02s\tremaining: 953ms\n",
      "38:\tlearn: 2580.9110733\ttotal: 3.1s\tremaining: 873ms\n",
      "39:\tlearn: 2558.1972946\ttotal: 3.17s\tremaining: 792ms\n",
      "40:\tlearn: 2536.4332059\ttotal: 3.25s\tremaining: 713ms\n",
      "41:\tlearn: 2515.1487041\ttotal: 3.32s\tremaining: 633ms\n",
      "42:\tlearn: 2495.0857842\ttotal: 3.4s\tremaining: 553ms\n",
      "43:\tlearn: 2476.3035913\ttotal: 3.48s\tremaining: 474ms\n",
      "44:\tlearn: 2458.1637688\ttotal: 3.56s\tremaining: 395ms\n",
      "45:\tlearn: 2440.7744079\ttotal: 3.63s\tremaining: 316ms\n",
      "46:\tlearn: 2423.0185528\ttotal: 3.71s\tremaining: 237ms\n",
      "47:\tlearn: 2406.0883537\ttotal: 3.79s\tremaining: 158ms\n",
      "48:\tlearn: 2390.3196295\ttotal: 3.87s\tremaining: 78.9ms\n",
      "49:\tlearn: 2375.0022717\ttotal: 3.95s\tremaining: 0us\n",
      "0:\tlearn: 4419.4991819\ttotal: 82.9ms\tremaining: 4.06s\n",
      "1:\tlearn: 4329.8634972\ttotal: 168ms\tremaining: 4.03s\n",
      "2:\tlearn: 4244.8096670\ttotal: 252ms\tremaining: 3.95s\n",
      "3:\tlearn: 4161.7045348\ttotal: 328ms\tremaining: 3.78s\n",
      "4:\tlearn: 4083.4132809\ttotal: 406ms\tremaining: 3.65s\n",
      "5:\tlearn: 4005.6746799\ttotal: 488ms\tremaining: 3.58s\n",
      "6:\tlearn: 3931.7021118\ttotal: 569ms\tremaining: 3.5s\n",
      "7:\tlearn: 3860.2889055\ttotal: 646ms\tremaining: 3.39s\n",
      "8:\tlearn: 3791.1875730\ttotal: 724ms\tremaining: 3.3s\n",
      "9:\tlearn: 3724.4343344\ttotal: 803ms\tremaining: 3.21s\n",
      "10:\tlearn: 3660.2183121\ttotal: 883ms\tremaining: 3.13s\n",
      "11:\tlearn: 3599.9255183\ttotal: 958ms\tremaining: 3.03s\n",
      "12:\tlearn: 3540.7028425\ttotal: 1.03s\tremaining: 2.94s\n",
      "13:\tlearn: 3484.5535836\ttotal: 1.11s\tremaining: 2.86s\n",
      "14:\tlearn: 3429.6477052\ttotal: 1.19s\tremaining: 2.77s\n",
      "15:\tlearn: 3378.1667642\ttotal: 1.27s\tremaining: 2.7s\n",
      "16:\tlearn: 3327.3291475\ttotal: 1.36s\tremaining: 2.63s\n",
      "17:\tlearn: 3277.6612166\ttotal: 1.44s\tremaining: 2.56s\n",
      "18:\tlearn: 3231.1421944\ttotal: 1.52s\tremaining: 2.48s\n",
      "19:\tlearn: 3185.9179545\ttotal: 1.6s\tremaining: 2.4s\n",
      "20:\tlearn: 3141.3325149\ttotal: 1.67s\tremaining: 2.31s\n",
      "21:\tlearn: 3099.3105866\ttotal: 1.75s\tremaining: 2.22s\n",
      "22:\tlearn: 3059.7330381\ttotal: 1.84s\tremaining: 2.16s\n",
      "23:\tlearn: 3020.6044154\ttotal: 1.92s\tremaining: 2.08s\n",
      "24:\tlearn: 2983.5873432\ttotal: 2.01s\tremaining: 2.01s\n",
      "25:\tlearn: 2948.0672942\ttotal: 2.09s\tremaining: 1.93s\n",
      "26:\tlearn: 2914.1973915\ttotal: 2.17s\tremaining: 1.85s\n",
      "27:\tlearn: 2880.9500255\ttotal: 2.26s\tremaining: 1.77s\n",
      "28:\tlearn: 2849.0083233\ttotal: 2.34s\tremaining: 1.7s\n",
      "29:\tlearn: 2817.2736462\ttotal: 2.43s\tremaining: 1.62s\n",
      "30:\tlearn: 2787.2019811\ttotal: 2.51s\tremaining: 1.54s\n",
      "31:\tlearn: 2759.2080476\ttotal: 2.6s\tremaining: 1.47s\n",
      "32:\tlearn: 2732.1166560\ttotal: 2.71s\tremaining: 1.39s\n",
      "33:\tlearn: 2706.7462175\ttotal: 2.83s\tremaining: 1.33s\n",
      "34:\tlearn: 2681.7958819\ttotal: 2.91s\tremaining: 1.25s\n",
      "35:\tlearn: 2657.1258305\ttotal: 2.99s\tremaining: 1.16s\n",
      "36:\tlearn: 2633.6057995\ttotal: 3.07s\tremaining: 1.08s\n",
      "37:\tlearn: 2610.4927578\ttotal: 3.15s\tremaining: 995ms\n",
      "38:\tlearn: 2585.2150249\ttotal: 3.23s\tremaining: 911ms\n",
      "39:\tlearn: 2560.8753173\ttotal: 3.31s\tremaining: 826ms\n",
      "40:\tlearn: 2537.7482259\ttotal: 3.38s\tremaining: 743ms\n",
      "41:\tlearn: 2516.4667111\ttotal: 3.46s\tremaining: 660ms\n",
      "42:\tlearn: 2495.7571620\ttotal: 3.54s\tremaining: 577ms\n",
      "43:\tlearn: 2475.5894610\ttotal: 3.62s\tremaining: 494ms\n",
      "44:\tlearn: 2456.1261664\ttotal: 3.7s\tremaining: 412ms\n",
      "45:\tlearn: 2437.5396223\ttotal: 3.78s\tremaining: 329ms\n",
      "46:\tlearn: 2419.5430765\ttotal: 3.86s\tremaining: 247ms\n",
      "47:\tlearn: 2402.0973686\ttotal: 3.94s\tremaining: 164ms\n",
      "48:\tlearn: 2385.8440727\ttotal: 4.02s\tremaining: 82ms\n",
      "49:\tlearn: 2369.8882559\ttotal: 4.1s\tremaining: 0us\n",
      "0:\tlearn: 4419.5761823\ttotal: 554ms\tremaining: 27.1s\n",
      "1:\tlearn: 4329.4712275\ttotal: 1.04s\tremaining: 25.1s\n",
      "2:\tlearn: 4241.7102311\ttotal: 1.53s\tremaining: 23.9s\n",
      "3:\tlearn: 4158.6277514\ttotal: 2.01s\tremaining: 23.1s\n",
      "4:\tlearn: 4078.2627383\ttotal: 2.49s\tremaining: 22.4s\n",
      "5:\tlearn: 3999.9198886\ttotal: 2.96s\tremaining: 21.7s\n",
      "6:\tlearn: 3925.8072163\ttotal: 3.45s\tremaining: 21.2s\n",
      "7:\tlearn: 3853.6922300\ttotal: 3.61s\tremaining: 19s\n",
      "8:\tlearn: 3782.5934078\ttotal: 4.1s\tremaining: 18.7s\n",
      "9:\tlearn: 3715.4748318\ttotal: 4.59s\tremaining: 18.3s\n",
      "10:\tlearn: 3651.0279698\ttotal: 5.08s\tremaining: 18s\n",
      "11:\tlearn: 3587.5686167\ttotal: 5.56s\tremaining: 17.6s\n",
      "12:\tlearn: 3526.2058283\ttotal: 6.03s\tremaining: 17.2s\n",
      "13:\tlearn: 3468.2217711\ttotal: 6.51s\tremaining: 16.7s\n",
      "14:\tlearn: 3411.4772488\ttotal: 6.98s\tremaining: 16.3s\n",
      "15:\tlearn: 3356.1959178\ttotal: 7.46s\tremaining: 15.9s\n",
      "16:\tlearn: 3304.5398915\ttotal: 7.58s\tremaining: 14.7s\n",
      "17:\tlearn: 3254.7342313\ttotal: 8.05s\tremaining: 14.3s\n",
      "18:\tlearn: 3205.1327559\ttotal: 8.53s\tremaining: 13.9s\n",
      "19:\tlearn: 3159.7296770\ttotal: 9.02s\tremaining: 13.5s\n",
      "20:\tlearn: 3114.5867565\ttotal: 9.52s\tremaining: 13.1s\n",
      "21:\tlearn: 3071.0779028\ttotal: 10s\tremaining: 12.7s\n",
      "22:\tlearn: 3029.4016779\ttotal: 10.5s\tremaining: 12.3s\n",
      "23:\tlearn: 2991.0469688\ttotal: 11s\tremaining: 11.9s\n",
      "24:\tlearn: 2952.5975843\ttotal: 11.5s\tremaining: 11.5s\n",
      "25:\tlearn: 2915.7227134\ttotal: 12s\tremaining: 11.1s\n",
      "26:\tlearn: 2880.5736549\ttotal: 12.5s\tremaining: 10.6s\n",
      "27:\tlearn: 2847.2729833\ttotal: 12.6s\tremaining: 9.94s\n",
      "28:\tlearn: 2814.6024430\ttotal: 13.1s\tremaining: 9.5s\n",
      "29:\tlearn: 2783.1423129\ttotal: 13.6s\tremaining: 9.06s\n",
      "30:\tlearn: 2752.8710280\ttotal: 14.1s\tremaining: 8.62s\n",
      "31:\tlearn: 2724.4768296\ttotal: 14.5s\tremaining: 8.18s\n",
      "32:\tlearn: 2695.3813505\ttotal: 15s\tremaining: 7.74s\n",
      "33:\tlearn: 2667.4598200\ttotal: 15.5s\tremaining: 7.29s\n",
      "34:\tlearn: 2643.2474499\ttotal: 16s\tremaining: 6.85s\n",
      "35:\tlearn: 2616.3590243\ttotal: 16.5s\tremaining: 6.4s\n",
      "36:\tlearn: 2588.0510103\ttotal: 16.9s\tremaining: 5.95s\n",
      "37:\tlearn: 2561.6764579\ttotal: 17.4s\tremaining: 5.5s\n",
      "38:\tlearn: 2536.4781632\ttotal: 17.9s\tremaining: 5.05s\n",
      "39:\tlearn: 2512.1928022\ttotal: 18.4s\tremaining: 4.6s\n",
      "40:\tlearn: 2488.1985592\ttotal: 18.9s\tremaining: 4.14s\n",
      "41:\tlearn: 2466.2000360\ttotal: 19.3s\tremaining: 3.69s\n",
      "42:\tlearn: 2444.2592385\ttotal: 19.8s\tremaining: 3.23s\n",
      "43:\tlearn: 2423.2696658\ttotal: 20.3s\tremaining: 2.77s\n",
      "44:\tlearn: 2402.7305037\ttotal: 20.8s\tremaining: 2.31s\n",
      "45:\tlearn: 2383.8385588\ttotal: 21.3s\tremaining: 1.85s\n",
      "46:\tlearn: 2364.7687514\ttotal: 21.8s\tremaining: 1.39s\n",
      "47:\tlearn: 2346.8295295\ttotal: 22.3s\tremaining: 930ms\n",
      "48:\tlearn: 2330.2387212\ttotal: 22.8s\tremaining: 465ms\n",
      "49:\tlearn: 2314.4995996\ttotal: 23.3s\tremaining: 0us\n",
      "0:\tlearn: 4422.3935400\ttotal: 555ms\tremaining: 27.2s\n",
      "1:\tlearn: 4330.9379441\ttotal: 1.03s\tremaining: 24.8s\n",
      "2:\tlearn: 4242.7361591\ttotal: 1.52s\tremaining: 23.8s\n",
      "3:\tlearn: 4159.4731099\ttotal: 1.78s\tremaining: 20.5s\n",
      "4:\tlearn: 4078.7787947\ttotal: 2.26s\tremaining: 20.3s\n",
      "5:\tlearn: 3999.8310425\ttotal: 2.52s\tremaining: 18.5s\n",
      "6:\tlearn: 3924.0482986\ttotal: 3s\tremaining: 18.4s\n",
      "7:\tlearn: 3851.6294259\ttotal: 3.47s\tremaining: 18.2s\n",
      "8:\tlearn: 3781.8108102\ttotal: 3.94s\tremaining: 18s\n",
      "9:\tlearn: 3713.9285993\ttotal: 4.42s\tremaining: 17.7s\n",
      "10:\tlearn: 3649.3661522\ttotal: 4.9s\tremaining: 17.4s\n",
      "11:\tlearn: 3587.0720736\ttotal: 5.38s\tremaining: 17s\n",
      "12:\tlearn: 3525.9003691\ttotal: 5.83s\tremaining: 16.6s\n",
      "13:\tlearn: 3467.6120095\ttotal: 6.33s\tremaining: 16.3s\n",
      "14:\tlearn: 3413.0295458\ttotal: 6.44s\tremaining: 15s\n",
      "15:\tlearn: 3359.3327493\ttotal: 6.92s\tremaining: 14.7s\n",
      "16:\tlearn: 3308.0554031\ttotal: 7.4s\tremaining: 14.4s\n",
      "17:\tlearn: 3258.2237522\ttotal: 7.88s\tremaining: 14s\n",
      "18:\tlearn: 3210.8606504\ttotal: 8.36s\tremaining: 13.6s\n",
      "19:\tlearn: 3163.4277152\ttotal: 8.86s\tremaining: 13.3s\n",
      "20:\tlearn: 3117.8191187\ttotal: 9.37s\tremaining: 12.9s\n",
      "21:\tlearn: 3076.5830819\ttotal: 9.86s\tremaining: 12.5s\n",
      "22:\tlearn: 3036.6796263\ttotal: 10.3s\tremaining: 12.1s\n",
      "23:\tlearn: 2996.5285623\ttotal: 10.9s\tremaining: 11.8s\n",
      "24:\tlearn: 2959.4717275\ttotal: 11.4s\tremaining: 11.4s\n",
      "25:\tlearn: 2923.5507027\ttotal: 11.8s\tremaining: 10.9s\n",
      "26:\tlearn: 2888.5929270\ttotal: 12.3s\tremaining: 10.5s\n",
      "27:\tlearn: 2854.1957299\ttotal: 12.8s\tremaining: 10.1s\n",
      "28:\tlearn: 2821.2627122\ttotal: 13.3s\tremaining: 9.66s\n",
      "29:\tlearn: 2790.3353221\ttotal: 13.8s\tremaining: 9.23s\n",
      "30:\tlearn: 2758.8892288\ttotal: 14.4s\tremaining: 8.8s\n",
      "31:\tlearn: 2729.1191364\ttotal: 14.9s\tremaining: 8.37s\n",
      "32:\tlearn: 2701.4975409\ttotal: 15.4s\tremaining: 7.93s\n",
      "33:\tlearn: 2674.2492764\ttotal: 16s\tremaining: 7.52s\n",
      "34:\tlearn: 2649.8002978\ttotal: 16.5s\tremaining: 7.08s\n",
      "35:\tlearn: 2624.6232301\ttotal: 17s\tremaining: 6.63s\n",
      "36:\tlearn: 2600.4579349\ttotal: 17.6s\tremaining: 6.17s\n",
      "37:\tlearn: 2573.9914446\ttotal: 18.1s\tremaining: 5.71s\n",
      "38:\tlearn: 2549.2461244\ttotal: 18.6s\tremaining: 5.25s\n",
      "39:\tlearn: 2525.4999820\ttotal: 19.1s\tremaining: 4.78s\n",
      "40:\tlearn: 2503.6339313\ttotal: 19.7s\tremaining: 4.32s\n",
      "41:\tlearn: 2481.5208174\ttotal: 20.2s\tremaining: 3.84s\n",
      "42:\tlearn: 2459.4236061\ttotal: 20.7s\tremaining: 3.37s\n",
      "43:\tlearn: 2438.2615342\ttotal: 21.2s\tremaining: 2.89s\n",
      "44:\tlearn: 2419.1779885\ttotal: 21.7s\tremaining: 2.41s\n",
      "45:\tlearn: 2399.7127251\ttotal: 22.2s\tremaining: 1.93s\n",
      "46:\tlearn: 2381.8188538\ttotal: 22.6s\tremaining: 1.45s\n",
      "47:\tlearn: 2365.1900712\ttotal: 23.1s\tremaining: 964ms\n",
      "48:\tlearn: 2346.7024295\ttotal: 23.7s\tremaining: 483ms\n",
      "49:\tlearn: 2329.5375598\ttotal: 24.1s\tremaining: 0us\n",
      "0:\tlearn: 4423.7152421\ttotal: 546ms\tremaining: 26.8s\n",
      "1:\tlearn: 4332.4552253\ttotal: 1.03s\tremaining: 24.7s\n",
      "2:\tlearn: 4243.4787528\ttotal: 1.51s\tremaining: 23.6s\n",
      "3:\tlearn: 4158.7782580\ttotal: 1.99s\tremaining: 22.8s\n",
      "4:\tlearn: 4077.2119125\ttotal: 2.46s\tremaining: 22.1s\n",
      "5:\tlearn: 3999.0996354\ttotal: 2.96s\tremaining: 21.7s\n",
      "6:\tlearn: 3924.2735822\ttotal: 3.49s\tremaining: 21.4s\n",
      "7:\tlearn: 3852.3709138\ttotal: 4s\tremaining: 21s\n",
      "8:\tlearn: 3783.5829678\ttotal: 4.53s\tremaining: 20.6s\n",
      "9:\tlearn: 3716.7147269\ttotal: 5.05s\tremaining: 20.2s\n",
      "10:\tlearn: 3652.0361401\ttotal: 5.14s\tremaining: 18.2s\n",
      "11:\tlearn: 3586.8325764\ttotal: 5.65s\tremaining: 17.9s\n",
      "12:\tlearn: 3527.4419920\ttotal: 6.17s\tremaining: 17.6s\n",
      "13:\tlearn: 3468.9555100\ttotal: 6.68s\tremaining: 17.2s\n",
      "14:\tlearn: 3412.9432654\ttotal: 7.21s\tremaining: 16.8s\n",
      "15:\tlearn: 3358.9977799\ttotal: 7.67s\tremaining: 16.3s\n",
      "16:\tlearn: 3307.1121058\ttotal: 8.18s\tremaining: 15.9s\n",
      "17:\tlearn: 3256.8410933\ttotal: 8.7s\tremaining: 15.5s\n",
      "18:\tlearn: 3208.8458494\ttotal: 9.14s\tremaining: 14.9s\n",
      "19:\tlearn: 3163.5253654\ttotal: 9.61s\tremaining: 14.4s\n",
      "20:\tlearn: 3119.5393461\ttotal: 10.1s\tremaining: 13.9s\n",
      "21:\tlearn: 3076.0218858\ttotal: 10.6s\tremaining: 13.4s\n",
      "22:\tlearn: 3034.1863309\ttotal: 11.1s\tremaining: 13s\n",
      "23:\tlearn: 2994.6675441\ttotal: 11.6s\tremaining: 12.5s\n",
      "24:\tlearn: 2956.1678888\ttotal: 12.1s\tremaining: 12.1s\n",
      "25:\tlearn: 2920.2944508\ttotal: 12.5s\tremaining: 11.6s\n",
      "26:\tlearn: 2886.1489870\ttotal: 13s\tremaining: 11.1s\n",
      "27:\tlearn: 2851.8486807\ttotal: 13.5s\tremaining: 10.6s\n",
      "28:\tlearn: 2817.6162013\ttotal: 14s\tremaining: 10.1s\n",
      "29:\tlearn: 2787.3194039\ttotal: 14.5s\tremaining: 9.64s\n",
      "30:\tlearn: 2757.0193664\ttotal: 15s\tremaining: 9.17s\n",
      "31:\tlearn: 2727.6969293\ttotal: 15.5s\tremaining: 8.7s\n",
      "32:\tlearn: 2699.4003693\ttotal: 15.9s\tremaining: 8.2s\n",
      "33:\tlearn: 2671.5568717\ttotal: 16.4s\tremaining: 7.73s\n",
      "34:\tlearn: 2645.3821450\ttotal: 16.9s\tremaining: 7.25s\n",
      "35:\tlearn: 2620.8990883\ttotal: 17.4s\tremaining: 6.77s\n",
      "36:\tlearn: 2598.2751184\ttotal: 17.9s\tremaining: 6.29s\n",
      "37:\tlearn: 2570.8673315\ttotal: 18.4s\tremaining: 5.8s\n",
      "38:\tlearn: 2545.4603889\ttotal: 18.9s\tremaining: 5.32s\n",
      "39:\tlearn: 2521.4488838\ttotal: 19.4s\tremaining: 4.84s\n",
      "40:\tlearn: 2498.3187735\ttotal: 19.9s\tremaining: 4.37s\n",
      "41:\tlearn: 2475.8305908\ttotal: 20.4s\tremaining: 3.89s\n",
      "42:\tlearn: 2455.1070148\ttotal: 21s\tremaining: 3.41s\n",
      "43:\tlearn: 2434.6063889\ttotal: 21.5s\tremaining: 2.93s\n",
      "44:\tlearn: 2415.9068544\ttotal: 22s\tremaining: 2.44s\n",
      "45:\tlearn: 2395.9810938\ttotal: 22.5s\tremaining: 1.96s\n",
      "46:\tlearn: 2377.1220432\ttotal: 23.1s\tremaining: 1.47s\n",
      "47:\tlearn: 2359.2243099\ttotal: 23.6s\tremaining: 984ms\n",
      "48:\tlearn: 2341.7177561\ttotal: 24.1s\tremaining: 493ms\n",
      "49:\tlearn: 2324.4857400\ttotal: 24.7s\tremaining: 0us\n",
      "0:\tlearn: 4420.6363701\ttotal: 549ms\tremaining: 26.9s\n",
      "1:\tlearn: 4329.5441738\ttotal: 1.03s\tremaining: 24.7s\n",
      "2:\tlearn: 4240.8511378\ttotal: 1.51s\tremaining: 23.6s\n",
      "3:\tlearn: 4157.6301879\ttotal: 1.78s\tremaining: 20.5s\n",
      "4:\tlearn: 4076.3083298\ttotal: 2.26s\tremaining: 20.4s\n",
      "5:\tlearn: 3997.9273620\ttotal: 2.74s\tremaining: 20.1s\n",
      "6:\tlearn: 3922.2706556\ttotal: 3.2s\tremaining: 19.7s\n",
      "7:\tlearn: 3849.3639831\ttotal: 3.68s\tremaining: 19.3s\n",
      "8:\tlearn: 3779.4467319\ttotal: 4.15s\tremaining: 18.9s\n",
      "9:\tlearn: 3710.2900579\ttotal: 4.63s\tremaining: 18.5s\n",
      "10:\tlearn: 3644.6269500\ttotal: 5.13s\tremaining: 18.2s\n",
      "11:\tlearn: 3582.1794162\ttotal: 5.6s\tremaining: 17.7s\n",
      "12:\tlearn: 3520.4805963\ttotal: 6.07s\tremaining: 17.3s\n",
      "13:\tlearn: 3462.1803504\ttotal: 6.55s\tremaining: 16.8s\n",
      "14:\tlearn: 3406.2025816\ttotal: 7.02s\tremaining: 16.4s\n",
      "15:\tlearn: 3353.0242996\ttotal: 7.49s\tremaining: 15.9s\n",
      "16:\tlearn: 3302.2860909\ttotal: 7.96s\tremaining: 15.5s\n",
      "17:\tlearn: 3252.5012045\ttotal: 8.44s\tremaining: 15s\n",
      "18:\tlearn: 3204.6333851\ttotal: 8.9s\tremaining: 14.5s\n",
      "19:\tlearn: 3160.4039182\ttotal: 9.16s\tremaining: 13.7s\n",
      "20:\tlearn: 3115.6321492\ttotal: 9.63s\tremaining: 13.3s\n",
      "21:\tlearn: 3071.9215861\ttotal: 10.1s\tremaining: 12.9s\n",
      "22:\tlearn: 3030.5268869\ttotal: 10.6s\tremaining: 12.4s\n",
      "23:\tlearn: 2992.9893683\ttotal: 10.8s\tremaining: 11.7s\n",
      "24:\tlearn: 2956.1900698\ttotal: 11.3s\tremaining: 11.3s\n",
      "25:\tlearn: 2918.7584421\ttotal: 11.9s\tremaining: 11s\n",
      "26:\tlearn: 2884.6876099\ttotal: 12.4s\tremaining: 10.6s\n",
      "27:\tlearn: 2851.5997669\ttotal: 12.9s\tremaining: 10.1s\n",
      "28:\tlearn: 2819.2376696\ttotal: 13.3s\tremaining: 9.66s\n",
      "29:\tlearn: 2787.3549152\ttotal: 13.8s\tremaining: 9.21s\n",
      "30:\tlearn: 2756.7461190\ttotal: 14.3s\tremaining: 8.76s\n",
      "31:\tlearn: 2728.9711928\ttotal: 14.8s\tremaining: 8.31s\n",
      "32:\tlearn: 2702.1046131\ttotal: 15.3s\tremaining: 7.88s\n",
      "33:\tlearn: 2673.5995344\ttotal: 15.8s\tremaining: 7.43s\n",
      "34:\tlearn: 2648.0868667\ttotal: 16.3s\tremaining: 6.99s\n",
      "35:\tlearn: 2622.4419444\ttotal: 16.8s\tremaining: 6.53s\n",
      "36:\tlearn: 2599.0799114\ttotal: 17.3s\tremaining: 6.07s\n",
      "37:\tlearn: 2575.6156014\ttotal: 17.7s\tremaining: 5.6s\n",
      "38:\tlearn: 2551.4998417\ttotal: 18.2s\tremaining: 5.14s\n",
      "39:\tlearn: 2527.5917942\ttotal: 18.7s\tremaining: 4.68s\n",
      "40:\tlearn: 2505.0410958\ttotal: 19.2s\tremaining: 4.22s\n",
      "41:\tlearn: 2481.0604192\ttotal: 19.7s\tremaining: 3.75s\n",
      "42:\tlearn: 2458.2271237\ttotal: 20.2s\tremaining: 3.28s\n",
      "43:\tlearn: 2437.0879005\ttotal: 20.6s\tremaining: 2.81s\n",
      "44:\tlearn: 2416.9799362\ttotal: 21.1s\tremaining: 2.35s\n",
      "45:\tlearn: 2397.7313158\ttotal: 21.6s\tremaining: 1.88s\n",
      "46:\tlearn: 2379.6533517\ttotal: 22.1s\tremaining: 1.41s\n",
      "47:\tlearn: 2362.3503461\ttotal: 22.6s\tremaining: 940ms\n",
      "48:\tlearn: 2346.3046457\ttotal: 23s\tremaining: 470ms\n",
      "49:\tlearn: 2329.2438533\ttotal: 23.5s\tremaining: 0us\n",
      "0:\tlearn: 4416.7003774\ttotal: 538ms\tremaining: 26.4s\n",
      "1:\tlearn: 4326.1035020\ttotal: 1.01s\tremaining: 24.3s\n",
      "2:\tlearn: 4238.3915328\ttotal: 1.28s\tremaining: 20.1s\n",
      "3:\tlearn: 4153.5418343\ttotal: 1.76s\tremaining: 20.2s\n",
      "4:\tlearn: 4071.2768963\ttotal: 2.23s\tremaining: 20.1s\n",
      "5:\tlearn: 3993.3952258\ttotal: 2.71s\tremaining: 19.8s\n",
      "6:\tlearn: 3916.8711749\ttotal: 3.18s\tremaining: 19.5s\n",
      "7:\tlearn: 3843.7040396\ttotal: 3.64s\tremaining: 19.1s\n",
      "8:\tlearn: 3772.9809320\ttotal: 4.12s\tremaining: 18.8s\n",
      "9:\tlearn: 3705.1870686\ttotal: 4.59s\tremaining: 18.4s\n",
      "10:\tlearn: 3638.5238534\ttotal: 5.06s\tremaining: 18s\n",
      "11:\tlearn: 3576.1551611\ttotal: 5.54s\tremaining: 17.5s\n",
      "12:\tlearn: 3515.2964124\ttotal: 6.01s\tremaining: 17.1s\n",
      "13:\tlearn: 3457.0912892\ttotal: 6.48s\tremaining: 16.7s\n",
      "14:\tlearn: 3400.5541535\ttotal: 6.95s\tremaining: 16.2s\n",
      "15:\tlearn: 3349.0363365\ttotal: 7.42s\tremaining: 15.8s\n",
      "16:\tlearn: 3299.3756637\ttotal: 7.88s\tremaining: 15.3s\n",
      "17:\tlearn: 3248.7788678\ttotal: 8.32s\tremaining: 14.8s\n",
      "18:\tlearn: 3200.5715882\ttotal: 8.79s\tremaining: 14.3s\n",
      "19:\tlearn: 3154.3228652\ttotal: 9.26s\tremaining: 13.9s\n",
      "20:\tlearn: 3110.1484195\ttotal: 9.73s\tremaining: 13.4s\n",
      "21:\tlearn: 3067.6287123\ttotal: 10.2s\tremaining: 13s\n",
      "22:\tlearn: 3026.4820337\ttotal: 10.7s\tremaining: 12.5s\n",
      "23:\tlearn: 2987.1621960\ttotal: 11.2s\tremaining: 12.1s\n",
      "24:\tlearn: 2948.5154216\ttotal: 11.6s\tremaining: 11.6s\n",
      "25:\tlearn: 2911.1931820\ttotal: 12.1s\tremaining: 11.2s\n",
      "26:\tlearn: 2875.1600938\ttotal: 12.7s\tremaining: 10.8s\n",
      "27:\tlearn: 2840.9483349\ttotal: 13.2s\tremaining: 10.3s\n",
      "28:\tlearn: 2808.1089664\ttotal: 13.7s\tremaining: 9.89s\n",
      "29:\tlearn: 2776.9054750\ttotal: 14.2s\tremaining: 9.46s\n",
      "30:\tlearn: 2747.8647459\ttotal: 14.7s\tremaining: 9.01s\n",
      "31:\tlearn: 2718.3765414\ttotal: 15.3s\tremaining: 8.58s\n",
      "32:\tlearn: 2690.6726375\ttotal: 15.8s\tremaining: 8.12s\n",
      "33:\tlearn: 2659.7731309\ttotal: 16.3s\tremaining: 7.66s\n",
      "34:\tlearn: 2630.6706747\ttotal: 16.8s\tremaining: 7.2s\n",
      "35:\tlearn: 2602.8757564\ttotal: 17.3s\tremaining: 6.74s\n",
      "36:\tlearn: 2575.0601375\ttotal: 17.9s\tremaining: 6.27s\n",
      "37:\tlearn: 2550.0636397\ttotal: 18.4s\tremaining: 5.81s\n",
      "38:\tlearn: 2525.2222778\ttotal: 18.9s\tremaining: 5.33s\n",
      "39:\tlearn: 2500.8967233\ttotal: 19.5s\tremaining: 4.87s\n",
      "40:\tlearn: 2477.5685403\ttotal: 20s\tremaining: 4.39s\n",
      "41:\tlearn: 2456.5972494\ttotal: 20.5s\tremaining: 3.91s\n",
      "42:\tlearn: 2435.8666950\ttotal: 21s\tremaining: 3.42s\n",
      "43:\tlearn: 2414.8848701\ttotal: 21.6s\tremaining: 2.94s\n",
      "44:\tlearn: 2396.0603812\ttotal: 22.1s\tremaining: 2.45s\n",
      "45:\tlearn: 2376.4931067\ttotal: 22.6s\tremaining: 1.97s\n",
      "46:\tlearn: 2357.8936481\ttotal: 23.1s\tremaining: 1.48s\n",
      "47:\tlearn: 2340.4409911\ttotal: 23.7s\tremaining: 986ms\n",
      "48:\tlearn: 2322.9581708\ttotal: 24.2s\tremaining: 493ms\n",
      "49:\tlearn: 2306.6728049\ttotal: 24.7s\tremaining: 0us\n",
      "0:\tlearn: 4421.5542100\ttotal: 641ms\tremaining: 31.4s\n",
      "1:\tlearn: 4329.9635955\ttotal: 1.25s\tremaining: 30s\n",
      "2:\tlearn: 4242.0575479\ttotal: 1.78s\tremaining: 27.9s\n",
      "3:\tlearn: 4155.7310815\ttotal: 2.33s\tremaining: 26.7s\n",
      "4:\tlearn: 4075.3472658\ttotal: 2.85s\tremaining: 25.6s\n",
      "5:\tlearn: 3995.8010835\ttotal: 3.38s\tremaining: 24.8s\n",
      "6:\tlearn: 3919.8012532\ttotal: 3.88s\tremaining: 23.9s\n",
      "7:\tlearn: 3846.8913399\ttotal: 4.42s\tremaining: 23.2s\n",
      "8:\tlearn: 3776.1585159\ttotal: 4.9s\tremaining: 22.3s\n",
      "9:\tlearn: 3706.7502607\ttotal: 5.39s\tremaining: 21.6s\n",
      "10:\tlearn: 3640.3496676\ttotal: 5.87s\tremaining: 20.8s\n",
      "11:\tlearn: 3576.8677388\ttotal: 6.36s\tremaining: 20.1s\n",
      "12:\tlearn: 3514.9952786\ttotal: 6.53s\tremaining: 18.6s\n",
      "13:\tlearn: 3455.3680449\ttotal: 7.01s\tremaining: 18s\n",
      "14:\tlearn: 3399.6330296\ttotal: 7.5s\tremaining: 17.5s\n",
      "15:\tlearn: 3344.8926384\ttotal: 7.98s\tremaining: 17s\n",
      "16:\tlearn: 3291.1699818\ttotal: 8.46s\tremaining: 16.4s\n",
      "17:\tlearn: 3240.4001936\ttotal: 8.96s\tremaining: 15.9s\n",
      "18:\tlearn: 3191.9366156\ttotal: 9.44s\tremaining: 15.4s\n",
      "19:\tlearn: 3146.2019406\ttotal: 9.93s\tremaining: 14.9s\n",
      "20:\tlearn: 3100.1736024\ttotal: 10.4s\tremaining: 14.4s\n",
      "21:\tlearn: 3055.4514633\ttotal: 10.9s\tremaining: 13.9s\n",
      "22:\tlearn: 3014.3872941\ttotal: 11.4s\tremaining: 13.4s\n",
      "23:\tlearn: 2973.6396061\ttotal: 11.9s\tremaining: 12.9s\n",
      "24:\tlearn: 2935.8911954\ttotal: 12.4s\tremaining: 12.4s\n",
      "25:\tlearn: 2898.5442489\ttotal: 12.9s\tremaining: 11.9s\n",
      "26:\tlearn: 2863.2470694\ttotal: 13.4s\tremaining: 11.4s\n",
      "27:\tlearn: 2828.0871147\ttotal: 13.9s\tremaining: 10.9s\n",
      "28:\tlearn: 2795.8792835\ttotal: 14.4s\tremaining: 10.4s\n",
      "29:\tlearn: 2764.0976346\ttotal: 14.9s\tremaining: 9.94s\n",
      "30:\tlearn: 2734.2022184\ttotal: 15.4s\tremaining: 9.43s\n",
      "31:\tlearn: 2704.1877398\ttotal: 15.9s\tremaining: 8.93s\n",
      "32:\tlearn: 2674.7086242\ttotal: 16.4s\tremaining: 8.43s\n",
      "33:\tlearn: 2647.0818490\ttotal: 16.8s\tremaining: 7.92s\n",
      "34:\tlearn: 2620.3811666\ttotal: 17.3s\tremaining: 7.42s\n",
      "35:\tlearn: 2591.5714015\ttotal: 17.8s\tremaining: 6.94s\n",
      "36:\tlearn: 2563.9202688\ttotal: 18.3s\tremaining: 6.44s\n",
      "37:\tlearn: 2538.0953095\ttotal: 18.8s\tremaining: 5.95s\n",
      "38:\tlearn: 2512.4281611\ttotal: 19.3s\tremaining: 5.45s\n",
      "39:\tlearn: 2488.1876570\ttotal: 19.8s\tremaining: 4.96s\n",
      "40:\tlearn: 2464.6333224\ttotal: 20.3s\tremaining: 4.46s\n",
      "41:\tlearn: 2441.3211754\ttotal: 20.8s\tremaining: 3.96s\n",
      "42:\tlearn: 2419.6411327\ttotal: 21.3s\tremaining: 3.47s\n",
      "43:\tlearn: 2398.1996288\ttotal: 21.8s\tremaining: 2.97s\n",
      "44:\tlearn: 2377.4768158\ttotal: 22.3s\tremaining: 2.48s\n",
      "45:\tlearn: 2357.4971732\ttotal: 22.8s\tremaining: 1.98s\n",
      "46:\tlearn: 2339.5401766\ttotal: 23.3s\tremaining: 1.48s\n",
      "47:\tlearn: 2321.5178206\ttotal: 23.7s\tremaining: 989ms\n",
      "48:\tlearn: 2304.3223072\ttotal: 24.2s\tremaining: 494ms\n",
      "49:\tlearn: 2287.8284503\ttotal: 24.7s\tremaining: 0us\n",
      "best params\n",
      " {'l2_leaf_reg': 10, 'max_depth': 15}\n",
      "best RMSE\n",
      " -2322.545919033334\n",
      "Wall time: 5min 11s\n"
     ]
    }
   ],
   "source": [
    "%%time\n",
    "param_grid = {'l2_leaf_reg':[10,15],\n",
    "              'max_depth': [10,15],\n",
    "              }\n",
    "CatBoost_model = CatBoostRegressor(loss_function=\"RMSE\", iterations=50,cat_features=categorical_features)\n",
    "                                  \n",
    "parameters_CatBoost = GridSearchCV(estimator = CatBoost_model,param_grid = param_grid,n_jobs=1,scoring= 'neg_root_mean_squared_error',cv=5)\n",
    "\n",
    "parameters_CatBoost.fit(features_train, target_train)\n",
    "print('best params\\n', parameters_CatBoost.best_params_)\n",
    "print('best RMSE\\n', -parameters_CatBoost.best_score_)"
   ]
  },
  {
   "cell_type": "markdown",
   "metadata": {},
   "source": [
    "**Случайный лес**\n",
    "\n",
    "Для случайного леса придется кодировать категориальные признаки, используем OHE кодирование\n",
    "\n",
    "Разделим кодированные данные на датасеты\n",
    "\n",
    "Количественные признаки имеют разный масшаб, но для модели случайного леса масшабирование не требуется"
   ]
  },
  {
   "cell_type": "code",
   "execution_count": 40,
   "metadata": {},
   "outputs": [
    {
     "data": {
      "text/html": [
       "<div>\n",
       "<style scoped>\n",
       "    .dataframe tbody tr th:only-of-type {\n",
       "        vertical-align: middle;\n",
       "    }\n",
       "\n",
       "    .dataframe tbody tr th {\n",
       "        vertical-align: top;\n",
       "    }\n",
       "\n",
       "    .dataframe thead th {\n",
       "        text-align: right;\n",
       "    }\n",
       "</style>\n",
       "<table border=\"1\" class=\"dataframe\">\n",
       "  <thead>\n",
       "    <tr style=\"text-align: right;\">\n",
       "      <th></th>\n",
       "      <th>Price</th>\n",
       "      <th>VehicleType</th>\n",
       "      <th>RegistrationYear</th>\n",
       "      <th>Gearbox</th>\n",
       "      <th>Power</th>\n",
       "      <th>Model</th>\n",
       "      <th>Kilometer</th>\n",
       "      <th>RegistrationMonth</th>\n",
       "      <th>FuelType</th>\n",
       "      <th>Brand</th>\n",
       "      <th>Repaired</th>\n",
       "    </tr>\n",
       "  </thead>\n",
       "  <tbody>\n",
       "    <tr>\n",
       "      <th>0</th>\n",
       "      <td>480</td>\n",
       "      <td>unknown</td>\n",
       "      <td>1993</td>\n",
       "      <td>manual</td>\n",
       "      <td>0</td>\n",
       "      <td>golf</td>\n",
       "      <td>150000</td>\n",
       "      <td>0</td>\n",
       "      <td>petrol</td>\n",
       "      <td>volkswagen</td>\n",
       "      <td>unknown</td>\n",
       "    </tr>\n",
       "    <tr>\n",
       "      <th>1</th>\n",
       "      <td>18300</td>\n",
       "      <td>coupe</td>\n",
       "      <td>2011</td>\n",
       "      <td>manual</td>\n",
       "      <td>190</td>\n",
       "      <td>unknown</td>\n",
       "      <td>125000</td>\n",
       "      <td>5</td>\n",
       "      <td>gasoline</td>\n",
       "      <td>audi</td>\n",
       "      <td>yes</td>\n",
       "    </tr>\n",
       "    <tr>\n",
       "      <th>2</th>\n",
       "      <td>9800</td>\n",
       "      <td>suv</td>\n",
       "      <td>2004</td>\n",
       "      <td>auto</td>\n",
       "      <td>163</td>\n",
       "      <td>grand</td>\n",
       "      <td>125000</td>\n",
       "      <td>8</td>\n",
       "      <td>gasoline</td>\n",
       "      <td>jeep</td>\n",
       "      <td>unknown</td>\n",
       "    </tr>\n",
       "    <tr>\n",
       "      <th>3</th>\n",
       "      <td>1500</td>\n",
       "      <td>small</td>\n",
       "      <td>2001</td>\n",
       "      <td>manual</td>\n",
       "      <td>75</td>\n",
       "      <td>golf</td>\n",
       "      <td>150000</td>\n",
       "      <td>6</td>\n",
       "      <td>petrol</td>\n",
       "      <td>volkswagen</td>\n",
       "      <td>no</td>\n",
       "    </tr>\n",
       "    <tr>\n",
       "      <th>4</th>\n",
       "      <td>3600</td>\n",
       "      <td>small</td>\n",
       "      <td>2008</td>\n",
       "      <td>manual</td>\n",
       "      <td>69</td>\n",
       "      <td>fabia</td>\n",
       "      <td>90000</td>\n",
       "      <td>7</td>\n",
       "      <td>gasoline</td>\n",
       "      <td>skoda</td>\n",
       "      <td>no</td>\n",
       "    </tr>\n",
       "  </tbody>\n",
       "</table>\n",
       "</div>"
      ],
      "text/plain": [
       "   Price VehicleType  RegistrationYear Gearbox  Power    Model  Kilometer  \\\n",
       "0    480     unknown              1993  manual      0     golf     150000   \n",
       "1  18300       coupe              2011  manual    190  unknown     125000   \n",
       "2   9800         suv              2004    auto    163    grand     125000   \n",
       "3   1500       small              2001  manual     75     golf     150000   \n",
       "4   3600       small              2008  manual     69    fabia      90000   \n",
       "\n",
       "   RegistrationMonth  FuelType       Brand Repaired  \n",
       "0                  0    petrol  volkswagen  unknown  \n",
       "1                  5  gasoline        audi      yes  \n",
       "2                  8  gasoline        jeep  unknown  \n",
       "3                  6    petrol  volkswagen       no  \n",
       "4                  7  gasoline       skoda       no  "
      ]
     },
     "metadata": {},
     "output_type": "display_data"
    },
    {
     "name": "stdout",
     "output_type": "stream",
     "text": [
      "(211656, 10)\n",
      "(70553, 10)\n",
      "(70553, 10)\n"
     ]
    }
   ],
   "source": [
    "df_ord=df.copy()\n",
    "\n",
    "encoder = OrdinalEncoder()\n",
    "\n",
    "cat_columns = ['VehicleType','Gearbox','Model','FuelType','Brand','Repaired']\n",
    "\n",
    "df_ord[cat_columns]=encoder.fit_transform(df_ord[cat_columns])\n",
    "\n",
    "display(df.head())\n",
    "\n",
    "features_ord = df_ord.drop(['Price'], axis = 1)  \n",
    "target_ord = df_ord['Price'] \n",
    "\n",
    "features_train_ord, features_valid_ord, target_train_ord, target_valid_ord = train_test_split(features_ord,target_ord, test_size=0.2,train_size=0.8,random_state=123)\n",
    "features_train_ord, features_test_ord, target_train_ord, target_test_ord = train_test_split(features_train_ord, target_train_ord, test_size=0.25,train_size=0.75,random_state=123)\n",
    "\n",
    "print(features_train_ord.shape)\n",
    "print(features_valid_ord.shape)\n",
    "print(features_test_ord.shape)"
   ]
  },
  {
   "cell_type": "code",
   "execution_count": 41,
   "metadata": {},
   "outputs": [
    {
     "data": {
      "text/html": [
       "<div>\n",
       "<style scoped>\n",
       "    .dataframe tbody tr th:only-of-type {\n",
       "        vertical-align: middle;\n",
       "    }\n",
       "\n",
       "    .dataframe tbody tr th {\n",
       "        vertical-align: top;\n",
       "    }\n",
       "\n",
       "    .dataframe thead th {\n",
       "        text-align: right;\n",
       "    }\n",
       "</style>\n",
       "<table border=\"1\" class=\"dataframe\">\n",
       "  <thead>\n",
       "    <tr style=\"text-align: right;\">\n",
       "      <th></th>\n",
       "      <th>Price</th>\n",
       "      <th>RegistrationYear</th>\n",
       "      <th>Power</th>\n",
       "      <th>Kilometer</th>\n",
       "      <th>RegistrationMonth</th>\n",
       "      <th>VehicleType_convertible</th>\n",
       "      <th>VehicleType_coupe</th>\n",
       "      <th>VehicleType_other</th>\n",
       "      <th>VehicleType_sedan</th>\n",
       "      <th>VehicleType_small</th>\n",
       "      <th>...</th>\n",
       "      <th>Brand_smart</th>\n",
       "      <th>Brand_sonstige_autos</th>\n",
       "      <th>Brand_subaru</th>\n",
       "      <th>Brand_suzuki</th>\n",
       "      <th>Brand_toyota</th>\n",
       "      <th>Brand_trabant</th>\n",
       "      <th>Brand_volkswagen</th>\n",
       "      <th>Brand_volvo</th>\n",
       "      <th>Repaired_unknown</th>\n",
       "      <th>Repaired_yes</th>\n",
       "    </tr>\n",
       "  </thead>\n",
       "  <tbody>\n",
       "    <tr>\n",
       "      <th>0</th>\n",
       "      <td>480</td>\n",
       "      <td>1993</td>\n",
       "      <td>0</td>\n",
       "      <td>150000</td>\n",
       "      <td>0</td>\n",
       "      <td>0</td>\n",
       "      <td>0</td>\n",
       "      <td>0</td>\n",
       "      <td>0</td>\n",
       "      <td>0</td>\n",
       "      <td>...</td>\n",
       "      <td>0</td>\n",
       "      <td>0</td>\n",
       "      <td>0</td>\n",
       "      <td>0</td>\n",
       "      <td>0</td>\n",
       "      <td>0</td>\n",
       "      <td>1</td>\n",
       "      <td>0</td>\n",
       "      <td>1</td>\n",
       "      <td>0</td>\n",
       "    </tr>\n",
       "    <tr>\n",
       "      <th>1</th>\n",
       "      <td>18300</td>\n",
       "      <td>2011</td>\n",
       "      <td>190</td>\n",
       "      <td>125000</td>\n",
       "      <td>5</td>\n",
       "      <td>0</td>\n",
       "      <td>1</td>\n",
       "      <td>0</td>\n",
       "      <td>0</td>\n",
       "      <td>0</td>\n",
       "      <td>...</td>\n",
       "      <td>0</td>\n",
       "      <td>0</td>\n",
       "      <td>0</td>\n",
       "      <td>0</td>\n",
       "      <td>0</td>\n",
       "      <td>0</td>\n",
       "      <td>0</td>\n",
       "      <td>0</td>\n",
       "      <td>0</td>\n",
       "      <td>1</td>\n",
       "    </tr>\n",
       "    <tr>\n",
       "      <th>2</th>\n",
       "      <td>9800</td>\n",
       "      <td>2004</td>\n",
       "      <td>163</td>\n",
       "      <td>125000</td>\n",
       "      <td>8</td>\n",
       "      <td>0</td>\n",
       "      <td>0</td>\n",
       "      <td>0</td>\n",
       "      <td>0</td>\n",
       "      <td>0</td>\n",
       "      <td>...</td>\n",
       "      <td>0</td>\n",
       "      <td>0</td>\n",
       "      <td>0</td>\n",
       "      <td>0</td>\n",
       "      <td>0</td>\n",
       "      <td>0</td>\n",
       "      <td>0</td>\n",
       "      <td>0</td>\n",
       "      <td>1</td>\n",
       "      <td>0</td>\n",
       "    </tr>\n",
       "    <tr>\n",
       "      <th>3</th>\n",
       "      <td>1500</td>\n",
       "      <td>2001</td>\n",
       "      <td>75</td>\n",
       "      <td>150000</td>\n",
       "      <td>6</td>\n",
       "      <td>0</td>\n",
       "      <td>0</td>\n",
       "      <td>0</td>\n",
       "      <td>0</td>\n",
       "      <td>1</td>\n",
       "      <td>...</td>\n",
       "      <td>0</td>\n",
       "      <td>0</td>\n",
       "      <td>0</td>\n",
       "      <td>0</td>\n",
       "      <td>0</td>\n",
       "      <td>0</td>\n",
       "      <td>1</td>\n",
       "      <td>0</td>\n",
       "      <td>0</td>\n",
       "      <td>0</td>\n",
       "    </tr>\n",
       "    <tr>\n",
       "      <th>4</th>\n",
       "      <td>3600</td>\n",
       "      <td>2008</td>\n",
       "      <td>69</td>\n",
       "      <td>90000</td>\n",
       "      <td>7</td>\n",
       "      <td>0</td>\n",
       "      <td>0</td>\n",
       "      <td>0</td>\n",
       "      <td>0</td>\n",
       "      <td>1</td>\n",
       "      <td>...</td>\n",
       "      <td>0</td>\n",
       "      <td>0</td>\n",
       "      <td>0</td>\n",
       "      <td>0</td>\n",
       "      <td>0</td>\n",
       "      <td>0</td>\n",
       "      <td>0</td>\n",
       "      <td>0</td>\n",
       "      <td>0</td>\n",
       "      <td>0</td>\n",
       "    </tr>\n",
       "  </tbody>\n",
       "</table>\n",
       "<p>5 rows × 313 columns</p>\n",
       "</div>"
      ],
      "text/plain": [
       "   Price  RegistrationYear  Power  Kilometer  RegistrationMonth  \\\n",
       "0    480              1993      0     150000                  0   \n",
       "1  18300              2011    190     125000                  5   \n",
       "2   9800              2004    163     125000                  8   \n",
       "3   1500              2001     75     150000                  6   \n",
       "4   3600              2008     69      90000                  7   \n",
       "\n",
       "   VehicleType_convertible  VehicleType_coupe  VehicleType_other  \\\n",
       "0                        0                  0                  0   \n",
       "1                        0                  1                  0   \n",
       "2                        0                  0                  0   \n",
       "3                        0                  0                  0   \n",
       "4                        0                  0                  0   \n",
       "\n",
       "   VehicleType_sedan  VehicleType_small  ...  Brand_smart  \\\n",
       "0                  0                  0  ...            0   \n",
       "1                  0                  0  ...            0   \n",
       "2                  0                  0  ...            0   \n",
       "3                  0                  1  ...            0   \n",
       "4                  0                  1  ...            0   \n",
       "\n",
       "   Brand_sonstige_autos  Brand_subaru  Brand_suzuki  Brand_toyota  \\\n",
       "0                     0             0             0             0   \n",
       "1                     0             0             0             0   \n",
       "2                     0             0             0             0   \n",
       "3                     0             0             0             0   \n",
       "4                     0             0             0             0   \n",
       "\n",
       "   Brand_trabant  Brand_volkswagen  Brand_volvo  Repaired_unknown  \\\n",
       "0              0                 1            0                 1   \n",
       "1              0                 0            0                 0   \n",
       "2              0                 0            0                 1   \n",
       "3              0                 1            0                 0   \n",
       "4              0                 0            0                 0   \n",
       "\n",
       "   Repaired_yes  \n",
       "0             0  \n",
       "1             1  \n",
       "2             0  \n",
       "3             0  \n",
       "4             0  \n",
       "\n",
       "[5 rows x 313 columns]"
      ]
     },
     "metadata": {},
     "output_type": "display_data"
    },
    {
     "name": "stdout",
     "output_type": "stream",
     "text": [
      "(211656, 312)\n",
      "(70553, 312)\n",
      "(70553, 312)\n"
     ]
    }
   ],
   "source": [
    "df_ohe=pd.get_dummies(df, drop_first=True)\n",
    "display(df_ohe.head())\n",
    "\n",
    "features_ohe = df_ohe.drop(['Price'], axis = 1)  \n",
    "target_ohe = df_ohe['Price'] \n",
    "\n",
    "features_train_ohe, features_valid_ohe, target_train_ohe, target_valid_ohe = train_test_split(features_ohe,target_ohe, test_size=0.2,train_size=0.8,random_state=123)\n",
    "features_train_ohe, features_test_ohe, target_train_ohe, target_test_ohe = train_test_split(features_train_ohe, target_train_ohe, test_size=0.25,train_size=0.75,random_state=123)\n",
    "\n",
    "print(features_train_ohe.shape)\n",
    "print(features_valid_ohe.shape)\n",
    "print(features_test_ohe.shape)"
   ]
  },
  {
   "cell_type": "code",
   "execution_count": 42,
   "metadata": {},
   "outputs": [
    {
     "name": "stdout",
     "output_type": "stream",
     "text": [
      "Time: 00:00:25\n",
      "Wall time: 25.4 s\n"
     ]
    }
   ],
   "source": [
    "%%time\n",
    "\n",
    "start = time.time() \n",
    "\n",
    "RandomForest_model = RandomForestRegressor(max_depth=10, random_state = 12345)\n",
    "RandomForest_model.fit(features_train_ord, target_train_ord)\n",
    "\n",
    "end = time.time()\n",
    "RandomForest_learn=exec_time(start,end)"
   ]
  },
  {
   "cell_type": "code",
   "execution_count": 47,
   "metadata": {},
   "outputs": [
    {
     "name": "stdout",
     "output_type": "stream",
     "text": [
      "Time: 00:00:01\n",
      "RMSE for RandomForest -> test: 1992.0103372329725\n",
      "Wall time: 581 ms\n"
     ]
    }
   ],
   "source": [
    "%%time\n",
    "\n",
    "start = time.time() \n",
    "\n",
    "predicted_test_RandomForest = RandomForest_model.predict(features_test_ord)\n",
    "\n",
    "end = time.time()\n",
    "RandomForest_predict=exec_time(start,end)\n",
    "\n",
    "print('RMSE for RandomForest -> test:', mean_squared_error(target_test_ord, predicted_test_RandomForest) ** 0.5)\n",
    "\n",
    "\n",
    "RandomForest_RMSE=mean_squared_error(target_test, predicted_test_RandomForest) ** 0.5"
   ]
  },
  {
   "cell_type": "markdown",
   "metadata": {},
   "source": [
    "Линейная модель заведомо медленнее бустинговых, остановимся на заданных гиперпараметрах"
   ]
  },
  {
   "cell_type": "markdown",
   "metadata": {},
   "source": [
    "## Анализ моделей"
   ]
  },
  {
   "cell_type": "markdown",
   "metadata": {},
   "source": [
    "Были обучены и подобраны гиперпараметры для трех моделей\n",
    "\n",
    "- LGBM\n",
    "\n",
    "- CatBoost\n",
    "\n",
    "- Случайный лес\n",
    "\n",
    "Бустинговая модель LGBM показала как наилучшее время обучения так и лучшую RMSE, с другой стороны, у CatBoost несколько лучшее время предсказания\n",
    "\n",
    "По сочетанию трех показателей (время обучения, время предсказания, качество модели) для финального тестирования будем использовать LGBM"
   ]
  },
  {
   "cell_type": "code",
   "execution_count": 48,
   "metadata": {},
   "outputs": [
    {
     "data": {
      "text/html": [
       "<div>\n",
       "<style scoped>\n",
       "    .dataframe tbody tr th:only-of-type {\n",
       "        vertical-align: middle;\n",
       "    }\n",
       "\n",
       "    .dataframe tbody tr th {\n",
       "        vertical-align: top;\n",
       "    }\n",
       "\n",
       "    .dataframe thead th {\n",
       "        text-align: right;\n",
       "    }\n",
       "</style>\n",
       "<table border=\"1\" class=\"dataframe\">\n",
       "  <thead>\n",
       "    <tr style=\"text-align: right;\">\n",
       "      <th></th>\n",
       "      <th>Модель</th>\n",
       "      <th>Скорость обучения</th>\n",
       "      <th>Скорость предсказания</th>\n",
       "      <th>RMSE</th>\n",
       "    </tr>\n",
       "  </thead>\n",
       "  <tbody>\n",
       "    <tr>\n",
       "      <th>0</th>\n",
       "      <td>LGBM</td>\n",
       "      <td>00:00:01</td>\n",
       "      <td>00:00:00</td>\n",
       "      <td>1725.695320</td>\n",
       "    </tr>\n",
       "    <tr>\n",
       "      <th>1</th>\n",
       "      <td>CatBoost</td>\n",
       "      <td>00:00:13</td>\n",
       "      <td>00:00:00</td>\n",
       "      <td>1893.619969</td>\n",
       "    </tr>\n",
       "    <tr>\n",
       "      <th>2</th>\n",
       "      <td>Случайный лес</td>\n",
       "      <td>00:00:25</td>\n",
       "      <td>00:00:01</td>\n",
       "      <td>1992.010337</td>\n",
       "    </tr>\n",
       "  </tbody>\n",
       "</table>\n",
       "</div>"
      ],
      "text/plain": [
       "          Модель Скорость обучения Скорость предсказания         RMSE\n",
       "0           LGBM          00:00:01              00:00:00  1725.695320\n",
       "1       CatBoost          00:00:13              00:00:00  1893.619969\n",
       "2  Случайный лес          00:00:25              00:00:01  1992.010337"
      ]
     },
     "metadata": {},
     "output_type": "display_data"
    }
   ],
   "source": [
    "result = {'Модель':['LGBM','CatBoost','Случайный лес'],\n",
    "          'Скорость обучения':[LGBM_learn,CatBoost_learn,RandomForest_learn],\n",
    "          'Скорость предсказания':[LGBM_predict,CatBoost_predict,RandomForest_predict],\n",
    "          'RMSE':[LGBM_RMSE,CatBoost_RMSE,RandomForest_RMSE]}\n",
    "\n",
    "result=pd.DataFrame(result)\n",
    "\n",
    "display(result)"
   ]
  },
  {
   "cell_type": "markdown",
   "metadata": {},
   "source": [
    "### Финальное тестирование модели"
   ]
  },
  {
   "cell_type": "code",
   "execution_count": 49,
   "metadata": {},
   "outputs": [
    {
     "name": "stdout",
     "output_type": "stream",
     "text": [
      "RMSE for LGBMR -> valid: 1700.619632754718\n",
      "Wall time: 2.37 s\n"
     ]
    }
   ],
   "source": [
    "%%time\n",
    "\n",
    "LGBM_model = lgb.LGBMRegressor(num_leaves= 100, learning_rate=0.1, max_depth=15, n_estimators=300)\n",
    "LGBM_model.fit(features_train, target_train, eval_metric='rmse', categorical_feature=categorical_features)\n",
    "predicted_valid_LGBM = LGBM_model.predict(features_valid)\n",
    "\n",
    "print('RMSE for LGBMR -> valid:', mean_squared_error(target_valid, predicted_valid_LGBM) ** 0.5)"
   ]
  },
  {
   "cell_type": "markdown",
   "metadata": {},
   "source": [
    "## Выводы\n",
    "\n",
    "- Проведены предобработка и анализ представленных данных с помощью различных моделей машинного обучения, по каждому этапу представлены промежуточные выводы\n",
    "- В данной задаче, по критериям, требуемым заказчиком наиболее подходящей моделью является LGBM, она показывает наилучшее быстродействие и качество обучения"
   ]
  },
  {
   "cell_type": "markdown",
   "metadata": {},
   "source": [
    "## Чек-лист проверки"
   ]
  },
  {
   "cell_type": "markdown",
   "metadata": {},
   "source": [
    "Поставьте 'x' в выполненных пунктах. Далее нажмите Shift+Enter."
   ]
  },
  {
   "cell_type": "markdown",
   "metadata": {},
   "source": [
    "- [x]  Jupyter Notebook открыт\n",
    "- [ ]  Весь код выполняется без ошибок\n",
    "- [ ]  Ячейки с кодом расположены в порядке исполнения\n",
    "- [ ]  Выполнена загрузка и подготовка данных\n",
    "- [ ]  Выполнено обучение моделей\n",
    "- [ ]  Есть анализ скорости работы и качества моделей"
   ]
  }
 ],
 "metadata": {
  "ExecuteTimeLog": [
   {
    "duration": 420,
    "start_time": "2023-06-18T16:34:15.540Z"
   },
   {
    "duration": 1001,
    "start_time": "2023-06-18T16:34:15.962Z"
   },
   {
    "duration": 121,
    "start_time": "2023-06-18T16:34:16.965Z"
   },
   {
    "duration": 132,
    "start_time": "2023-06-18T16:34:17.087Z"
   },
   {
    "duration": 16,
    "start_time": "2023-06-18T16:34:17.221Z"
   },
   {
    "duration": 120,
    "start_time": "2023-06-18T16:34:51.720Z"
   },
   {
    "duration": 112,
    "start_time": "2023-06-18T16:35:09.864Z"
   },
   {
    "duration": 1213,
    "start_time": "2023-06-18T16:37:02.600Z"
   },
   {
    "duration": 1112,
    "start_time": "2023-06-18T16:37:15.540Z"
   },
   {
    "duration": 5,
    "start_time": "2023-06-18T16:37:23.672Z"
   },
   {
    "duration": 3,
    "start_time": "2023-06-18T16:37:38.841Z"
   },
   {
    "duration": 113,
    "start_time": "2023-06-18T16:37:49.300Z"
   },
   {
    "duration": 116,
    "start_time": "2023-06-18T16:38:00.375Z"
   },
   {
    "duration": 5,
    "start_time": "2023-06-18T16:38:08.293Z"
   },
   {
    "duration": 11,
    "start_time": "2023-06-18T16:39:49.842Z"
   },
   {
    "duration": 939,
    "start_time": "2023-06-18T16:40:12.102Z"
   },
   {
    "duration": 497,
    "start_time": "2023-06-18T16:40:26.401Z"
   },
   {
    "duration": 404,
    "start_time": "2023-06-18T16:40:31.588Z"
   },
   {
    "duration": 390,
    "start_time": "2023-06-18T16:40:41.600Z"
   },
   {
    "duration": 1005,
    "start_time": "2023-06-18T16:42:23.741Z"
   },
   {
    "duration": 885,
    "start_time": "2023-06-18T16:42:31.588Z"
   },
   {
    "duration": 1721,
    "start_time": "2023-06-18T16:42:45.794Z"
   },
   {
    "duration": 1333,
    "start_time": "2023-06-18T16:42:53.740Z"
   },
   {
    "duration": 1831,
    "start_time": "2023-06-18T16:43:09.701Z"
   },
   {
    "duration": 1863,
    "start_time": "2023-06-18T16:43:28.494Z"
   },
   {
    "duration": 1812,
    "start_time": "2023-06-18T16:43:40.920Z"
   },
   {
    "duration": 1742,
    "start_time": "2023-06-18T16:43:56.660Z"
   },
   {
    "duration": 1954,
    "start_time": "2023-06-18T16:44:18.143Z"
   },
   {
    "duration": 1977,
    "start_time": "2023-06-18T16:44:32.678Z"
   },
   {
    "duration": 7,
    "start_time": "2023-06-18T16:47:09.920Z"
   },
   {
    "duration": 3,
    "start_time": "2023-06-18T16:47:34.740Z"
   },
   {
    "duration": 2024,
    "start_time": "2023-06-18T16:47:53.398Z"
   },
   {
    "duration": 2007,
    "start_time": "2023-06-18T16:48:03.060Z"
   },
   {
    "duration": 1944,
    "start_time": "2023-06-18T16:48:36.047Z"
   },
   {
    "duration": 2066,
    "start_time": "2023-06-18T16:49:00.220Z"
   },
   {
    "duration": 6,
    "start_time": "2023-06-18T18:30:00.700Z"
   },
   {
    "duration": 7,
    "start_time": "2023-06-18T18:33:00.398Z"
   },
   {
    "duration": 142,
    "start_time": "2023-06-18T18:33:34.202Z"
   },
   {
    "duration": 9,
    "start_time": "2023-06-18T18:33:48.469Z"
   },
   {
    "duration": 27,
    "start_time": "2023-06-18T18:33:59.008Z"
   },
   {
    "duration": 9,
    "start_time": "2023-06-18T18:34:24.908Z"
   },
   {
    "duration": 28,
    "start_time": "2023-06-18T18:34:51.460Z"
   },
   {
    "duration": 29,
    "start_time": "2023-06-18T18:35:06.800Z"
   },
   {
    "duration": 12,
    "start_time": "2023-06-18T18:37:01.690Z"
   },
   {
    "duration": 10,
    "start_time": "2023-06-18T18:37:07.849Z"
   },
   {
    "duration": 9,
    "start_time": "2023-06-18T18:37:24.919Z"
   },
   {
    "duration": 9,
    "start_time": "2023-06-18T18:37:37.319Z"
   },
   {
    "duration": 8,
    "start_time": "2023-06-18T18:37:49.391Z"
   },
   {
    "duration": 7,
    "start_time": "2023-06-18T18:39:01.191Z"
   },
   {
    "duration": 6,
    "start_time": "2023-06-18T18:39:16.404Z"
   },
   {
    "duration": 125,
    "start_time": "2023-06-18T18:40:54.007Z"
   },
   {
    "duration": 20,
    "start_time": "2023-06-18T18:47:19.520Z"
   },
   {
    "duration": 24,
    "start_time": "2023-06-18T18:47:24.997Z"
   },
   {
    "duration": 25,
    "start_time": "2023-06-18T18:48:24.620Z"
   },
   {
    "duration": 21,
    "start_time": "2023-06-18T18:48:27.139Z"
   },
   {
    "duration": 23,
    "start_time": "2023-06-18T18:48:32.139Z"
   },
   {
    "duration": 19,
    "start_time": "2023-06-18T18:48:34.507Z"
   },
   {
    "duration": 205,
    "start_time": "2023-06-18T18:50:02.694Z"
   },
   {
    "duration": 424,
    "start_time": "2023-06-18T18:50:20.994Z"
   },
   {
    "duration": 203,
    "start_time": "2023-06-18T18:50:37.800Z"
   },
   {
    "duration": 204,
    "start_time": "2023-06-18T18:50:44.340Z"
   },
   {
    "duration": 191,
    "start_time": "2023-06-18T18:50:59.420Z"
   },
   {
    "duration": 173,
    "start_time": "2023-06-18T18:53:12.493Z"
   },
   {
    "duration": 23,
    "start_time": "2023-06-18T18:53:25.772Z"
   },
   {
    "duration": 73,
    "start_time": "2023-06-18T18:53:57.592Z"
   },
   {
    "duration": 218,
    "start_time": "2023-06-18T18:54:02.739Z"
   },
   {
    "duration": 19,
    "start_time": "2023-06-18T18:54:06.964Z"
   },
   {
    "duration": 39,
    "start_time": "2023-06-18T18:54:10.002Z"
   },
   {
    "duration": 20,
    "start_time": "2023-06-18T18:54:11.399Z"
   },
   {
    "duration": 20,
    "start_time": "2023-06-18T18:54:26.993Z"
   },
   {
    "duration": 15,
    "start_time": "2023-06-18T18:54:27.540Z"
   },
   {
    "duration": 22,
    "start_time": "2023-06-18T18:54:28.020Z"
   },
   {
    "duration": 217,
    "start_time": "2023-06-18T18:54:31.241Z"
   },
   {
    "duration": 25,
    "start_time": "2023-06-18T18:57:39.187Z"
   },
   {
    "duration": 15,
    "start_time": "2023-06-18T18:58:11.792Z"
   },
   {
    "duration": 24,
    "start_time": "2023-06-18T18:58:12.120Z"
   },
   {
    "duration": 15,
    "start_time": "2023-06-18T18:58:12.561Z"
   },
   {
    "duration": 25,
    "start_time": "2023-06-18T18:58:12.899Z"
   },
   {
    "duration": 38,
    "start_time": "2023-06-18T18:58:13.603Z"
   },
   {
    "duration": 320,
    "start_time": "2023-06-18T19:00:41.020Z"
   },
   {
    "duration": 400,
    "start_time": "2023-06-18T19:00:51.619Z"
   },
   {
    "duration": 310,
    "start_time": "2023-06-18T19:01:05.320Z"
   },
   {
    "duration": 2,
    "start_time": "2023-06-18T19:01:09.140Z"
   },
   {
    "duration": 697,
    "start_time": "2023-06-18T19:01:09.701Z"
   },
   {
    "duration": 133,
    "start_time": "2023-06-18T19:01:10.399Z"
   },
   {
    "duration": 118,
    "start_time": "2023-06-18T19:01:10.892Z"
   },
   {
    "duration": 204,
    "start_time": "2023-06-18T19:01:13.040Z"
   },
   {
    "duration": 118,
    "start_time": "2023-06-18T19:01:13.440Z"
   },
   {
    "duration": 119,
    "start_time": "2023-06-18T19:01:13.691Z"
   },
   {
    "duration": 114,
    "start_time": "2023-06-18T19:01:13.948Z"
   },
   {
    "duration": 120,
    "start_time": "2023-06-18T19:01:14.199Z"
   },
   {
    "duration": 1174,
    "start_time": "2023-06-18T19:01:14.500Z"
   },
   {
    "duration": 311,
    "start_time": "2023-06-18T19:01:15.892Z"
   },
   {
    "duration": 623,
    "start_time": "2023-06-18T19:01:52.020Z"
   },
   {
    "duration": 747,
    "start_time": "2023-06-18T19:01:52.646Z"
   },
   {
    "duration": 129,
    "start_time": "2023-06-18T19:01:53.395Z"
   },
   {
    "duration": 118,
    "start_time": "2023-06-18T19:01:53.531Z"
   },
   {
    "duration": 199,
    "start_time": "2023-06-18T19:01:53.651Z"
   },
   {
    "duration": 105,
    "start_time": "2023-06-18T19:01:53.851Z"
   },
   {
    "duration": 105,
    "start_time": "2023-06-18T19:01:53.957Z"
   },
   {
    "duration": 109,
    "start_time": "2023-06-18T19:01:54.064Z"
   },
   {
    "duration": 117,
    "start_time": "2023-06-18T19:01:54.175Z"
   },
   {
    "duration": 1151,
    "start_time": "2023-06-18T19:01:54.294Z"
   },
   {
    "duration": 342,
    "start_time": "2023-06-18T19:01:55.446Z"
   },
   {
    "duration": 0,
    "start_time": "2023-06-18T19:01:55.789Z"
   },
   {
    "duration": 0,
    "start_time": "2023-06-18T19:01:55.790Z"
   },
   {
    "duration": 53,
    "start_time": "2023-06-18T19:02:59.059Z"
   },
   {
    "duration": 51,
    "start_time": "2023-06-18T19:03:44.334Z"
   },
   {
    "duration": 63,
    "start_time": "2023-06-18T19:03:44.739Z"
   },
   {
    "duration": 52,
    "start_time": "2023-06-18T19:03:45.121Z"
   },
   {
    "duration": 55,
    "start_time": "2023-06-18T19:03:45.491Z"
   },
   {
    "duration": 51,
    "start_time": "2023-06-18T19:03:45.839Z"
   },
   {
    "duration": 992,
    "start_time": "2023-06-18T19:03:46.792Z"
   },
   {
    "duration": 983,
    "start_time": "2023-06-18T19:04:04.811Z"
   },
   {
    "duration": 304,
    "start_time": "2023-06-18T19:04:08.200Z"
   },
   {
    "duration": 628,
    "start_time": "2023-06-18T19:04:15.494Z"
   },
   {
    "duration": 786,
    "start_time": "2023-06-18T19:04:16.124Z"
   },
   {
    "duration": 138,
    "start_time": "2023-06-18T19:04:16.912Z"
   },
   {
    "duration": 124,
    "start_time": "2023-06-18T19:04:17.052Z"
   },
   {
    "duration": 139,
    "start_time": "2023-06-18T19:04:17.178Z"
   },
   {
    "duration": 120,
    "start_time": "2023-06-18T19:04:17.318Z"
   },
   {
    "duration": 117,
    "start_time": "2023-06-18T19:04:17.440Z"
   },
   {
    "duration": 126,
    "start_time": "2023-06-18T19:04:17.559Z"
   },
   {
    "duration": 153,
    "start_time": "2023-06-18T19:04:17.686Z"
   },
   {
    "duration": 187,
    "start_time": "2023-06-18T19:04:17.840Z"
   },
   {
    "duration": 5,
    "start_time": "2023-06-18T19:04:18.032Z"
   },
   {
    "duration": 1762,
    "start_time": "2023-06-18T19:04:18.038Z"
   },
   {
    "duration": 18,
    "start_time": "2023-06-18T19:04:19.802Z"
   },
   {
    "duration": 545,
    "start_time": "2023-06-18T19:04:58.093Z"
   },
   {
    "duration": 742,
    "start_time": "2023-06-18T19:04:58.640Z"
   },
   {
    "duration": 121,
    "start_time": "2023-06-18T19:04:59.384Z"
   },
   {
    "duration": 125,
    "start_time": "2023-06-18T19:04:59.507Z"
   },
   {
    "duration": 131,
    "start_time": "2023-06-18T19:04:59.634Z"
   },
   {
    "duration": 120,
    "start_time": "2023-06-18T19:04:59.766Z"
   },
   {
    "duration": 120,
    "start_time": "2023-06-18T19:04:59.888Z"
   },
   {
    "duration": 130,
    "start_time": "2023-06-18T19:05:00.010Z"
   },
   {
    "duration": 139,
    "start_time": "2023-06-18T19:05:00.142Z"
   },
   {
    "duration": 170,
    "start_time": "2023-06-18T19:05:00.283Z"
   },
   {
    "duration": 2,
    "start_time": "2023-06-18T19:05:00.455Z"
   },
   {
    "duration": 1760,
    "start_time": "2023-06-18T19:05:00.459Z"
   },
   {
    "duration": 20,
    "start_time": "2023-06-18T19:05:02.221Z"
   },
   {
    "duration": 569,
    "start_time": "2023-06-18T19:05:38.292Z"
   },
   {
    "duration": 786,
    "start_time": "2023-06-18T19:05:38.863Z"
   },
   {
    "duration": 136,
    "start_time": "2023-06-18T19:05:39.651Z"
   },
   {
    "duration": 138,
    "start_time": "2023-06-18T19:05:39.789Z"
   },
   {
    "duration": 2,
    "start_time": "2023-06-18T19:05:39.932Z"
   },
   {
    "duration": 7,
    "start_time": "2023-06-18T19:05:39.935Z"
   },
   {
    "duration": 4,
    "start_time": "2023-06-18T19:05:39.944Z"
   },
   {
    "duration": 5,
    "start_time": "2023-06-18T19:05:39.949Z"
   },
   {
    "duration": 5,
    "start_time": "2023-06-18T19:05:39.955Z"
   },
   {
    "duration": 105,
    "start_time": "2023-06-18T19:05:39.962Z"
   },
   {
    "duration": 3,
    "start_time": "2023-06-18T19:05:40.068Z"
   },
   {
    "duration": 1704,
    "start_time": "2023-06-18T19:05:40.072Z"
   },
   {
    "duration": 13,
    "start_time": "2023-06-18T19:05:41.778Z"
   },
   {
    "duration": 7,
    "start_time": "2023-06-18T19:05:54.520Z"
   },
   {
    "duration": 72,
    "start_time": "2023-06-18T19:06:06.796Z"
   },
   {
    "duration": 8,
    "start_time": "2023-06-18T19:06:15.660Z"
   },
   {
    "duration": 622,
    "start_time": "2023-06-18T19:08:00.324Z"
   },
   {
    "duration": 821,
    "start_time": "2023-06-18T19:08:01.599Z"
   },
   {
    "duration": 119,
    "start_time": "2023-06-18T19:08:02.422Z"
   },
   {
    "duration": 88,
    "start_time": "2023-06-18T19:08:02.840Z"
   },
   {
    "duration": 70,
    "start_time": "2023-06-18T19:08:03.921Z"
   },
   {
    "duration": 125,
    "start_time": "2023-06-18T19:08:11.947Z"
   },
   {
    "duration": 80,
    "start_time": "2023-06-18T19:08:37.244Z"
   },
   {
    "duration": 124,
    "start_time": "2023-06-18T19:08:40.119Z"
   },
   {
    "duration": 115,
    "start_time": "2023-06-18T19:08:40.560Z"
   },
   {
    "duration": 107,
    "start_time": "2023-06-18T19:08:40.960Z"
   },
   {
    "duration": 117,
    "start_time": "2023-06-18T19:08:41.319Z"
   },
   {
    "duration": 131,
    "start_time": "2023-06-18T19:08:41.747Z"
   },
   {
    "duration": 161,
    "start_time": "2023-06-18T19:08:43.388Z"
   },
   {
    "duration": 1738,
    "start_time": "2023-06-18T19:09:16.800Z"
   },
   {
    "duration": 6,
    "start_time": "2023-06-18T19:09:33.640Z"
   },
   {
    "duration": 6,
    "start_time": "2023-06-18T19:09:45.972Z"
   },
   {
    "duration": 271,
    "start_time": "2023-06-18T19:13:15.099Z"
   },
   {
    "duration": 2833,
    "start_time": "2023-06-18T19:13:56.539Z"
   },
   {
    "duration": 852,
    "start_time": "2023-06-18T19:14:12.599Z"
   },
   {
    "duration": 342,
    "start_time": "2023-06-18T19:14:26.007Z"
   },
   {
    "duration": 957,
    "start_time": "2023-06-18T19:14:43.920Z"
   },
   {
    "duration": 267,
    "start_time": "2023-06-18T19:15:10.474Z"
   },
   {
    "duration": 965,
    "start_time": "2023-06-18T19:25:10.363Z"
   },
   {
    "duration": 884,
    "start_time": "2023-06-18T19:25:30.120Z"
   },
   {
    "duration": 270,
    "start_time": "2023-06-18T19:25:38.820Z"
   },
   {
    "duration": 971,
    "start_time": "2023-06-18T19:25:50.320Z"
   },
   {
    "duration": 890,
    "start_time": "2023-06-18T19:26:01.291Z"
   },
   {
    "duration": 873,
    "start_time": "2023-06-18T19:26:07.793Z"
   },
   {
    "duration": 73,
    "start_time": "2023-06-18T19:27:40.944Z"
   },
   {
    "duration": 12,
    "start_time": "2023-06-18T19:28:01.020Z"
   },
   {
    "duration": 10,
    "start_time": "2023-06-18T19:28:14.091Z"
   },
   {
    "duration": 16,
    "start_time": "2023-06-18T19:28:57.303Z"
   },
   {
    "duration": 673,
    "start_time": "2023-06-18T19:29:21.507Z"
   },
   {
    "duration": 51,
    "start_time": "2023-06-18T19:29:34.620Z"
   },
   {
    "duration": 9,
    "start_time": "2023-06-18T19:29:59.521Z"
   },
   {
    "duration": 9,
    "start_time": "2023-06-18T19:30:04.799Z"
   },
   {
    "duration": 7,
    "start_time": "2023-06-18T19:30:19.787Z"
   },
   {
    "duration": 68,
    "start_time": "2023-06-18T19:40:34.880Z"
   },
   {
    "duration": 1778,
    "start_time": "2023-06-18T19:40:35.601Z"
   },
   {
    "duration": 308,
    "start_time": "2023-06-18T19:41:07.974Z"
   },
   {
    "duration": 11,
    "start_time": "2023-06-18T19:41:49.943Z"
   },
   {
    "duration": 17,
    "start_time": "2023-06-18T19:42:42.364Z"
   },
   {
    "duration": 15,
    "start_time": "2023-06-18T19:42:58.621Z"
   },
   {
    "duration": 1768,
    "start_time": "2023-06-18T19:45:02.801Z"
   },
   {
    "duration": 35,
    "start_time": "2023-06-18T19:45:45.880Z"
   },
   {
    "duration": 788,
    "start_time": "2023-06-18T19:46:14.586Z"
   },
   {
    "duration": 815,
    "start_time": "2023-06-18T19:46:15.376Z"
   },
   {
    "duration": 124,
    "start_time": "2023-06-18T19:46:16.193Z"
   },
   {
    "duration": 101,
    "start_time": "2023-06-18T19:46:16.319Z"
   },
   {
    "duration": 139,
    "start_time": "2023-06-18T19:46:16.433Z"
   },
   {
    "duration": 132,
    "start_time": "2023-06-18T19:46:16.574Z"
   },
   {
    "duration": 134,
    "start_time": "2023-06-18T19:46:16.708Z"
   },
   {
    "duration": 126,
    "start_time": "2023-06-18T19:46:16.844Z"
   },
   {
    "duration": 120,
    "start_time": "2023-06-18T19:46:16.972Z"
   },
   {
    "duration": 143,
    "start_time": "2023-06-18T19:46:17.094Z"
   },
   {
    "duration": 232,
    "start_time": "2023-06-18T19:46:17.239Z"
   },
   {
    "duration": 0,
    "start_time": "2023-06-18T19:46:17.474Z"
   },
   {
    "duration": 0,
    "start_time": "2023-06-18T19:46:17.476Z"
   },
   {
    "duration": 0,
    "start_time": "2023-06-18T19:46:17.477Z"
   },
   {
    "duration": 0,
    "start_time": "2023-06-18T19:46:17.479Z"
   },
   {
    "duration": 0,
    "start_time": "2023-06-18T19:46:17.480Z"
   },
   {
    "duration": 0,
    "start_time": "2023-06-18T19:46:17.482Z"
   },
   {
    "duration": 0,
    "start_time": "2023-06-18T19:46:17.483Z"
   },
   {
    "duration": 0,
    "start_time": "2023-06-18T19:46:17.484Z"
   },
   {
    "duration": 166,
    "start_time": "2023-06-18T19:46:38.181Z"
   },
   {
    "duration": 6,
    "start_time": "2023-06-18T19:46:38.821Z"
   },
   {
    "duration": 71,
    "start_time": "2023-06-18T19:46:39.020Z"
   },
   {
    "duration": 1740,
    "start_time": "2023-06-18T19:46:39.200Z"
   },
   {
    "duration": 871,
    "start_time": "2023-06-18T19:46:40.942Z"
   },
   {
    "duration": 17,
    "start_time": "2023-06-18T19:46:41.815Z"
   },
   {
    "duration": 28,
    "start_time": "2023-06-18T19:46:41.835Z"
   },
   {
    "duration": 4,
    "start_time": "2023-06-18T19:48:09.840Z"
   },
   {
    "duration": 5,
    "start_time": "2023-06-18T19:48:41.519Z"
   },
   {
    "duration": 4,
    "start_time": "2023-06-18T19:49:04.920Z"
   },
   {
    "duration": 632,
    "start_time": "2023-06-18T19:49:15.440Z"
   },
   {
    "duration": 783,
    "start_time": "2023-06-18T19:49:16.074Z"
   },
   {
    "duration": 138,
    "start_time": "2023-06-18T19:49:16.858Z"
   },
   {
    "duration": 116,
    "start_time": "2023-06-18T19:49:16.997Z"
   },
   {
    "duration": 136,
    "start_time": "2023-06-18T19:49:17.116Z"
   },
   {
    "duration": 185,
    "start_time": "2023-06-18T19:49:17.255Z"
   },
   {
    "duration": 129,
    "start_time": "2023-06-18T19:49:17.442Z"
   },
   {
    "duration": 117,
    "start_time": "2023-06-18T19:49:17.573Z"
   },
   {
    "duration": 144,
    "start_time": "2023-06-18T19:49:17.692Z"
   },
   {
    "duration": 148,
    "start_time": "2023-06-18T19:49:17.839Z"
   },
   {
    "duration": 202,
    "start_time": "2023-06-18T19:49:17.989Z"
   },
   {
    "duration": 6,
    "start_time": "2023-06-18T19:49:18.192Z"
   },
   {
    "duration": 69,
    "start_time": "2023-06-18T19:49:18.200Z"
   },
   {
    "duration": 0,
    "start_time": "2023-06-18T19:49:18.271Z"
   },
   {
    "duration": 0,
    "start_time": "2023-06-18T19:49:18.272Z"
   },
   {
    "duration": 0,
    "start_time": "2023-06-18T19:49:18.274Z"
   },
   {
    "duration": 0,
    "start_time": "2023-06-18T19:49:18.275Z"
   },
   {
    "duration": 0,
    "start_time": "2023-06-18T19:49:18.277Z"
   },
   {
    "duration": 4,
    "start_time": "2023-06-18T19:55:04.120Z"
   },
   {
    "duration": 5,
    "start_time": "2023-06-18T19:55:38.006Z"
   },
   {
    "duration": 62,
    "start_time": "2023-06-18T19:55:45.539Z"
   },
   {
    "duration": 181,
    "start_time": "2023-06-18T19:56:02.020Z"
   },
   {
    "duration": 15,
    "start_time": "2023-06-18T19:56:20.500Z"
   },
   {
    "duration": 1734,
    "start_time": "2023-06-18T19:56:39.621Z"
   },
   {
    "duration": 862,
    "start_time": "2023-06-18T19:56:41.358Z"
   },
   {
    "duration": 22,
    "start_time": "2023-06-18T19:56:42.222Z"
   },
   {
    "duration": 1002,
    "start_time": "2023-06-18T19:57:09.239Z"
   },
   {
    "duration": 858,
    "start_time": "2023-06-18T19:57:18.380Z"
   },
   {
    "duration": 1972,
    "start_time": "2023-06-18T19:57:26.300Z"
   },
   {
    "duration": 33,
    "start_time": "2023-06-18T20:00:10.199Z"
   },
   {
    "duration": 15,
    "start_time": "2023-06-18T20:00:23.679Z"
   },
   {
    "duration": 599,
    "start_time": "2023-06-18T20:01:54.695Z"
   },
   {
    "duration": 1080,
    "start_time": "2023-06-18T20:03:26.200Z"
   },
   {
    "duration": 8,
    "start_time": "2023-06-18T20:04:45.387Z"
   },
   {
    "duration": 10,
    "start_time": "2023-06-18T20:04:56.999Z"
   },
   {
    "duration": 9,
    "start_time": "2023-06-18T20:05:07.287Z"
   },
   {
    "duration": 84,
    "start_time": "2023-06-18T20:05:21.899Z"
   },
   {
    "duration": 10,
    "start_time": "2023-06-18T20:05:28.020Z"
   },
   {
    "duration": 9,
    "start_time": "2023-06-18T20:05:43.263Z"
   },
   {
    "duration": 71,
    "start_time": "2023-06-18T20:05:55.800Z"
   },
   {
    "duration": 12,
    "start_time": "2023-06-18T20:06:07.139Z"
   },
   {
    "duration": 13,
    "start_time": "2023-06-18T20:06:23.339Z"
   },
   {
    "duration": 223,
    "start_time": "2023-06-18T20:06:34.400Z"
   },
   {
    "duration": 195,
    "start_time": "2023-06-18T20:06:44.020Z"
   },
   {
    "duration": 224,
    "start_time": "2023-06-18T20:06:49.789Z"
   },
   {
    "duration": 1563,
    "start_time": "2023-06-18T20:06:53.640Z"
   },
   {
    "duration": 1607,
    "start_time": "2023-06-18T20:07:28.501Z"
   },
   {
    "duration": 12,
    "start_time": "2023-06-18T20:10:29.919Z"
   },
   {
    "duration": 9,
    "start_time": "2023-06-18T20:10:44.439Z"
   },
   {
    "duration": 10,
    "start_time": "2023-06-18T20:10:51.820Z"
   },
   {
    "duration": 10,
    "start_time": "2023-06-18T20:11:21.180Z"
   },
   {
    "duration": 10,
    "start_time": "2023-06-18T20:11:46.118Z"
   },
   {
    "duration": 6,
    "start_time": "2023-06-18T20:12:18.091Z"
   },
   {
    "duration": 123,
    "start_time": "2023-06-18T20:12:49.794Z"
   },
   {
    "duration": 120,
    "start_time": "2023-06-18T20:12:55.540Z"
   },
   {
    "duration": 630,
    "start_time": "2023-06-18T20:13:06.122Z"
   },
   {
    "duration": 793,
    "start_time": "2023-06-18T20:13:06.754Z"
   },
   {
    "duration": 133,
    "start_time": "2023-06-18T20:13:07.548Z"
   },
   {
    "duration": 115,
    "start_time": "2023-06-18T20:13:07.683Z"
   },
   {
    "duration": 133,
    "start_time": "2023-06-18T20:13:07.801Z"
   },
   {
    "duration": 146,
    "start_time": "2023-06-18T20:13:07.936Z"
   },
   {
    "duration": 131,
    "start_time": "2023-06-18T20:13:08.084Z"
   },
   {
    "duration": 125,
    "start_time": "2023-06-18T20:13:08.216Z"
   },
   {
    "duration": 123,
    "start_time": "2023-06-18T20:13:08.343Z"
   },
   {
    "duration": 138,
    "start_time": "2023-06-18T20:13:08.468Z"
   },
   {
    "duration": 189,
    "start_time": "2023-06-18T20:13:08.607Z"
   },
   {
    "duration": 7,
    "start_time": "2023-06-18T20:13:08.797Z"
   },
   {
    "duration": 1874,
    "start_time": "2023-06-18T20:13:08.806Z"
   },
   {
    "duration": 905,
    "start_time": "2023-06-18T20:13:10.683Z"
   },
   {
    "duration": 12,
    "start_time": "2023-06-18T20:13:11.590Z"
   },
   {
    "duration": 231,
    "start_time": "2023-06-18T20:13:11.604Z"
   },
   {
    "duration": 13,
    "start_time": "2023-06-18T20:13:11.837Z"
   },
   {
    "duration": 973,
    "start_time": "2023-06-18T20:13:11.852Z"
   },
   {
    "duration": 7,
    "start_time": "2023-06-18T20:13:12.831Z"
   },
   {
    "duration": 1506,
    "start_time": "2023-06-18T20:13:12.840Z"
   },
   {
    "duration": 17,
    "start_time": "2023-06-18T20:13:14.348Z"
   },
   {
    "duration": 812,
    "start_time": "2023-06-18T20:14:30.484Z"
   },
   {
    "duration": 429,
    "start_time": "2023-06-18T20:14:54.320Z"
   },
   {
    "duration": 949,
    "start_time": "2023-06-18T20:15:22.240Z"
   },
   {
    "duration": 67,
    "start_time": "2023-06-18T20:16:09.183Z"
   },
   {
    "duration": 8,
    "start_time": "2023-06-18T20:16:15.320Z"
   },
   {
    "duration": 12,
    "start_time": "2023-06-18T20:16:50.339Z"
   },
   {
    "duration": 33,
    "start_time": "2023-06-18T20:17:06.985Z"
   },
   {
    "duration": 15,
    "start_time": "2023-06-18T20:17:16.693Z"
   },
   {
    "duration": 67,
    "start_time": "2023-06-18T20:17:33.689Z"
   },
   {
    "duration": 8,
    "start_time": "2023-06-18T20:17:41.747Z"
   },
   {
    "duration": 5,
    "start_time": "2023-06-18T20:18:23.926Z"
   },
   {
    "duration": 11,
    "start_time": "2023-06-18T20:18:47.159Z"
   },
   {
    "duration": 374,
    "start_time": "2023-06-18T20:18:55.116Z"
   },
   {
    "duration": 802,
    "start_time": "2023-06-18T20:23:05.219Z"
   },
   {
    "duration": 11,
    "start_time": "2023-06-18T20:23:19.693Z"
   },
   {
    "duration": 12,
    "start_time": "2023-06-18T20:23:44.919Z"
   },
   {
    "duration": 551,
    "start_time": "2023-06-18T20:24:12.399Z"
   },
   {
    "duration": 7,
    "start_time": "2023-06-18T20:24:32.920Z"
   },
   {
    "duration": 7,
    "start_time": "2023-06-18T20:24:35.699Z"
   },
   {
    "duration": 8,
    "start_time": "2023-06-18T20:24:38.299Z"
   },
   {
    "duration": 10,
    "start_time": "2023-06-18T20:25:45.862Z"
   },
   {
    "duration": 6,
    "start_time": "2023-06-18T20:26:04.402Z"
   },
   {
    "duration": 5,
    "start_time": "2023-06-18T20:26:14.391Z"
   },
   {
    "duration": 5,
    "start_time": "2023-06-18T20:26:30.790Z"
   },
   {
    "duration": 6,
    "start_time": "2023-06-18T20:26:40.160Z"
   },
   {
    "duration": 695,
    "start_time": "2023-06-19T06:23:32.856Z"
   },
   {
    "duration": 904,
    "start_time": "2023-06-19T06:23:33.553Z"
   },
   {
    "duration": 103,
    "start_time": "2023-06-19T06:23:34.459Z"
   },
   {
    "duration": 85,
    "start_time": "2023-06-19T06:23:34.733Z"
   },
   {
    "duration": 92,
    "start_time": "2023-06-19T06:23:37.811Z"
   },
   {
    "duration": 122,
    "start_time": "2023-06-19T06:23:43.215Z"
   },
   {
    "duration": 4,
    "start_time": "2023-06-19T06:29:19.421Z"
   },
   {
    "duration": 8,
    "start_time": "2023-06-19T06:29:28.656Z"
   },
   {
    "duration": 2,
    "start_time": "2023-06-19T06:29:43.967Z"
   },
   {
    "duration": 780,
    "start_time": "2023-06-19T06:29:44.224Z"
   },
   {
    "duration": 112,
    "start_time": "2023-06-19T06:29:45.006Z"
   },
   {
    "duration": 99,
    "start_time": "2023-06-19T06:29:45.119Z"
   },
   {
    "duration": 101,
    "start_time": "2023-06-19T06:29:45.220Z"
   },
   {
    "duration": 156,
    "start_time": "2023-06-19T06:29:45.323Z"
   },
   {
    "duration": 107,
    "start_time": "2023-06-19T06:29:45.507Z"
   },
   {
    "duration": 102,
    "start_time": "2023-06-19T06:29:45.710Z"
   },
   {
    "duration": 115,
    "start_time": "2023-06-19T06:29:45.910Z"
   },
   {
    "duration": 126,
    "start_time": "2023-06-19T06:29:46.116Z"
   },
   {
    "duration": 164,
    "start_time": "2023-06-19T06:29:46.523Z"
   },
   {
    "duration": 6,
    "start_time": "2023-06-19T06:29:47.420Z"
   },
   {
    "duration": 1757,
    "start_time": "2023-06-19T06:29:48.049Z"
   },
   {
    "duration": 11,
    "start_time": "2023-06-19T06:29:49.808Z"
   },
   {
    "duration": 784,
    "start_time": "2023-06-19T06:29:49.820Z"
   },
   {
    "duration": 6,
    "start_time": "2023-06-19T06:29:55.457Z"
   },
   {
    "duration": 68,
    "start_time": "2023-06-19T06:30:00.814Z"
   },
   {
    "duration": 33,
    "start_time": "2023-06-19T06:30:49.540Z"
   },
   {
    "duration": 11,
    "start_time": "2023-06-19T06:31:02.324Z"
   },
   {
    "duration": 10,
    "start_time": "2023-06-19T06:31:14.306Z"
   },
   {
    "duration": 10,
    "start_time": "2023-06-19T06:31:22.376Z"
   },
   {
    "duration": 6,
    "start_time": "2023-06-19T06:33:43.675Z"
   },
   {
    "duration": 7,
    "start_time": "2023-06-19T06:33:51.204Z"
   },
   {
    "duration": 7,
    "start_time": "2023-06-19T06:33:55.496Z"
   },
   {
    "duration": 6,
    "start_time": "2023-06-19T06:34:05.032Z"
   },
   {
    "duration": 104,
    "start_time": "2023-06-19T06:34:30.095Z"
   },
   {
    "duration": 2,
    "start_time": "2023-06-19T06:34:44.347Z"
   },
   {
    "duration": 770,
    "start_time": "2023-06-19T06:34:44.828Z"
   },
   {
    "duration": 112,
    "start_time": "2023-06-19T06:34:45.600Z"
   },
   {
    "duration": 180,
    "start_time": "2023-06-19T06:34:45.713Z"
   },
   {
    "duration": 104,
    "start_time": "2023-06-19T06:34:46.931Z"
   },
   {
    "duration": 104,
    "start_time": "2023-06-19T06:35:07.137Z"
   },
   {
    "duration": 118,
    "start_time": "2023-06-19T06:35:08.465Z"
   },
   {
    "duration": 116,
    "start_time": "2023-06-19T06:35:08.641Z"
   },
   {
    "duration": 116,
    "start_time": "2023-06-19T06:35:08.832Z"
   },
   {
    "duration": 116,
    "start_time": "2023-06-19T06:35:09.042Z"
   },
   {
    "duration": 132,
    "start_time": "2023-06-19T06:35:09.515Z"
   },
   {
    "duration": 161,
    "start_time": "2023-06-19T06:35:10.312Z"
   },
   {
    "duration": 5,
    "start_time": "2023-06-19T06:35:11.264Z"
   },
   {
    "duration": 1558,
    "start_time": "2023-06-19T06:35:12.073Z"
   },
   {
    "duration": 677,
    "start_time": "2023-06-19T06:35:13.633Z"
   },
   {
    "duration": 5,
    "start_time": "2023-06-19T06:35:24.278Z"
   },
   {
    "duration": 31,
    "start_time": "2023-06-19T06:38:28.701Z"
   },
   {
    "duration": 1096,
    "start_time": "2023-06-19T06:38:42.360Z"
   },
   {
    "duration": 903,
    "start_time": "2023-06-19T06:39:07.517Z"
   },
   {
    "duration": 612,
    "start_time": "2023-06-19T06:39:30.012Z"
   },
   {
    "duration": 718,
    "start_time": "2023-06-19T06:39:30.626Z"
   },
   {
    "duration": 105,
    "start_time": "2023-06-19T06:39:31.345Z"
   },
   {
    "duration": 126,
    "start_time": "2023-06-19T06:39:31.452Z"
   },
   {
    "duration": 109,
    "start_time": "2023-06-19T06:39:31.581Z"
   },
   {
    "duration": 151,
    "start_time": "2023-06-19T06:39:31.692Z"
   },
   {
    "duration": 119,
    "start_time": "2023-06-19T06:39:31.845Z"
   },
   {
    "duration": 117,
    "start_time": "2023-06-19T06:39:31.965Z"
   },
   {
    "duration": 125,
    "start_time": "2023-06-19T06:39:32.084Z"
   },
   {
    "duration": 132,
    "start_time": "2023-06-19T06:39:32.211Z"
   },
   {
    "duration": 186,
    "start_time": "2023-06-19T06:39:32.345Z"
   },
   {
    "duration": 5,
    "start_time": "2023-06-19T06:39:32.533Z"
   },
   {
    "duration": 1682,
    "start_time": "2023-06-19T06:39:32.540Z"
   },
   {
    "duration": 710,
    "start_time": "2023-06-19T06:39:34.226Z"
   },
   {
    "duration": 7,
    "start_time": "2023-06-19T06:39:34.937Z"
   },
   {
    "duration": 31,
    "start_time": "2023-06-19T06:39:34.946Z"
   },
   {
    "duration": 1244,
    "start_time": "2023-06-19T06:39:34.978Z"
   },
   {
    "duration": 0,
    "start_time": "2023-06-19T06:39:36.224Z"
   },
   {
    "duration": 0,
    "start_time": "2023-06-19T06:39:36.225Z"
   },
   {
    "duration": 0,
    "start_time": "2023-06-19T06:39:36.226Z"
   },
   {
    "duration": 0,
    "start_time": "2023-06-19T06:39:36.227Z"
   },
   {
    "duration": 0,
    "start_time": "2023-06-19T06:39:36.228Z"
   },
   {
    "duration": 0,
    "start_time": "2023-06-19T06:39:36.229Z"
   },
   {
    "duration": 0,
    "start_time": "2023-06-19T06:39:36.230Z"
   },
   {
    "duration": 5,
    "start_time": "2023-06-19T06:39:57.666Z"
   },
   {
    "duration": 923,
    "start_time": "2023-06-19T06:40:18.147Z"
   },
   {
    "duration": 696,
    "start_time": "2023-06-19T06:40:25.034Z"
   },
   {
    "duration": 740,
    "start_time": "2023-06-19T06:40:25.732Z"
   },
   {
    "duration": 101,
    "start_time": "2023-06-19T06:40:26.473Z"
   },
   {
    "duration": 98,
    "start_time": "2023-06-19T06:40:26.576Z"
   },
   {
    "duration": 97,
    "start_time": "2023-06-19T06:40:26.676Z"
   },
   {
    "duration": 136,
    "start_time": "2023-06-19T06:40:26.774Z"
   },
   {
    "duration": 122,
    "start_time": "2023-06-19T06:40:26.912Z"
   },
   {
    "duration": 108,
    "start_time": "2023-06-19T06:40:27.036Z"
   },
   {
    "duration": 120,
    "start_time": "2023-06-19T06:40:27.145Z"
   },
   {
    "duration": 133,
    "start_time": "2023-06-19T06:40:27.267Z"
   },
   {
    "duration": 179,
    "start_time": "2023-06-19T06:40:27.401Z"
   },
   {
    "duration": 5,
    "start_time": "2023-06-19T06:40:27.582Z"
   },
   {
    "duration": 1618,
    "start_time": "2023-06-19T06:40:27.588Z"
   },
   {
    "duration": 680,
    "start_time": "2023-06-19T06:40:29.207Z"
   },
   {
    "duration": 11,
    "start_time": "2023-06-19T06:40:29.888Z"
   },
   {
    "duration": 39,
    "start_time": "2023-06-19T06:40:29.901Z"
   },
   {
    "duration": 22,
    "start_time": "2023-06-19T06:40:29.942Z"
   },
   {
    "duration": 479,
    "start_time": "2023-06-19T06:40:29.966Z"
   },
   {
    "duration": 8,
    "start_time": "2023-06-19T06:40:30.447Z"
   },
   {
    "duration": 46,
    "start_time": "2023-06-19T06:40:30.456Z"
   },
   {
    "duration": 498,
    "start_time": "2023-06-19T06:40:30.503Z"
   },
   {
    "duration": 4,
    "start_time": "2023-06-19T06:40:31.003Z"
   },
   {
    "duration": 84,
    "start_time": "2023-06-19T06:40:31.008Z"
   },
   {
    "duration": 0,
    "start_time": "2023-06-19T06:40:31.093Z"
   },
   {
    "duration": 6,
    "start_time": "2023-06-19T06:40:51.822Z"
   },
   {
    "duration": 15,
    "start_time": "2023-06-19T06:40:59.400Z"
   },
   {
    "duration": 23,
    "start_time": "2023-06-19T06:41:34.276Z"
   },
   {
    "duration": 9,
    "start_time": "2023-06-19T06:46:13.040Z"
   },
   {
    "duration": 23,
    "start_time": "2023-06-19T06:46:14.835Z"
   },
   {
    "duration": 654,
    "start_time": "2023-06-19T06:46:19.783Z"
   },
   {
    "duration": 692,
    "start_time": "2023-06-19T06:46:20.438Z"
   },
   {
    "duration": 107,
    "start_time": "2023-06-19T06:46:21.131Z"
   },
   {
    "duration": 106,
    "start_time": "2023-06-19T06:46:21.240Z"
   },
   {
    "duration": 102,
    "start_time": "2023-06-19T06:46:21.348Z"
   },
   {
    "duration": 141,
    "start_time": "2023-06-19T06:46:21.452Z"
   },
   {
    "duration": 116,
    "start_time": "2023-06-19T06:46:21.595Z"
   },
   {
    "duration": 114,
    "start_time": "2023-06-19T06:46:21.713Z"
   },
   {
    "duration": 114,
    "start_time": "2023-06-19T06:46:21.829Z"
   },
   {
    "duration": 135,
    "start_time": "2023-06-19T06:46:21.945Z"
   },
   {
    "duration": 198,
    "start_time": "2023-06-19T06:46:22.082Z"
   },
   {
    "duration": 5,
    "start_time": "2023-06-19T06:46:22.281Z"
   },
   {
    "duration": 1805,
    "start_time": "2023-06-19T06:46:22.288Z"
   },
   {
    "duration": 763,
    "start_time": "2023-06-19T06:46:24.099Z"
   },
   {
    "duration": 6,
    "start_time": "2023-06-19T06:46:24.864Z"
   },
   {
    "duration": 10,
    "start_time": "2023-06-19T06:46:24.871Z"
   },
   {
    "duration": 47,
    "start_time": "2023-06-19T06:46:24.883Z"
   },
   {
    "duration": 477,
    "start_time": "2023-06-19T06:46:24.932Z"
   },
   {
    "duration": 9,
    "start_time": "2023-06-19T06:46:25.410Z"
   },
   {
    "duration": 33,
    "start_time": "2023-06-19T06:46:25.422Z"
   },
   {
    "duration": 499,
    "start_time": "2023-06-19T06:46:25.456Z"
   },
   {
    "duration": 6,
    "start_time": "2023-06-19T06:46:25.956Z"
   },
   {
    "duration": 31,
    "start_time": "2023-06-19T06:46:25.963Z"
   },
   {
    "duration": 24,
    "start_time": "2023-06-19T06:46:57.363Z"
   },
   {
    "duration": 650,
    "start_time": "2023-06-19T06:47:01.527Z"
   },
   {
    "duration": 759,
    "start_time": "2023-06-19T06:47:02.179Z"
   },
   {
    "duration": 103,
    "start_time": "2023-06-19T06:47:02.939Z"
   },
   {
    "duration": 109,
    "start_time": "2023-06-19T06:47:03.043Z"
   },
   {
    "duration": 116,
    "start_time": "2023-06-19T06:47:03.154Z"
   },
   {
    "duration": 125,
    "start_time": "2023-06-19T06:47:03.271Z"
   },
   {
    "duration": 124,
    "start_time": "2023-06-19T06:47:03.399Z"
   },
   {
    "duration": 123,
    "start_time": "2023-06-19T06:47:03.525Z"
   },
   {
    "duration": 126,
    "start_time": "2023-06-19T06:47:03.650Z"
   },
   {
    "duration": 140,
    "start_time": "2023-06-19T06:47:03.779Z"
   },
   {
    "duration": 195,
    "start_time": "2023-06-19T06:47:03.920Z"
   },
   {
    "duration": 19,
    "start_time": "2023-06-19T06:47:04.117Z"
   },
   {
    "duration": 18,
    "start_time": "2023-06-19T06:47:04.138Z"
   },
   {
    "duration": 1886,
    "start_time": "2023-06-19T06:47:04.157Z"
   },
   {
    "duration": 793,
    "start_time": "2023-06-19T06:47:06.044Z"
   },
   {
    "duration": 6,
    "start_time": "2023-06-19T06:47:06.839Z"
   },
   {
    "duration": 13,
    "start_time": "2023-06-19T06:47:06.846Z"
   },
   {
    "duration": 49,
    "start_time": "2023-06-19T06:47:06.860Z"
   },
   {
    "duration": 476,
    "start_time": "2023-06-19T06:47:06.912Z"
   },
   {
    "duration": 9,
    "start_time": "2023-06-19T06:47:07.390Z"
   },
   {
    "duration": 16,
    "start_time": "2023-06-19T06:47:07.401Z"
   },
   {
    "duration": 528,
    "start_time": "2023-06-19T06:47:07.419Z"
   },
   {
    "duration": 6,
    "start_time": "2023-06-19T06:47:07.949Z"
   },
   {
    "duration": 37,
    "start_time": "2023-06-19T06:47:07.956Z"
   },
   {
    "duration": 636,
    "start_time": "2023-06-19T06:47:29.066Z"
   },
   {
    "duration": 750,
    "start_time": "2023-06-19T06:47:29.704Z"
   },
   {
    "duration": 120,
    "start_time": "2023-06-19T06:47:30.455Z"
   },
   {
    "duration": 149,
    "start_time": "2023-06-19T06:47:30.577Z"
   },
   {
    "duration": 122,
    "start_time": "2023-06-19T06:47:30.728Z"
   },
   {
    "duration": 31,
    "start_time": "2023-06-19T06:47:30.851Z"
   },
   {
    "duration": 174,
    "start_time": "2023-06-19T06:47:30.884Z"
   },
   {
    "duration": 123,
    "start_time": "2023-06-19T06:47:31.059Z"
   },
   {
    "duration": 135,
    "start_time": "2023-06-19T06:47:31.183Z"
   },
   {
    "duration": 125,
    "start_time": "2023-06-19T06:47:31.320Z"
   },
   {
    "duration": 192,
    "start_time": "2023-06-19T06:47:31.447Z"
   },
   {
    "duration": 194,
    "start_time": "2023-06-19T06:47:31.641Z"
   },
   {
    "duration": 15,
    "start_time": "2023-06-19T06:47:31.836Z"
   },
   {
    "duration": 74,
    "start_time": "2023-06-19T06:47:31.853Z"
   },
   {
    "duration": 1781,
    "start_time": "2023-06-19T06:47:31.929Z"
   },
   {
    "duration": 771,
    "start_time": "2023-06-19T06:47:33.715Z"
   },
   {
    "duration": 13,
    "start_time": "2023-06-19T06:47:34.488Z"
   },
   {
    "duration": 33,
    "start_time": "2023-06-19T06:47:34.503Z"
   },
   {
    "duration": 33,
    "start_time": "2023-06-19T06:47:34.538Z"
   },
   {
    "duration": 513,
    "start_time": "2023-06-19T06:47:34.572Z"
   },
   {
    "duration": 14,
    "start_time": "2023-06-19T06:47:35.086Z"
   },
   {
    "duration": 23,
    "start_time": "2023-06-19T06:47:35.102Z"
   },
   {
    "duration": 529,
    "start_time": "2023-06-19T06:47:35.126Z"
   },
   {
    "duration": 6,
    "start_time": "2023-06-19T06:47:35.656Z"
   },
   {
    "duration": 33,
    "start_time": "2023-06-19T06:47:35.663Z"
   },
   {
    "duration": 32,
    "start_time": "2023-06-19T06:50:54.233Z"
   },
   {
    "duration": 30,
    "start_time": "2023-06-19T06:51:06.424Z"
   },
   {
    "duration": 32,
    "start_time": "2023-06-19T06:51:55.075Z"
   },
   {
    "duration": 18,
    "start_time": "2023-06-19T06:51:55.265Z"
   },
   {
    "duration": 17,
    "start_time": "2023-06-19T06:51:55.457Z"
   },
   {
    "duration": 30,
    "start_time": "2023-06-19T06:51:55.654Z"
   },
   {
    "duration": 29,
    "start_time": "2023-06-19T06:51:55.858Z"
   },
   {
    "duration": 19,
    "start_time": "2023-06-19T06:52:01.126Z"
   },
   {
    "duration": 736,
    "start_time": "2023-06-19T06:52:05.534Z"
   },
   {
    "duration": 856,
    "start_time": "2023-06-19T06:52:06.274Z"
   },
   {
    "duration": 127,
    "start_time": "2023-06-19T06:52:07.132Z"
   },
   {
    "duration": 103,
    "start_time": "2023-06-19T06:52:07.261Z"
   },
   {
    "duration": 120,
    "start_time": "2023-06-19T06:52:07.367Z"
   },
   {
    "duration": 68,
    "start_time": "2023-06-19T06:52:07.489Z"
   },
   {
    "duration": 29,
    "start_time": "2023-06-19T06:52:07.559Z"
   },
   {
    "duration": 58,
    "start_time": "2023-06-19T06:52:07.589Z"
   },
   {
    "duration": 58,
    "start_time": "2023-06-19T06:52:07.648Z"
   },
   {
    "duration": 52,
    "start_time": "2023-06-19T06:52:07.712Z"
   },
   {
    "duration": 77,
    "start_time": "2023-06-19T06:52:07.765Z"
   },
   {
    "duration": 106,
    "start_time": "2023-06-19T06:52:07.843Z"
   },
   {
    "duration": 13,
    "start_time": "2023-06-19T06:52:07.951Z"
   },
   {
    "duration": 63,
    "start_time": "2023-06-19T06:52:07.966Z"
   },
   {
    "duration": 1891,
    "start_time": "2023-06-19T06:52:08.031Z"
   },
   {
    "duration": 819,
    "start_time": "2023-06-19T06:52:09.924Z"
   },
   {
    "duration": 7,
    "start_time": "2023-06-19T06:52:10.745Z"
   },
   {
    "duration": 30,
    "start_time": "2023-06-19T06:52:10.753Z"
   },
   {
    "duration": 30,
    "start_time": "2023-06-19T06:52:10.785Z"
   },
   {
    "duration": 508,
    "start_time": "2023-06-19T06:52:10.817Z"
   },
   {
    "duration": 7,
    "start_time": "2023-06-19T06:52:11.327Z"
   },
   {
    "duration": 27,
    "start_time": "2023-06-19T06:52:11.336Z"
   },
   {
    "duration": 550,
    "start_time": "2023-06-19T06:52:11.364Z"
   },
   {
    "duration": 11,
    "start_time": "2023-06-19T06:52:11.915Z"
   },
   {
    "duration": 44,
    "start_time": "2023-06-19T06:52:11.928Z"
   },
   {
    "duration": 17,
    "start_time": "2023-06-19T06:54:19.304Z"
   },
   {
    "duration": 23,
    "start_time": "2023-06-19T06:54:19.730Z"
   },
   {
    "duration": 20,
    "start_time": "2023-06-19T06:54:20.026Z"
   },
   {
    "duration": 21,
    "start_time": "2023-06-19T06:54:20.318Z"
   },
   {
    "duration": 20,
    "start_time": "2023-06-19T06:54:20.936Z"
   },
   {
    "duration": 13,
    "start_time": "2023-06-19T06:54:23.649Z"
   },
   {
    "duration": 4,
    "start_time": "2023-06-19T06:54:58.361Z"
   },
   {
    "duration": 18,
    "start_time": "2023-06-19T06:54:58.536Z"
   },
   {
    "duration": 3,
    "start_time": "2023-06-19T06:55:18.855Z"
   },
   {
    "duration": 761,
    "start_time": "2023-06-19T06:55:19.310Z"
   },
   {
    "duration": 808,
    "start_time": "2023-06-19T06:55:23.005Z"
   },
   {
    "duration": 812,
    "start_time": "2023-06-19T06:55:23.815Z"
   },
   {
    "duration": 124,
    "start_time": "2023-06-19T06:55:24.629Z"
   },
   {
    "duration": 125,
    "start_time": "2023-06-19T06:55:24.755Z"
   },
   {
    "duration": 142,
    "start_time": "2023-06-19T06:55:24.881Z"
   },
   {
    "duration": 51,
    "start_time": "2023-06-19T06:55:25.025Z"
   },
   {
    "duration": 126,
    "start_time": "2023-06-19T06:55:25.078Z"
   },
   {
    "duration": 35,
    "start_time": "2023-06-19T06:55:25.206Z"
   },
   {
    "duration": 35,
    "start_time": "2023-06-19T06:55:25.243Z"
   },
   {
    "duration": 25,
    "start_time": "2023-06-19T06:55:25.281Z"
   },
   {
    "duration": 46,
    "start_time": "2023-06-19T06:55:25.308Z"
   },
   {
    "duration": 58,
    "start_time": "2023-06-19T06:55:25.356Z"
   },
   {
    "duration": 46,
    "start_time": "2023-06-19T06:55:25.416Z"
   },
   {
    "duration": 181,
    "start_time": "2023-06-19T06:55:25.464Z"
   },
   {
    "duration": 11,
    "start_time": "2023-06-19T06:55:25.647Z"
   },
   {
    "duration": 20,
    "start_time": "2023-06-19T06:55:25.659Z"
   },
   {
    "duration": 2174,
    "start_time": "2023-06-19T06:55:25.680Z"
   },
   {
    "duration": 820,
    "start_time": "2023-06-19T06:55:27.856Z"
   },
   {
    "duration": 9,
    "start_time": "2023-06-19T06:55:28.678Z"
   },
   {
    "duration": 56,
    "start_time": "2023-06-19T06:55:28.689Z"
   },
   {
    "duration": 28,
    "start_time": "2023-06-19T06:55:28.747Z"
   },
   {
    "duration": 539,
    "start_time": "2023-06-19T06:55:28.776Z"
   },
   {
    "duration": 10,
    "start_time": "2023-06-19T06:55:29.318Z"
   },
   {
    "duration": 21,
    "start_time": "2023-06-19T06:55:29.329Z"
   },
   {
    "duration": 582,
    "start_time": "2023-06-19T06:55:29.351Z"
   },
   {
    "duration": 6,
    "start_time": "2023-06-19T06:55:29.935Z"
   },
   {
    "duration": 23,
    "start_time": "2023-06-19T06:55:29.942Z"
   },
   {
    "duration": 17,
    "start_time": "2023-06-19T06:58:05.290Z"
   },
   {
    "duration": 148,
    "start_time": "2023-06-19T07:09:49.411Z"
   },
   {
    "duration": 133,
    "start_time": "2023-06-19T07:10:08.859Z"
   },
   {
    "duration": 132,
    "start_time": "2023-06-19T07:10:15.441Z"
   },
   {
    "duration": 117,
    "start_time": "2023-06-19T07:10:30.393Z"
   },
   {
    "duration": 3,
    "start_time": "2023-06-19T07:10:31.136Z"
   },
   {
    "duration": 4,
    "start_time": "2023-06-19T07:10:53.091Z"
   },
   {
    "duration": 118,
    "start_time": "2023-06-19T07:11:36.247Z"
   },
   {
    "duration": 594,
    "start_time": "2023-06-19T07:12:12.061Z"
   },
   {
    "duration": 788,
    "start_time": "2023-06-19T07:12:12.657Z"
   },
   {
    "duration": 120,
    "start_time": "2023-06-19T07:12:13.446Z"
   },
   {
    "duration": 113,
    "start_time": "2023-06-19T07:12:13.567Z"
   },
   {
    "duration": 129,
    "start_time": "2023-06-19T07:12:13.682Z"
   },
   {
    "duration": 7,
    "start_time": "2023-06-19T07:12:13.813Z"
   },
   {
    "duration": 29,
    "start_time": "2023-06-19T07:12:13.822Z"
   },
   {
    "duration": 25,
    "start_time": "2023-06-19T07:12:13.853Z"
   },
   {
    "duration": 25,
    "start_time": "2023-06-19T07:12:13.879Z"
   },
   {
    "duration": 33,
    "start_time": "2023-06-19T07:12:13.906Z"
   },
   {
    "duration": 19,
    "start_time": "2023-06-19T07:12:13.940Z"
   },
   {
    "duration": 155,
    "start_time": "2023-06-19T07:12:13.961Z"
   },
   {
    "duration": 56,
    "start_time": "2023-06-19T07:12:14.120Z"
   },
   {
    "duration": 146,
    "start_time": "2023-06-19T07:12:14.179Z"
   },
   {
    "duration": 7,
    "start_time": "2023-06-19T07:12:14.329Z"
   },
   {
    "duration": 1882,
    "start_time": "2023-06-19T07:12:14.338Z"
   },
   {
    "duration": 877,
    "start_time": "2023-06-19T07:12:16.222Z"
   },
   {
    "duration": 15,
    "start_time": "2023-06-19T07:12:17.102Z"
   },
   {
    "duration": 47,
    "start_time": "2023-06-19T07:12:17.123Z"
   },
   {
    "duration": 34,
    "start_time": "2023-06-19T07:12:17.171Z"
   },
   {
    "duration": 491,
    "start_time": "2023-06-19T07:12:17.206Z"
   },
   {
    "duration": 6,
    "start_time": "2023-06-19T07:12:17.701Z"
   },
   {
    "duration": 27,
    "start_time": "2023-06-19T07:12:17.709Z"
   },
   {
    "duration": 571,
    "start_time": "2023-06-19T07:12:17.737Z"
   },
   {
    "duration": 6,
    "start_time": "2023-06-19T07:12:18.310Z"
   },
   {
    "duration": 17,
    "start_time": "2023-06-19T07:12:18.319Z"
   },
   {
    "duration": 6,
    "start_time": "2023-06-19T07:13:41.651Z"
   },
   {
    "duration": 520,
    "start_time": "2023-06-19T07:15:33.367Z"
   },
   {
    "duration": 105,
    "start_time": "2023-06-19T07:16:02.080Z"
   },
   {
    "duration": 529,
    "start_time": "2023-06-19T07:16:15.487Z"
   },
   {
    "duration": 482,
    "start_time": "2023-06-19T07:16:40.782Z"
   },
   {
    "duration": 391,
    "start_time": "2023-06-19T07:16:57.774Z"
   },
   {
    "duration": 428,
    "start_time": "2023-06-19T07:17:01.913Z"
   },
   {
    "duration": 497,
    "start_time": "2023-06-19T07:17:06.610Z"
   },
   {
    "duration": 451,
    "start_time": "2023-06-19T07:17:13.235Z"
   },
   {
    "duration": 386,
    "start_time": "2023-06-19T07:17:20.897Z"
   },
   {
    "duration": 496,
    "start_time": "2023-06-19T07:17:30.853Z"
   },
   {
    "duration": 407,
    "start_time": "2023-06-19T07:17:37.796Z"
   },
   {
    "duration": 397,
    "start_time": "2023-06-19T07:17:46.194Z"
   },
   {
    "duration": 336,
    "start_time": "2023-06-19T07:17:58.870Z"
   },
   {
    "duration": 344,
    "start_time": "2023-06-19T07:18:06.201Z"
   },
   {
    "duration": 351,
    "start_time": "2023-06-19T07:18:12.861Z"
   },
   {
    "duration": 353,
    "start_time": "2023-06-19T07:18:17.189Z"
   },
   {
    "duration": 419,
    "start_time": "2023-06-19T07:18:21.338Z"
   },
   {
    "duration": 336,
    "start_time": "2023-06-19T07:18:26.223Z"
   },
   {
    "duration": 5,
    "start_time": "2023-06-19T07:18:58.752Z"
   },
   {
    "duration": 363,
    "start_time": "2023-06-19T07:19:00.892Z"
   },
   {
    "duration": 10,
    "start_time": "2023-06-19T07:19:11.202Z"
   },
   {
    "duration": 205,
    "start_time": "2023-06-19T07:36:25.218Z"
   },
   {
    "duration": 85,
    "start_time": "2023-06-19T07:36:51.658Z"
   },
   {
    "duration": 71,
    "start_time": "2023-06-19T07:37:22.327Z"
   },
   {
    "duration": 63,
    "start_time": "2023-06-19T07:37:30.342Z"
   },
   {
    "duration": 695,
    "start_time": "2023-06-19T07:37:47.999Z"
   },
   {
    "duration": 894,
    "start_time": "2023-06-19T07:37:48.696Z"
   },
   {
    "duration": 119,
    "start_time": "2023-06-19T07:37:49.592Z"
   },
   {
    "duration": 160,
    "start_time": "2023-06-19T07:37:49.713Z"
   },
   {
    "duration": 4,
    "start_time": "2023-06-19T07:37:49.876Z"
   },
   {
    "duration": 48,
    "start_time": "2023-06-19T07:37:49.882Z"
   },
   {
    "duration": 45,
    "start_time": "2023-06-19T07:37:49.931Z"
   },
   {
    "duration": 22,
    "start_time": "2023-06-19T07:37:49.978Z"
   },
   {
    "duration": 53,
    "start_time": "2023-06-19T07:37:50.002Z"
   },
   {
    "duration": 49,
    "start_time": "2023-06-19T07:37:50.057Z"
   },
   {
    "duration": 166,
    "start_time": "2023-06-19T07:37:50.108Z"
   },
   {
    "duration": 212,
    "start_time": "2023-06-19T07:37:50.276Z"
   },
   {
    "duration": 137,
    "start_time": "2023-06-19T07:37:50.489Z"
   },
   {
    "duration": 87,
    "start_time": "2023-06-19T07:37:50.628Z"
   },
   {
    "duration": 0,
    "start_time": "2023-06-19T07:37:50.717Z"
   },
   {
    "duration": 0,
    "start_time": "2023-06-19T07:37:50.718Z"
   },
   {
    "duration": 0,
    "start_time": "2023-06-19T07:37:50.720Z"
   },
   {
    "duration": 0,
    "start_time": "2023-06-19T07:37:50.721Z"
   },
   {
    "duration": 0,
    "start_time": "2023-06-19T07:37:50.723Z"
   },
   {
    "duration": 0,
    "start_time": "2023-06-19T07:37:50.724Z"
   },
   {
    "duration": 0,
    "start_time": "2023-06-19T07:37:50.726Z"
   },
   {
    "duration": 0,
    "start_time": "2023-06-19T07:37:50.729Z"
   },
   {
    "duration": 0,
    "start_time": "2023-06-19T07:37:50.731Z"
   },
   {
    "duration": 0,
    "start_time": "2023-06-19T07:37:50.733Z"
   },
   {
    "duration": 0,
    "start_time": "2023-06-19T07:37:50.734Z"
   },
   {
    "duration": 0,
    "start_time": "2023-06-19T07:37:50.735Z"
   },
   {
    "duration": 0,
    "start_time": "2023-06-19T07:37:50.737Z"
   },
   {
    "duration": 0,
    "start_time": "2023-06-19T07:37:50.739Z"
   },
   {
    "duration": 612,
    "start_time": "2023-06-19T07:38:08.105Z"
   },
   {
    "duration": 788,
    "start_time": "2023-06-19T07:38:08.719Z"
   },
   {
    "duration": 111,
    "start_time": "2023-06-19T07:38:09.509Z"
   },
   {
    "duration": 129,
    "start_time": "2023-06-19T07:38:09.622Z"
   },
   {
    "duration": 11,
    "start_time": "2023-06-19T07:38:09.752Z"
   },
   {
    "duration": 21,
    "start_time": "2023-06-19T07:38:09.765Z"
   },
   {
    "duration": 39,
    "start_time": "2023-06-19T07:38:09.788Z"
   },
   {
    "duration": 34,
    "start_time": "2023-06-19T07:38:09.829Z"
   },
   {
    "duration": 55,
    "start_time": "2023-06-19T07:38:09.865Z"
   },
   {
    "duration": 24,
    "start_time": "2023-06-19T07:38:09.923Z"
   },
   {
    "duration": 145,
    "start_time": "2023-06-19T07:38:09.949Z"
   },
   {
    "duration": 6,
    "start_time": "2023-06-19T07:38:10.095Z"
   },
   {
    "duration": 107,
    "start_time": "2023-06-19T07:38:10.103Z"
   },
   {
    "duration": 354,
    "start_time": "2023-06-19T07:38:10.212Z"
   },
   {
    "duration": 6,
    "start_time": "2023-06-19T07:38:10.567Z"
   },
   {
    "duration": 1719,
    "start_time": "2023-06-19T07:38:10.575Z"
   },
   {
    "duration": 887,
    "start_time": "2023-06-19T07:38:12.296Z"
   },
   {
    "duration": 15,
    "start_time": "2023-06-19T07:38:13.185Z"
   },
   {
    "duration": 14,
    "start_time": "2023-06-19T07:38:13.202Z"
   },
   {
    "duration": 59,
    "start_time": "2023-06-19T07:38:13.218Z"
   },
   {
    "duration": 23,
    "start_time": "2023-06-19T07:38:13.279Z"
   },
   {
    "duration": 358,
    "start_time": "2023-06-19T07:38:13.303Z"
   },
   {
    "duration": 6,
    "start_time": "2023-06-19T07:38:13.662Z"
   },
   {
    "duration": 15,
    "start_time": "2023-06-19T07:38:13.669Z"
   },
   {
    "duration": 560,
    "start_time": "2023-06-19T07:38:13.686Z"
   },
   {
    "duration": 6,
    "start_time": "2023-06-19T07:38:14.248Z"
   },
   {
    "duration": 24,
    "start_time": "2023-06-19T07:38:14.256Z"
   },
   {
    "duration": 710,
    "start_time": "2023-06-19T07:39:55.106Z"
   },
   {
    "duration": 785,
    "start_time": "2023-06-19T07:39:55.818Z"
   },
   {
    "duration": 107,
    "start_time": "2023-06-19T07:39:56.604Z"
   },
   {
    "duration": 119,
    "start_time": "2023-06-19T07:39:56.712Z"
   },
   {
    "duration": 36,
    "start_time": "2023-06-19T07:39:56.833Z"
   },
   {
    "duration": 68,
    "start_time": "2023-06-19T07:39:56.871Z"
   },
   {
    "duration": 27,
    "start_time": "2023-06-19T07:39:56.940Z"
   },
   {
    "duration": 35,
    "start_time": "2023-06-19T07:39:56.968Z"
   },
   {
    "duration": 88,
    "start_time": "2023-06-19T07:39:57.004Z"
   },
   {
    "duration": 71,
    "start_time": "2023-06-19T07:39:57.093Z"
   },
   {
    "duration": 212,
    "start_time": "2023-06-19T07:39:57.165Z"
   },
   {
    "duration": 58,
    "start_time": "2023-06-19T07:39:57.379Z"
   },
   {
    "duration": 125,
    "start_time": "2023-06-19T07:39:57.439Z"
   },
   {
    "duration": 325,
    "start_time": "2023-06-19T07:39:57.566Z"
   },
   {
    "duration": 9,
    "start_time": "2023-06-19T07:39:57.893Z"
   },
   {
    "duration": 1589,
    "start_time": "2023-06-19T07:39:57.904Z"
   },
   {
    "duration": 814,
    "start_time": "2023-06-19T07:39:59.500Z"
   },
   {
    "duration": 7,
    "start_time": "2023-06-19T07:40:00.315Z"
   },
   {
    "duration": 48,
    "start_time": "2023-06-19T07:40:00.324Z"
   },
   {
    "duration": 143,
    "start_time": "2023-06-19T07:40:00.374Z"
   },
   {
    "duration": 12,
    "start_time": "2023-06-19T07:40:00.518Z"
   },
   {
    "duration": 443,
    "start_time": "2023-06-19T07:40:00.532Z"
   },
   {
    "duration": 5,
    "start_time": "2023-06-19T07:40:00.976Z"
   },
   {
    "duration": 118,
    "start_time": "2023-06-19T07:40:00.982Z"
   },
   {
    "duration": 537,
    "start_time": "2023-06-19T07:40:01.101Z"
   },
   {
    "duration": 6,
    "start_time": "2023-06-19T07:40:01.640Z"
   },
   {
    "duration": 244,
    "start_time": "2023-06-19T07:40:01.648Z"
   },
   {
    "duration": 616,
    "start_time": "2023-06-19T07:41:02.127Z"
   },
   {
    "duration": 703,
    "start_time": "2023-06-19T07:41:02.745Z"
   },
   {
    "duration": 117,
    "start_time": "2023-06-19T07:41:03.450Z"
   },
   {
    "duration": 125,
    "start_time": "2023-06-19T07:41:03.569Z"
   },
   {
    "duration": 11,
    "start_time": "2023-06-19T07:41:03.696Z"
   },
   {
    "duration": 30,
    "start_time": "2023-06-19T07:41:03.709Z"
   },
   {
    "duration": 31,
    "start_time": "2023-06-19T07:41:03.740Z"
   },
   {
    "duration": 26,
    "start_time": "2023-06-19T07:41:03.772Z"
   },
   {
    "duration": 17,
    "start_time": "2023-06-19T07:41:03.799Z"
   },
   {
    "duration": 17,
    "start_time": "2023-06-19T07:41:03.817Z"
   },
   {
    "duration": 14,
    "start_time": "2023-06-19T07:41:03.836Z"
   },
   {
    "duration": 107,
    "start_time": "2023-06-19T07:41:03.852Z"
   },
   {
    "duration": 3,
    "start_time": "2023-06-19T07:41:03.961Z"
   },
   {
    "duration": 105,
    "start_time": "2023-06-19T07:41:03.966Z"
   },
   {
    "duration": 334,
    "start_time": "2023-06-19T07:41:04.072Z"
   },
   {
    "duration": 7,
    "start_time": "2023-06-19T07:41:04.408Z"
   },
   {
    "duration": 1662,
    "start_time": "2023-06-19T07:41:04.416Z"
   },
   {
    "duration": 806,
    "start_time": "2023-06-19T07:41:06.079Z"
   },
   {
    "duration": 13,
    "start_time": "2023-06-19T07:41:06.887Z"
   },
   {
    "duration": 33,
    "start_time": "2023-06-19T07:41:06.902Z"
   },
   {
    "duration": 64,
    "start_time": "2023-06-19T07:41:06.936Z"
   },
   {
    "duration": 11,
    "start_time": "2023-06-19T07:41:07.001Z"
   },
   {
    "duration": 327,
    "start_time": "2023-06-19T07:41:07.014Z"
   },
   {
    "duration": 5,
    "start_time": "2023-06-19T07:41:07.343Z"
   },
   {
    "duration": 30,
    "start_time": "2023-06-19T07:41:07.349Z"
   },
   {
    "duration": 475,
    "start_time": "2023-06-19T07:41:07.380Z"
   },
   {
    "duration": 5,
    "start_time": "2023-06-19T07:41:07.856Z"
   },
   {
    "duration": 24,
    "start_time": "2023-06-19T07:41:07.862Z"
   },
   {
    "duration": 633,
    "start_time": "2023-06-19T07:41:20.189Z"
   },
   {
    "duration": 714,
    "start_time": "2023-06-19T07:41:20.824Z"
   },
   {
    "duration": 104,
    "start_time": "2023-06-19T07:41:21.540Z"
   },
   {
    "duration": 106,
    "start_time": "2023-06-19T07:41:21.646Z"
   },
   {
    "duration": 7,
    "start_time": "2023-06-19T07:41:21.754Z"
   },
   {
    "duration": 20,
    "start_time": "2023-06-19T07:41:21.763Z"
   },
   {
    "duration": 37,
    "start_time": "2023-06-19T07:41:21.784Z"
   },
   {
    "duration": 22,
    "start_time": "2023-06-19T07:41:21.823Z"
   },
   {
    "duration": 17,
    "start_time": "2023-06-19T07:41:21.846Z"
   },
   {
    "duration": 21,
    "start_time": "2023-06-19T07:41:21.864Z"
   },
   {
    "duration": 26,
    "start_time": "2023-06-19T07:41:21.887Z"
   },
   {
    "duration": 133,
    "start_time": "2023-06-19T07:41:21.914Z"
   },
   {
    "duration": 3,
    "start_time": "2023-06-19T07:41:22.048Z"
   },
   {
    "duration": 100,
    "start_time": "2023-06-19T07:41:22.054Z"
   },
   {
    "duration": 343,
    "start_time": "2023-06-19T07:41:22.156Z"
   },
   {
    "duration": 5,
    "start_time": "2023-06-19T07:41:22.501Z"
   },
   {
    "duration": 1574,
    "start_time": "2023-06-19T07:41:22.507Z"
   },
   {
    "duration": 813,
    "start_time": "2023-06-19T07:41:24.082Z"
   },
   {
    "duration": 7,
    "start_time": "2023-06-19T07:41:24.897Z"
   },
   {
    "duration": 23,
    "start_time": "2023-06-19T07:41:24.905Z"
   },
   {
    "duration": 67,
    "start_time": "2023-06-19T07:41:24.929Z"
   },
   {
    "duration": 12,
    "start_time": "2023-06-19T07:41:24.997Z"
   },
   {
    "duration": 346,
    "start_time": "2023-06-19T07:41:25.011Z"
   },
   {
    "duration": 5,
    "start_time": "2023-06-19T07:41:25.358Z"
   },
   {
    "duration": 22,
    "start_time": "2023-06-19T07:41:25.364Z"
   },
   {
    "duration": 519,
    "start_time": "2023-06-19T07:41:25.388Z"
   },
   {
    "duration": 5,
    "start_time": "2023-06-19T07:41:25.909Z"
   },
   {
    "duration": 45,
    "start_time": "2023-06-19T07:41:25.915Z"
   },
   {
    "duration": 7,
    "start_time": "2023-06-19T07:41:32.432Z"
   },
   {
    "duration": 7,
    "start_time": "2023-06-19T07:41:35.213Z"
   },
   {
    "duration": 7,
    "start_time": "2023-06-19T07:41:39.531Z"
   },
   {
    "duration": 8,
    "start_time": "2023-06-19T07:42:05.977Z"
   },
   {
    "duration": 83,
    "start_time": "2023-06-19T07:43:14.279Z"
   },
   {
    "duration": 152,
    "start_time": "2023-06-19T07:43:19.376Z"
   },
   {
    "duration": 159,
    "start_time": "2023-06-19T07:43:32.040Z"
   },
   {
    "duration": 149,
    "start_time": "2023-06-19T07:43:52.519Z"
   },
   {
    "duration": 150,
    "start_time": "2023-06-19T07:43:58.361Z"
   },
   {
    "duration": 162,
    "start_time": "2023-06-19T07:44:18.148Z"
   },
   {
    "duration": 161,
    "start_time": "2023-06-19T07:44:28.834Z"
   },
   {
    "duration": 159,
    "start_time": "2023-06-19T07:45:14.198Z"
   },
   {
    "duration": 2,
    "start_time": "2023-06-19T07:58:01.904Z"
   },
   {
    "duration": 728,
    "start_time": "2023-06-19T07:58:02.236Z"
   },
   {
    "duration": 107,
    "start_time": "2023-06-19T07:58:02.966Z"
   },
   {
    "duration": 116,
    "start_time": "2023-06-19T07:58:03.074Z"
   },
   {
    "duration": 17,
    "start_time": "2023-06-19T07:58:04.177Z"
   },
   {
    "duration": 18,
    "start_time": "2023-06-19T07:58:04.407Z"
   },
   {
    "duration": 17,
    "start_time": "2023-06-19T07:58:04.603Z"
   },
   {
    "duration": 30,
    "start_time": "2023-06-19T07:58:05.153Z"
   },
   {
    "duration": 21,
    "start_time": "2023-06-19T07:58:05.403Z"
   },
   {
    "duration": 120,
    "start_time": "2023-06-19T07:58:06.021Z"
   },
   {
    "duration": 3,
    "start_time": "2023-06-19T07:58:06.699Z"
   },
   {
    "duration": 250,
    "start_time": "2023-06-19T07:58:08.094Z"
   },
   {
    "duration": 106,
    "start_time": "2023-06-19T07:58:08.662Z"
   },
   {
    "duration": 8,
    "start_time": "2023-06-19T08:00:12.719Z"
   },
   {
    "duration": 54,
    "start_time": "2023-06-19T08:00:13.743Z"
   },
   {
    "duration": 7,
    "start_time": "2023-06-19T08:00:34.568Z"
   },
   {
    "duration": 49,
    "start_time": "2023-06-19T08:00:35.000Z"
   },
   {
    "duration": 3,
    "start_time": "2023-06-19T08:00:35.572Z"
   },
   {
    "duration": 48,
    "start_time": "2023-06-19T08:00:48.360Z"
   },
   {
    "duration": 4,
    "start_time": "2023-06-19T08:00:48.999Z"
   },
   {
    "duration": 7,
    "start_time": "2023-06-19T08:01:00.362Z"
   },
   {
    "duration": 4,
    "start_time": "2023-06-19T08:01:01.029Z"
   },
   {
    "duration": 89,
    "start_time": "2023-06-19T08:01:02.451Z"
   },
   {
    "duration": 177,
    "start_time": "2023-06-19T08:01:02.843Z"
   },
   {
    "duration": 686,
    "start_time": "2023-06-19T08:01:10.336Z"
   },
   {
    "duration": 798,
    "start_time": "2023-06-19T08:01:11.024Z"
   },
   {
    "duration": 115,
    "start_time": "2023-06-19T08:01:11.824Z"
   },
   {
    "duration": 131,
    "start_time": "2023-06-19T08:01:11.942Z"
   },
   {
    "duration": 24,
    "start_time": "2023-06-19T08:01:12.075Z"
   },
   {
    "duration": 97,
    "start_time": "2023-06-19T08:01:12.101Z"
   },
   {
    "duration": 30,
    "start_time": "2023-06-19T08:01:12.199Z"
   },
   {
    "duration": 29,
    "start_time": "2023-06-19T08:01:12.231Z"
   },
   {
    "duration": 47,
    "start_time": "2023-06-19T08:01:12.262Z"
   },
   {
    "duration": 126,
    "start_time": "2023-06-19T08:01:12.312Z"
   },
   {
    "duration": 3,
    "start_time": "2023-06-19T08:01:12.439Z"
   },
   {
    "duration": 199,
    "start_time": "2023-06-19T08:01:12.444Z"
   },
   {
    "duration": 113,
    "start_time": "2023-06-19T08:01:12.645Z"
   },
   {
    "duration": 382,
    "start_time": "2023-06-19T08:01:12.759Z"
   },
   {
    "duration": 6,
    "start_time": "2023-06-19T08:01:13.143Z"
   },
   {
    "duration": 1751,
    "start_time": "2023-06-19T08:01:13.151Z"
   },
   {
    "duration": 812,
    "start_time": "2023-06-19T08:01:14.904Z"
   },
   {
    "duration": 7,
    "start_time": "2023-06-19T08:01:15.718Z"
   },
   {
    "duration": 18,
    "start_time": "2023-06-19T08:01:15.727Z"
   },
   {
    "duration": 79,
    "start_time": "2023-06-19T08:01:15.747Z"
   },
   {
    "duration": 3,
    "start_time": "2023-06-19T08:01:15.828Z"
   },
   {
    "duration": 40,
    "start_time": "2023-06-19T08:01:15.833Z"
   },
   {
    "duration": 429,
    "start_time": "2023-06-19T08:01:15.875Z"
   },
   {
    "duration": 6,
    "start_time": "2023-06-19T08:01:16.306Z"
   },
   {
    "duration": 18,
    "start_time": "2023-06-19T08:01:16.314Z"
   },
   {
    "duration": 469,
    "start_time": "2023-06-19T08:01:16.334Z"
   },
   {
    "duration": 6,
    "start_time": "2023-06-19T08:01:16.805Z"
   },
   {
    "duration": 32,
    "start_time": "2023-06-19T08:01:16.814Z"
   },
   {
    "duration": 8,
    "start_time": "2023-06-19T08:01:45.606Z"
   },
   {
    "duration": 7,
    "start_time": "2023-06-19T08:02:41.544Z"
   },
   {
    "duration": 126,
    "start_time": "2023-06-19T08:03:52.049Z"
   },
   {
    "duration": 798,
    "start_time": "2023-06-19T08:04:15.764Z"
   },
   {
    "duration": 735,
    "start_time": "2023-06-19T08:04:16.564Z"
   },
   {
    "duration": 135,
    "start_time": "2023-06-19T08:04:17.310Z"
   },
   {
    "duration": 111,
    "start_time": "2023-06-19T08:04:17.447Z"
   },
   {
    "duration": 18,
    "start_time": "2023-06-19T08:04:17.559Z"
   },
   {
    "duration": 43,
    "start_time": "2023-06-19T08:04:17.578Z"
   },
   {
    "duration": 35,
    "start_time": "2023-06-19T08:04:17.622Z"
   },
   {
    "duration": 27,
    "start_time": "2023-06-19T08:04:17.659Z"
   },
   {
    "duration": 57,
    "start_time": "2023-06-19T08:04:17.688Z"
   },
   {
    "duration": 108,
    "start_time": "2023-06-19T08:04:17.748Z"
   },
   {
    "duration": 4,
    "start_time": "2023-06-19T08:04:17.857Z"
   },
   {
    "duration": 197,
    "start_time": "2023-06-19T08:04:17.862Z"
   },
   {
    "duration": 107,
    "start_time": "2023-06-19T08:04:18.061Z"
   },
   {
    "duration": 392,
    "start_time": "2023-06-19T08:04:18.170Z"
   },
   {
    "duration": 6,
    "start_time": "2023-06-19T08:04:18.563Z"
   },
   {
    "duration": 1629,
    "start_time": "2023-06-19T08:04:18.571Z"
   },
   {
    "duration": 819,
    "start_time": "2023-06-19T08:04:20.201Z"
   },
   {
    "duration": 6,
    "start_time": "2023-06-19T08:04:21.022Z"
   },
   {
    "duration": 83,
    "start_time": "2023-06-19T08:04:21.030Z"
   },
   {
    "duration": 95,
    "start_time": "2023-06-19T08:04:21.115Z"
   },
   {
    "duration": 4,
    "start_time": "2023-06-19T08:04:21.212Z"
   },
   {
    "duration": 23,
    "start_time": "2023-06-19T08:04:21.218Z"
   },
   {
    "duration": 29,
    "start_time": "2023-06-19T08:04:21.242Z"
   },
   {
    "duration": 378,
    "start_time": "2023-06-19T08:04:21.273Z"
   },
   {
    "duration": 5,
    "start_time": "2023-06-19T08:04:21.652Z"
   },
   {
    "duration": 15,
    "start_time": "2023-06-19T08:04:21.658Z"
   },
   {
    "duration": 502,
    "start_time": "2023-06-19T08:04:21.675Z"
   },
   {
    "duration": 5,
    "start_time": "2023-06-19T08:04:22.179Z"
   },
   {
    "duration": 45,
    "start_time": "2023-06-19T08:04:22.185Z"
   },
   {
    "duration": 592,
    "start_time": "2023-06-19T08:07:03.738Z"
   },
   {
    "duration": 724,
    "start_time": "2023-06-19T08:07:04.331Z"
   },
   {
    "duration": 103,
    "start_time": "2023-06-19T08:07:05.056Z"
   },
   {
    "duration": 110,
    "start_time": "2023-06-19T08:07:05.160Z"
   },
   {
    "duration": 16,
    "start_time": "2023-06-19T08:07:05.272Z"
   },
   {
    "duration": 346,
    "start_time": "2023-06-19T08:07:05.289Z"
   },
   {
    "duration": 50,
    "start_time": "2023-06-19T08:07:05.636Z"
   },
   {
    "duration": 53,
    "start_time": "2023-06-19T08:07:05.687Z"
   },
   {
    "duration": 73,
    "start_time": "2023-06-19T08:07:05.741Z"
   },
   {
    "duration": 142,
    "start_time": "2023-06-19T08:07:05.816Z"
   },
   {
    "duration": 5,
    "start_time": "2023-06-19T08:07:05.959Z"
   },
   {
    "duration": 245,
    "start_time": "2023-06-19T08:07:05.966Z"
   },
   {
    "duration": 95,
    "start_time": "2023-06-19T08:07:06.212Z"
   },
   {
    "duration": 361,
    "start_time": "2023-06-19T08:07:06.309Z"
   },
   {
    "duration": 6,
    "start_time": "2023-06-19T08:07:06.672Z"
   },
   {
    "duration": 1635,
    "start_time": "2023-06-19T08:07:06.679Z"
   },
   {
    "duration": 773,
    "start_time": "2023-06-19T08:07:08.315Z"
   },
   {
    "duration": 11,
    "start_time": "2023-06-19T08:07:09.089Z"
   },
   {
    "duration": 19,
    "start_time": "2023-06-19T08:07:09.101Z"
   },
   {
    "duration": 33,
    "start_time": "2023-06-19T08:07:09.122Z"
   },
   {
    "duration": 17,
    "start_time": "2023-06-19T08:07:09.157Z"
   },
   {
    "duration": 55,
    "start_time": "2023-06-19T08:07:09.176Z"
   },
   {
    "duration": 36,
    "start_time": "2023-06-19T08:07:09.233Z"
   },
   {
    "duration": 338,
    "start_time": "2023-06-19T08:07:09.271Z"
   },
   {
    "duration": 4,
    "start_time": "2023-06-19T08:07:09.611Z"
   },
   {
    "duration": 35,
    "start_time": "2023-06-19T08:07:09.617Z"
   },
   {
    "duration": 540,
    "start_time": "2023-06-19T08:07:09.653Z"
   },
   {
    "duration": 5,
    "start_time": "2023-06-19T08:07:10.195Z"
   },
   {
    "duration": 17,
    "start_time": "2023-06-19T08:07:10.202Z"
   },
   {
    "duration": 574,
    "start_time": "2023-06-19T08:13:56.157Z"
   },
   {
    "duration": 699,
    "start_time": "2023-06-19T08:13:56.733Z"
   },
   {
    "duration": 119,
    "start_time": "2023-06-19T08:13:57.433Z"
   },
   {
    "duration": 104,
    "start_time": "2023-06-19T08:13:57.554Z"
   },
   {
    "duration": 16,
    "start_time": "2023-06-19T08:13:57.660Z"
   },
   {
    "duration": 32,
    "start_time": "2023-06-19T08:13:57.677Z"
   },
   {
    "duration": 16,
    "start_time": "2023-06-19T08:13:57.710Z"
   },
   {
    "duration": 20,
    "start_time": "2023-06-19T08:13:57.728Z"
   },
   {
    "duration": 20,
    "start_time": "2023-06-19T08:13:57.750Z"
   },
   {
    "duration": 106,
    "start_time": "2023-06-19T08:13:57.773Z"
   },
   {
    "duration": 7,
    "start_time": "2023-06-19T08:13:57.881Z"
   },
   {
    "duration": 170,
    "start_time": "2023-06-19T08:13:57.889Z"
   },
   {
    "duration": 102,
    "start_time": "2023-06-19T08:13:58.060Z"
   },
   {
    "duration": 328,
    "start_time": "2023-06-19T08:13:58.164Z"
   },
   {
    "duration": 9,
    "start_time": "2023-06-19T08:13:58.494Z"
   },
   {
    "duration": 1598,
    "start_time": "2023-06-19T08:13:58.504Z"
   },
   {
    "duration": 798,
    "start_time": "2023-06-19T08:14:00.104Z"
   },
   {
    "duration": 8,
    "start_time": "2023-06-19T08:14:00.903Z"
   },
   {
    "duration": 68,
    "start_time": "2023-06-19T08:14:00.913Z"
   },
   {
    "duration": 140,
    "start_time": "2023-06-19T08:14:00.983Z"
   },
   {
    "duration": 89,
    "start_time": "2023-06-19T08:14:01.125Z"
   },
   {
    "duration": 108,
    "start_time": "2023-06-19T08:14:01.216Z"
   },
   {
    "duration": 219,
    "start_time": "2023-06-19T08:14:01.326Z"
   },
   {
    "duration": 514,
    "start_time": "2023-06-19T08:14:01.547Z"
   },
   {
    "duration": 6,
    "start_time": "2023-06-19T08:14:02.062Z"
   },
   {
    "duration": 221,
    "start_time": "2023-06-19T08:14:02.069Z"
   },
   {
    "duration": 581,
    "start_time": "2023-06-19T08:14:02.292Z"
   },
   {
    "duration": 4,
    "start_time": "2023-06-19T08:14:02.876Z"
   },
   {
    "duration": 119,
    "start_time": "2023-06-19T08:14:02.882Z"
   },
   {
    "duration": 758,
    "start_time": "2023-06-19T08:15:12.832Z"
   },
   {
    "duration": 721,
    "start_time": "2023-06-19T08:15:13.591Z"
   },
   {
    "duration": 124,
    "start_time": "2023-06-19T08:15:14.314Z"
   },
   {
    "duration": 109,
    "start_time": "2023-06-19T08:15:14.440Z"
   },
   {
    "duration": 19,
    "start_time": "2023-06-19T08:15:14.551Z"
   },
   {
    "duration": 60,
    "start_time": "2023-06-19T08:15:14.572Z"
   },
   {
    "duration": 25,
    "start_time": "2023-06-19T08:15:14.634Z"
   },
   {
    "duration": 34,
    "start_time": "2023-06-19T08:15:14.660Z"
   },
   {
    "duration": 35,
    "start_time": "2023-06-19T08:15:14.696Z"
   },
   {
    "duration": 109,
    "start_time": "2023-06-19T08:15:14.733Z"
   },
   {
    "duration": 25,
    "start_time": "2023-06-19T08:15:14.843Z"
   },
   {
    "duration": 205,
    "start_time": "2023-06-19T08:15:14.869Z"
   },
   {
    "duration": 91,
    "start_time": "2023-06-19T08:15:15.076Z"
   },
   {
    "duration": 379,
    "start_time": "2023-06-19T08:15:15.169Z"
   },
   {
    "duration": 6,
    "start_time": "2023-06-19T08:15:15.549Z"
   },
   {
    "duration": 1713,
    "start_time": "2023-06-19T08:15:15.556Z"
   },
   {
    "duration": 804,
    "start_time": "2023-06-19T08:15:17.271Z"
   },
   {
    "duration": 7,
    "start_time": "2023-06-19T08:15:18.076Z"
   },
   {
    "duration": 23,
    "start_time": "2023-06-19T08:15:18.085Z"
   },
   {
    "duration": 78,
    "start_time": "2023-06-19T08:15:18.110Z"
   },
   {
    "duration": 4,
    "start_time": "2023-06-19T08:15:18.189Z"
   },
   {
    "duration": 26,
    "start_time": "2023-06-19T08:15:18.195Z"
   },
   {
    "duration": 30,
    "start_time": "2023-06-19T08:15:18.222Z"
   },
   {
    "duration": 335,
    "start_time": "2023-06-19T08:15:18.253Z"
   },
   {
    "duration": 12,
    "start_time": "2023-06-19T08:15:18.590Z"
   },
   {
    "duration": 27,
    "start_time": "2023-06-19T08:15:18.603Z"
   },
   {
    "duration": 507,
    "start_time": "2023-06-19T08:15:18.632Z"
   },
   {
    "duration": 5,
    "start_time": "2023-06-19T08:15:19.141Z"
   },
   {
    "duration": 19,
    "start_time": "2023-06-19T08:15:19.147Z"
   },
   {
    "duration": 42,
    "start_time": "2023-06-19T08:15:54.849Z"
   },
   {
    "duration": 4,
    "start_time": "2023-06-19T08:15:55.410Z"
   },
   {
    "duration": 746,
    "start_time": "2023-06-19T08:16:00.218Z"
   },
   {
    "duration": 777,
    "start_time": "2023-06-19T08:16:00.966Z"
   },
   {
    "duration": 133,
    "start_time": "2023-06-19T08:16:01.745Z"
   },
   {
    "duration": 344,
    "start_time": "2023-06-19T08:16:01.880Z"
   },
   {
    "duration": 23,
    "start_time": "2023-06-19T08:16:02.226Z"
   },
   {
    "duration": 108,
    "start_time": "2023-06-19T08:16:02.251Z"
   },
   {
    "duration": 91,
    "start_time": "2023-06-19T08:16:02.361Z"
   },
   {
    "duration": 147,
    "start_time": "2023-06-19T08:16:02.454Z"
   },
   {
    "duration": 60,
    "start_time": "2023-06-19T08:16:02.602Z"
   },
   {
    "duration": 224,
    "start_time": "2023-06-19T08:16:02.666Z"
   },
   {
    "duration": 43,
    "start_time": "2023-06-19T08:16:02.892Z"
   },
   {
    "duration": 301,
    "start_time": "2023-06-19T08:16:02.936Z"
   },
   {
    "duration": 98,
    "start_time": "2023-06-19T08:16:03.239Z"
   },
   {
    "duration": 396,
    "start_time": "2023-06-19T08:16:03.339Z"
   },
   {
    "duration": 6,
    "start_time": "2023-06-19T08:16:03.737Z"
   },
   {
    "duration": 1766,
    "start_time": "2023-06-19T08:16:03.745Z"
   },
   {
    "duration": 1022,
    "start_time": "2023-06-19T08:16:05.514Z"
   },
   {
    "duration": 12,
    "start_time": "2023-06-19T08:16:06.538Z"
   },
   {
    "duration": 50,
    "start_time": "2023-06-19T08:16:06.551Z"
   },
   {
    "duration": 109,
    "start_time": "2023-06-19T08:16:06.603Z"
   },
   {
    "duration": 5,
    "start_time": "2023-06-19T08:16:06.714Z"
   },
   {
    "duration": 27,
    "start_time": "2023-06-19T08:16:06.721Z"
   },
   {
    "duration": 45,
    "start_time": "2023-06-19T08:16:06.749Z"
   },
   {
    "duration": 408,
    "start_time": "2023-06-19T08:16:06.795Z"
   },
   {
    "duration": 7,
    "start_time": "2023-06-19T08:16:07.204Z"
   },
   {
    "duration": 31,
    "start_time": "2023-06-19T08:16:07.213Z"
   },
   {
    "duration": 560,
    "start_time": "2023-06-19T08:16:07.246Z"
   },
   {
    "duration": 7,
    "start_time": "2023-06-19T08:16:07.810Z"
   },
   {
    "duration": 37,
    "start_time": "2023-06-19T08:16:07.819Z"
   },
   {
    "duration": 44,
    "start_time": "2023-06-19T08:16:15.560Z"
   },
   {
    "duration": 5,
    "start_time": "2023-06-19T08:16:16.098Z"
   },
   {
    "duration": 645,
    "start_time": "2023-06-19T08:16:23.876Z"
   },
   {
    "duration": 750,
    "start_time": "2023-06-19T08:16:24.523Z"
   },
   {
    "duration": 143,
    "start_time": "2023-06-19T08:16:25.275Z"
   },
   {
    "duration": 113,
    "start_time": "2023-06-19T08:16:25.420Z"
   },
   {
    "duration": 19,
    "start_time": "2023-06-19T08:16:25.535Z"
   },
   {
    "duration": 41,
    "start_time": "2023-06-19T08:16:25.556Z"
   },
   {
    "duration": 20,
    "start_time": "2023-06-19T08:16:25.598Z"
   },
   {
    "duration": 38,
    "start_time": "2023-06-19T08:16:25.620Z"
   },
   {
    "duration": 34,
    "start_time": "2023-06-19T08:16:25.659Z"
   },
   {
    "duration": 124,
    "start_time": "2023-06-19T08:16:25.694Z"
   },
   {
    "duration": 4,
    "start_time": "2023-06-19T08:16:25.819Z"
   },
   {
    "duration": 191,
    "start_time": "2023-06-19T08:16:25.824Z"
   },
   {
    "duration": 117,
    "start_time": "2023-06-19T08:16:26.017Z"
   },
   {
    "duration": 467,
    "start_time": "2023-06-19T08:16:26.137Z"
   },
   {
    "duration": 6,
    "start_time": "2023-06-19T08:16:26.607Z"
   },
   {
    "duration": 1737,
    "start_time": "2023-06-19T08:16:26.614Z"
   },
   {
    "duration": 902,
    "start_time": "2023-06-19T08:16:28.352Z"
   },
   {
    "duration": 9,
    "start_time": "2023-06-19T08:16:29.256Z"
   },
   {
    "duration": 9,
    "start_time": "2023-06-19T08:16:29.266Z"
   },
   {
    "duration": 77,
    "start_time": "2023-06-19T08:16:29.276Z"
   },
   {
    "duration": 4,
    "start_time": "2023-06-19T08:16:29.355Z"
   },
   {
    "duration": 18,
    "start_time": "2023-06-19T08:16:29.361Z"
   },
   {
    "duration": 21,
    "start_time": "2023-06-19T08:16:29.381Z"
   },
   {
    "duration": 392,
    "start_time": "2023-06-19T08:16:29.404Z"
   },
   {
    "duration": 6,
    "start_time": "2023-06-19T08:16:29.799Z"
   },
   {
    "duration": 30,
    "start_time": "2023-06-19T08:16:29.806Z"
   },
   {
    "duration": 510,
    "start_time": "2023-06-19T08:16:29.837Z"
   },
   {
    "duration": 6,
    "start_time": "2023-06-19T08:16:30.349Z"
   },
   {
    "duration": 83,
    "start_time": "2023-06-19T08:16:30.357Z"
   },
   {
    "duration": 8,
    "start_time": "2023-06-19T08:16:52.494Z"
   },
   {
    "duration": 43,
    "start_time": "2023-06-19T08:17:04.848Z"
   },
   {
    "duration": 4,
    "start_time": "2023-06-19T08:17:05.594Z"
   },
   {
    "duration": 7,
    "start_time": "2023-06-19T08:17:06.338Z"
   },
   {
    "duration": 49,
    "start_time": "2023-06-19T08:17:35.245Z"
   },
   {
    "duration": 3,
    "start_time": "2023-06-19T08:17:35.945Z"
   },
   {
    "duration": 11,
    "start_time": "2023-06-19T08:17:39.800Z"
   },
   {
    "duration": 620,
    "start_time": "2023-06-19T08:18:12.504Z"
   },
   {
    "duration": 736,
    "start_time": "2023-06-19T08:18:13.126Z"
   },
   {
    "duration": 106,
    "start_time": "2023-06-19T08:18:13.864Z"
   },
   {
    "duration": 178,
    "start_time": "2023-06-19T08:18:13.972Z"
   },
   {
    "duration": 17,
    "start_time": "2023-06-19T08:18:14.152Z"
   },
   {
    "duration": 39,
    "start_time": "2023-06-19T08:18:14.171Z"
   },
   {
    "duration": 23,
    "start_time": "2023-06-19T08:18:14.212Z"
   },
   {
    "duration": 19,
    "start_time": "2023-06-19T08:18:14.236Z"
   },
   {
    "duration": 20,
    "start_time": "2023-06-19T08:18:14.257Z"
   },
   {
    "duration": 110,
    "start_time": "2023-06-19T08:18:14.279Z"
   },
   {
    "duration": 10,
    "start_time": "2023-06-19T08:18:14.390Z"
   },
   {
    "duration": 167,
    "start_time": "2023-06-19T08:18:14.402Z"
   },
   {
    "duration": 100,
    "start_time": "2023-06-19T08:18:14.570Z"
   },
   {
    "duration": 351,
    "start_time": "2023-06-19T08:18:14.673Z"
   },
   {
    "duration": 5,
    "start_time": "2023-06-19T08:18:15.026Z"
   },
   {
    "duration": 1668,
    "start_time": "2023-06-19T08:18:15.033Z"
   },
   {
    "duration": 875,
    "start_time": "2023-06-19T08:18:16.703Z"
   },
   {
    "duration": 7,
    "start_time": "2023-06-19T08:18:17.579Z"
   },
   {
    "duration": 12,
    "start_time": "2023-06-19T08:18:17.588Z"
   },
   {
    "duration": 51,
    "start_time": "2023-06-19T08:18:17.601Z"
   },
   {
    "duration": 4,
    "start_time": "2023-06-19T08:18:17.654Z"
   },
   {
    "duration": 40,
    "start_time": "2023-06-19T08:18:17.659Z"
   },
   {
    "duration": 36,
    "start_time": "2023-06-19T08:18:17.700Z"
   },
   {
    "duration": 350,
    "start_time": "2023-06-19T08:18:17.738Z"
   },
   {
    "duration": 11,
    "start_time": "2023-06-19T08:18:18.090Z"
   },
   {
    "duration": 24,
    "start_time": "2023-06-19T08:18:18.102Z"
   },
   {
    "duration": 510,
    "start_time": "2023-06-19T08:18:18.127Z"
   },
   {
    "duration": 6,
    "start_time": "2023-06-19T08:18:18.639Z"
   },
   {
    "duration": 29,
    "start_time": "2023-06-19T08:18:18.646Z"
   },
   {
    "duration": 6,
    "start_time": "2023-06-19T08:28:22.094Z"
   },
   {
    "duration": 6,
    "start_time": "2023-06-19T08:28:59.129Z"
   },
   {
    "duration": 329,
    "start_time": "2023-06-19T08:33:04.443Z"
   },
   {
    "duration": 7,
    "start_time": "2023-06-19T08:33:05.248Z"
   },
   {
    "duration": 6,
    "start_time": "2023-06-19T08:34:29.752Z"
   },
   {
    "duration": 685,
    "start_time": "2023-06-19T08:34:58.559Z"
   },
   {
    "duration": 743,
    "start_time": "2023-06-19T08:34:59.246Z"
   },
   {
    "duration": 117,
    "start_time": "2023-06-19T08:34:59.990Z"
   },
   {
    "duration": 160,
    "start_time": "2023-06-19T08:35:00.108Z"
   },
   {
    "duration": 18,
    "start_time": "2023-06-19T08:35:00.270Z"
   },
   {
    "duration": 44,
    "start_time": "2023-06-19T08:35:00.289Z"
   },
   {
    "duration": 78,
    "start_time": "2023-06-19T08:35:00.334Z"
   },
   {
    "duration": 60,
    "start_time": "2023-06-19T08:35:00.414Z"
   },
   {
    "duration": 39,
    "start_time": "2023-06-19T08:35:00.476Z"
   },
   {
    "duration": 226,
    "start_time": "2023-06-19T08:35:00.517Z"
   },
   {
    "duration": 34,
    "start_time": "2023-06-19T08:35:00.745Z"
   },
   {
    "duration": 450,
    "start_time": "2023-06-19T08:35:00.780Z"
   },
   {
    "duration": 105,
    "start_time": "2023-06-19T08:35:01.232Z"
   },
   {
    "duration": 367,
    "start_time": "2023-06-19T08:35:01.340Z"
   },
   {
    "duration": 7,
    "start_time": "2023-06-19T08:35:01.709Z"
   },
   {
    "duration": 1911,
    "start_time": "2023-06-19T08:35:01.717Z"
   },
   {
    "duration": 800,
    "start_time": "2023-06-19T08:35:03.629Z"
   },
   {
    "duration": 50,
    "start_time": "2023-06-19T08:35:04.431Z"
   },
   {
    "duration": 57,
    "start_time": "2023-06-19T08:35:04.483Z"
   },
   {
    "duration": 398,
    "start_time": "2023-06-19T08:35:04.542Z"
   },
   {
    "duration": 5,
    "start_time": "2023-06-19T08:35:04.941Z"
   },
   {
    "duration": 33,
    "start_time": "2023-06-19T08:35:04.947Z"
   },
   {
    "duration": 512,
    "start_time": "2023-06-19T08:35:04.981Z"
   },
   {
    "duration": 8,
    "start_time": "2023-06-19T08:35:05.495Z"
   },
   {
    "duration": 45,
    "start_time": "2023-06-19T08:35:05.504Z"
   },
   {
    "duration": 71,
    "start_time": "2023-06-19T08:35:05.551Z"
   },
   {
    "duration": 512,
    "start_time": "2023-06-19T08:35:05.623Z"
   },
   {
    "duration": 10,
    "start_time": "2023-06-19T08:35:06.137Z"
   },
   {
    "duration": 177,
    "start_time": "2023-06-19T08:35:06.148Z"
   },
   {
    "duration": 9,
    "start_time": "2023-06-19T08:35:06.328Z"
   },
   {
    "duration": 6,
    "start_time": "2023-06-19T08:37:04.462Z"
   },
   {
    "duration": 68,
    "start_time": "2023-06-19T08:40:05.832Z"
   },
   {
    "duration": 24,
    "start_time": "2023-06-19T08:40:33.717Z"
   },
   {
    "duration": 72,
    "start_time": "2023-06-19T08:40:57.826Z"
   },
   {
    "duration": 108,
    "start_time": "2023-06-19T08:41:29.490Z"
   },
   {
    "duration": 168,
    "start_time": "2023-06-19T08:42:12.391Z"
   },
   {
    "duration": 13,
    "start_time": "2023-06-19T08:42:55.150Z"
   },
   {
    "duration": 97,
    "start_time": "2023-06-19T08:42:56.132Z"
   },
   {
    "duration": 864,
    "start_time": "2023-06-19T08:43:07.733Z"
   },
   {
    "duration": 825,
    "start_time": "2023-06-19T08:43:08.606Z"
   },
   {
    "duration": 130,
    "start_time": "2023-06-19T08:43:09.432Z"
   },
   {
    "duration": 134,
    "start_time": "2023-06-19T08:43:09.563Z"
   },
   {
    "duration": 58,
    "start_time": "2023-06-19T08:43:09.699Z"
   },
   {
    "duration": 43,
    "start_time": "2023-06-19T08:43:09.759Z"
   },
   {
    "duration": 41,
    "start_time": "2023-06-19T08:43:09.804Z"
   },
   {
    "duration": 27,
    "start_time": "2023-06-19T08:43:09.847Z"
   },
   {
    "duration": 30,
    "start_time": "2023-06-19T08:43:09.876Z"
   },
   {
    "duration": 149,
    "start_time": "2023-06-19T08:43:09.908Z"
   },
   {
    "duration": 30,
    "start_time": "2023-06-19T08:43:10.059Z"
   },
   {
    "duration": 207,
    "start_time": "2023-06-19T08:43:10.091Z"
   },
   {
    "duration": 49,
    "start_time": "2023-06-19T08:43:10.302Z"
   },
   {
    "duration": 102,
    "start_time": "2023-06-19T08:43:10.355Z"
   },
   {
    "duration": 377,
    "start_time": "2023-06-19T08:43:10.459Z"
   },
   {
    "duration": 5,
    "start_time": "2023-06-19T08:43:10.838Z"
   },
   {
    "duration": 1540,
    "start_time": "2023-06-19T08:43:10.844Z"
   },
   {
    "duration": 746,
    "start_time": "2023-06-19T08:43:12.385Z"
   },
   {
    "duration": 49,
    "start_time": "2023-06-19T08:43:13.133Z"
   },
   {
    "duration": 475,
    "start_time": "2023-06-19T08:43:13.183Z"
   },
   {
    "duration": 5,
    "start_time": "2023-06-19T08:43:13.660Z"
   },
   {
    "duration": 38,
    "start_time": "2023-06-19T08:43:13.666Z"
   },
   {
    "duration": 561,
    "start_time": "2023-06-19T08:43:13.705Z"
   },
   {
    "duration": 32,
    "start_time": "2023-06-19T08:43:14.267Z"
   },
   {
    "duration": 3734,
    "start_time": "2023-06-19T08:46:05.442Z"
   },
   {
    "duration": 699,
    "start_time": "2023-06-19T08:47:10.743Z"
   },
   {
    "duration": 808,
    "start_time": "2023-06-19T08:47:11.444Z"
   },
   {
    "duration": 121,
    "start_time": "2023-06-19T08:47:12.254Z"
   },
   {
    "duration": 135,
    "start_time": "2023-06-19T08:47:12.377Z"
   },
   {
    "duration": 33,
    "start_time": "2023-06-19T08:47:12.514Z"
   },
   {
    "duration": 26,
    "start_time": "2023-06-19T08:47:12.549Z"
   },
   {
    "duration": 61,
    "start_time": "2023-06-19T08:47:12.576Z"
   },
   {
    "duration": 32,
    "start_time": "2023-06-19T08:47:12.639Z"
   },
   {
    "duration": 34,
    "start_time": "2023-06-19T08:47:12.673Z"
   },
   {
    "duration": 157,
    "start_time": "2023-06-19T08:47:12.709Z"
   },
   {
    "duration": 2,
    "start_time": "2023-06-19T08:47:12.868Z"
   },
   {
    "duration": 266,
    "start_time": "2023-06-19T08:47:12.872Z"
   },
   {
    "duration": 47,
    "start_time": "2023-06-19T08:47:13.140Z"
   },
   {
    "duration": 154,
    "start_time": "2023-06-19T08:47:13.190Z"
   },
   {
    "duration": 388,
    "start_time": "2023-06-19T08:47:13.346Z"
   },
   {
    "duration": 6,
    "start_time": "2023-06-19T08:47:13.737Z"
   },
   {
    "duration": 86,
    "start_time": "2023-06-19T08:47:13.744Z"
   },
   {
    "duration": 1592,
    "start_time": "2023-06-19T08:47:13.837Z"
   },
   {
    "duration": 846,
    "start_time": "2023-06-19T08:47:15.433Z"
   },
   {
    "duration": 57,
    "start_time": "2023-06-19T08:47:16.280Z"
   },
   {
    "duration": 499,
    "start_time": "2023-06-19T08:47:16.339Z"
   },
   {
    "duration": 6,
    "start_time": "2023-06-19T08:47:16.841Z"
   },
   {
    "duration": 11,
    "start_time": "2023-06-19T08:47:16.848Z"
   },
   {
    "duration": 532,
    "start_time": "2023-06-19T08:47:16.861Z"
   },
   {
    "duration": 53,
    "start_time": "2023-06-19T08:47:17.394Z"
   },
   {
    "duration": 5,
    "start_time": "2023-06-19T08:47:45.237Z"
   },
   {
    "duration": 700,
    "start_time": "2023-06-19T08:50:00.772Z"
   },
   {
    "duration": 805,
    "start_time": "2023-06-19T08:50:01.474Z"
   },
   {
    "duration": 162,
    "start_time": "2023-06-19T08:50:02.281Z"
   },
   {
    "duration": 426,
    "start_time": "2023-06-19T08:50:02.444Z"
   },
   {
    "duration": 168,
    "start_time": "2023-06-19T08:50:02.872Z"
   },
   {
    "duration": 97,
    "start_time": "2023-06-19T08:50:03.042Z"
   },
   {
    "duration": 52,
    "start_time": "2023-06-19T08:50:03.140Z"
   },
   {
    "duration": 49,
    "start_time": "2023-06-19T08:50:03.194Z"
   },
   {
    "duration": 40,
    "start_time": "2023-06-19T08:50:03.244Z"
   },
   {
    "duration": 146,
    "start_time": "2023-06-19T08:50:03.285Z"
   },
   {
    "duration": 163,
    "start_time": "2023-06-19T08:50:03.432Z"
   },
   {
    "duration": 353,
    "start_time": "2023-06-19T08:50:03.597Z"
   },
   {
    "duration": 55,
    "start_time": "2023-06-19T08:50:03.951Z"
   },
   {
    "duration": 162,
    "start_time": "2023-06-19T08:50:04.010Z"
   },
   {
    "duration": 381,
    "start_time": "2023-06-19T08:50:04.173Z"
   },
   {
    "duration": 3,
    "start_time": "2023-06-19T08:50:04.556Z"
   },
   {
    "duration": 95,
    "start_time": "2023-06-19T08:50:04.561Z"
   },
   {
    "duration": 186,
    "start_time": "2023-06-19T08:50:04.658Z"
   },
   {
    "duration": 11,
    "start_time": "2023-06-19T08:50:04.845Z"
   },
   {
    "duration": 33,
    "start_time": "2023-06-19T08:50:04.857Z"
   },
   {
    "duration": 920,
    "start_time": "2023-06-19T08:50:04.892Z"
   },
   {
    "duration": 46,
    "start_time": "2023-06-19T08:50:05.814Z"
   },
   {
    "duration": 522,
    "start_time": "2023-06-19T08:50:05.862Z"
   },
   {
    "duration": 5,
    "start_time": "2023-06-19T08:50:06.387Z"
   },
   {
    "duration": 38,
    "start_time": "2023-06-19T08:50:06.404Z"
   },
   {
    "duration": 499,
    "start_time": "2023-06-19T08:50:06.443Z"
   },
   {
    "duration": 23,
    "start_time": "2023-06-19T08:50:06.944Z"
   },
   {
    "duration": 85,
    "start_time": "2023-06-19T08:50:54.592Z"
   },
   {
    "duration": 10,
    "start_time": "2023-06-19T08:51:04.056Z"
   },
   {
    "duration": 15,
    "start_time": "2023-06-19T08:51:10.614Z"
   },
   {
    "duration": 574,
    "start_time": "2023-06-19T08:51:17.971Z"
   },
   {
    "duration": 721,
    "start_time": "2023-06-19T08:51:18.547Z"
   },
   {
    "duration": 110,
    "start_time": "2023-06-19T08:51:19.269Z"
   },
   {
    "duration": 128,
    "start_time": "2023-06-19T08:51:19.381Z"
   },
   {
    "duration": 49,
    "start_time": "2023-06-19T08:51:19.511Z"
   },
   {
    "duration": 25,
    "start_time": "2023-06-19T08:51:19.561Z"
   },
   {
    "duration": 19,
    "start_time": "2023-06-19T08:51:19.587Z"
   },
   {
    "duration": 62,
    "start_time": "2023-06-19T08:51:19.607Z"
   },
   {
    "duration": 26,
    "start_time": "2023-06-19T08:51:19.671Z"
   },
   {
    "duration": 129,
    "start_time": "2023-06-19T08:51:19.698Z"
   },
   {
    "duration": 21,
    "start_time": "2023-06-19T08:51:19.828Z"
   },
   {
    "duration": 195,
    "start_time": "2023-06-19T08:51:19.851Z"
   },
   {
    "duration": 44,
    "start_time": "2023-06-19T08:51:20.048Z"
   },
   {
    "duration": 112,
    "start_time": "2023-06-19T08:51:20.094Z"
   },
   {
    "duration": 353,
    "start_time": "2023-06-19T08:51:20.208Z"
   },
   {
    "duration": 3,
    "start_time": "2023-06-19T08:51:20.563Z"
   },
   {
    "duration": 26,
    "start_time": "2023-06-19T08:51:20.567Z"
   },
   {
    "duration": 80,
    "start_time": "2023-06-19T08:51:20.594Z"
   },
   {
    "duration": 7,
    "start_time": "2023-06-19T08:51:20.675Z"
   },
   {
    "duration": 9,
    "start_time": "2023-06-19T08:51:20.683Z"
   },
   {
    "duration": 814,
    "start_time": "2023-06-19T08:51:20.693Z"
   },
   {
    "duration": 52,
    "start_time": "2023-06-19T08:51:21.508Z"
   },
   {
    "duration": 366,
    "start_time": "2023-06-19T08:51:21.562Z"
   },
   {
    "duration": 5,
    "start_time": "2023-06-19T08:51:21.930Z"
   },
   {
    "duration": 21,
    "start_time": "2023-06-19T08:51:21.936Z"
   },
   {
    "duration": 485,
    "start_time": "2023-06-19T08:51:21.958Z"
   },
   {
    "duration": 23,
    "start_time": "2023-06-19T08:51:22.444Z"
   },
   {
    "duration": 71,
    "start_time": "2023-06-19T08:52:17.722Z"
   },
   {
    "duration": 2964,
    "start_time": "2023-06-19T08:53:23.422Z"
   },
   {
    "duration": 3127,
    "start_time": "2023-06-19T08:53:29.534Z"
   },
   {
    "duration": 646,
    "start_time": "2023-06-19T08:53:47.744Z"
   },
   {
    "duration": 839,
    "start_time": "2023-06-19T08:53:48.392Z"
   },
   {
    "duration": 128,
    "start_time": "2023-06-19T08:53:49.232Z"
   },
   {
    "duration": 127,
    "start_time": "2023-06-19T08:53:49.361Z"
   },
   {
    "duration": 34,
    "start_time": "2023-06-19T08:53:49.491Z"
   },
   {
    "duration": 42,
    "start_time": "2023-06-19T08:53:49.527Z"
   },
   {
    "duration": 54,
    "start_time": "2023-06-19T08:53:49.571Z"
   },
   {
    "duration": 30,
    "start_time": "2023-06-19T08:53:49.627Z"
   },
   {
    "duration": 23,
    "start_time": "2023-06-19T08:53:49.658Z"
   },
   {
    "duration": 148,
    "start_time": "2023-06-19T08:53:49.683Z"
   },
   {
    "duration": 3,
    "start_time": "2023-06-19T08:53:49.833Z"
   },
   {
    "duration": 283,
    "start_time": "2023-06-19T08:53:49.837Z"
   },
   {
    "duration": 52,
    "start_time": "2023-06-19T08:53:50.123Z"
   },
   {
    "duration": 109,
    "start_time": "2023-06-19T08:53:50.178Z"
   },
   {
    "duration": 393,
    "start_time": "2023-06-19T08:53:50.288Z"
   },
   {
    "duration": 5,
    "start_time": "2023-06-19T08:53:50.683Z"
   },
   {
    "duration": 97,
    "start_time": "2023-06-19T08:53:50.689Z"
   },
   {
    "duration": 40,
    "start_time": "2023-06-19T08:53:50.787Z"
   },
   {
    "duration": 25,
    "start_time": "2023-06-19T08:53:50.829Z"
   },
   {
    "duration": 916,
    "start_time": "2023-06-19T08:53:50.855Z"
   },
   {
    "duration": 60,
    "start_time": "2023-06-19T08:53:51.773Z"
   },
   {
    "duration": 410,
    "start_time": "2023-06-19T08:53:51.835Z"
   },
   {
    "duration": 5,
    "start_time": "2023-06-19T08:53:52.247Z"
   },
   {
    "duration": 99,
    "start_time": "2023-06-19T08:53:52.253Z"
   },
   {
    "duration": 602,
    "start_time": "2023-06-19T08:53:52.354Z"
   },
   {
    "duration": 14,
    "start_time": "2023-06-19T08:53:52.958Z"
   },
   {
    "duration": 10,
    "start_time": "2023-06-19T08:57:18.218Z"
   },
   {
    "duration": 655,
    "start_time": "2023-06-19T08:57:29.997Z"
   },
   {
    "duration": 748,
    "start_time": "2023-06-19T08:57:30.654Z"
   },
   {
    "duration": 121,
    "start_time": "2023-06-19T08:57:31.404Z"
   },
   {
    "duration": 176,
    "start_time": "2023-06-19T08:57:31.527Z"
   },
   {
    "duration": 237,
    "start_time": "2023-06-19T08:57:31.708Z"
   },
   {
    "duration": 194,
    "start_time": "2023-06-19T08:57:31.946Z"
   },
   {
    "duration": 164,
    "start_time": "2023-06-19T08:57:32.141Z"
   },
   {
    "duration": 158,
    "start_time": "2023-06-19T08:57:32.307Z"
   },
   {
    "duration": 176,
    "start_time": "2023-06-19T08:57:32.466Z"
   },
   {
    "duration": 251,
    "start_time": "2023-06-19T08:57:32.643Z"
   },
   {
    "duration": 6,
    "start_time": "2023-06-19T08:57:32.896Z"
   },
   {
    "duration": 247,
    "start_time": "2023-06-19T08:57:32.903Z"
   },
   {
    "duration": 45,
    "start_time": "2023-06-19T08:57:33.151Z"
   },
   {
    "duration": 114,
    "start_time": "2023-06-19T08:57:33.202Z"
   },
   {
    "duration": 357,
    "start_time": "2023-06-19T08:57:33.321Z"
   },
   {
    "duration": 5,
    "start_time": "2023-06-19T08:57:33.679Z"
   },
   {
    "duration": 121,
    "start_time": "2023-06-19T08:57:33.685Z"
   },
   {
    "duration": 6,
    "start_time": "2023-06-19T08:57:33.808Z"
   },
   {
    "duration": 824,
    "start_time": "2023-06-19T08:57:33.815Z"
   },
   {
    "duration": 6,
    "start_time": "2023-06-19T08:57:34.641Z"
   },
   {
    "duration": 65,
    "start_time": "2023-06-19T08:57:34.648Z"
   },
   {
    "duration": 347,
    "start_time": "2023-06-19T08:57:34.721Z"
   },
   {
    "duration": 5,
    "start_time": "2023-06-19T08:57:35.070Z"
   },
   {
    "duration": 21,
    "start_time": "2023-06-19T08:57:35.076Z"
   },
   {
    "duration": 553,
    "start_time": "2023-06-19T08:57:35.103Z"
   },
   {
    "duration": 14,
    "start_time": "2023-06-19T08:57:35.657Z"
   },
   {
    "duration": 8,
    "start_time": "2023-06-19T08:59:48.989Z"
   },
   {
    "duration": 620,
    "start_time": "2023-06-19T09:19:10.340Z"
   },
   {
    "duration": 852,
    "start_time": "2023-06-19T09:19:10.962Z"
   },
   {
    "duration": 133,
    "start_time": "2023-06-19T09:19:11.816Z"
   },
   {
    "duration": 128,
    "start_time": "2023-06-19T09:19:11.950Z"
   },
   {
    "duration": 23,
    "start_time": "2023-06-19T09:19:12.080Z"
   },
   {
    "duration": 54,
    "start_time": "2023-06-19T09:19:12.105Z"
   },
   {
    "duration": 21,
    "start_time": "2023-06-19T09:19:12.160Z"
   },
   {
    "duration": 20,
    "start_time": "2023-06-19T09:19:12.183Z"
   },
   {
    "duration": 48,
    "start_time": "2023-06-19T09:19:12.205Z"
   },
   {
    "duration": 127,
    "start_time": "2023-06-19T09:19:12.254Z"
   },
   {
    "duration": 4,
    "start_time": "2023-06-19T09:19:12.383Z"
   },
   {
    "duration": 214,
    "start_time": "2023-06-19T09:19:12.389Z"
   },
   {
    "duration": 50,
    "start_time": "2023-06-19T09:19:12.605Z"
   },
   {
    "duration": 99,
    "start_time": "2023-06-19T09:19:12.657Z"
   },
   {
    "duration": 396,
    "start_time": "2023-06-19T09:19:12.758Z"
   },
   {
    "duration": 5,
    "start_time": "2023-06-19T09:19:13.155Z"
   },
   {
    "duration": 269,
    "start_time": "2023-06-19T09:19:13.162Z"
   },
   {
    "duration": 5,
    "start_time": "2023-06-19T09:19:13.433Z"
   },
   {
    "duration": 898,
    "start_time": "2023-06-19T09:19:13.440Z"
   },
   {
    "duration": 6,
    "start_time": "2023-06-19T09:19:14.339Z"
   },
   {
    "duration": 126,
    "start_time": "2023-06-19T09:19:14.347Z"
   },
   {
    "duration": 0,
    "start_time": "2023-06-19T09:19:14.475Z"
   },
   {
    "duration": 0,
    "start_time": "2023-06-19T09:19:14.476Z"
   },
   {
    "duration": 0,
    "start_time": "2023-06-19T09:19:14.477Z"
   },
   {
    "duration": 0,
    "start_time": "2023-06-19T09:19:14.478Z"
   },
   {
    "duration": 0,
    "start_time": "2023-06-19T09:19:14.479Z"
   },
   {
    "duration": 0,
    "start_time": "2023-06-19T09:19:14.480Z"
   },
   {
    "duration": 377,
    "start_time": "2023-06-19T09:22:00.396Z"
   },
   {
    "duration": 15,
    "start_time": "2023-06-19T09:22:02.696Z"
   },
   {
    "duration": 7,
    "start_time": "2023-06-19T09:22:03.534Z"
   },
   {
    "duration": 6,
    "start_time": "2023-06-19T09:24:18.848Z"
   },
   {
    "duration": 41,
    "start_time": "2023-06-19T09:24:20.543Z"
   },
   {
    "duration": 8,
    "start_time": "2023-06-19T09:24:22.518Z"
   },
   {
    "duration": 6,
    "start_time": "2023-06-19T09:24:37.888Z"
   },
   {
    "duration": 91,
    "start_time": "2023-06-19T09:25:37.623Z"
   },
   {
    "duration": 568,
    "start_time": "2023-06-19T09:28:33.058Z"
   },
   {
    "duration": 711,
    "start_time": "2023-06-19T09:28:33.627Z"
   },
   {
    "duration": 109,
    "start_time": "2023-06-19T09:28:34.339Z"
   },
   {
    "duration": 110,
    "start_time": "2023-06-19T09:28:34.450Z"
   },
   {
    "duration": 25,
    "start_time": "2023-06-19T09:28:34.562Z"
   },
   {
    "duration": 39,
    "start_time": "2023-06-19T09:28:34.589Z"
   },
   {
    "duration": 28,
    "start_time": "2023-06-19T09:28:34.630Z"
   },
   {
    "duration": 32,
    "start_time": "2023-06-19T09:28:34.659Z"
   },
   {
    "duration": 38,
    "start_time": "2023-06-19T09:28:34.692Z"
   },
   {
    "duration": 102,
    "start_time": "2023-06-19T09:28:34.732Z"
   },
   {
    "duration": 10,
    "start_time": "2023-06-19T09:28:34.836Z"
   },
   {
    "duration": 179,
    "start_time": "2023-06-19T09:28:34.847Z"
   },
   {
    "duration": 45,
    "start_time": "2023-06-19T09:28:35.028Z"
   },
   {
    "duration": 112,
    "start_time": "2023-06-19T09:28:35.075Z"
   },
   {
    "duration": 344,
    "start_time": "2023-06-19T09:28:35.188Z"
   },
   {
    "duration": 5,
    "start_time": "2023-06-19T09:28:35.534Z"
   },
   {
    "duration": 77,
    "start_time": "2023-06-19T09:28:35.540Z"
   },
   {
    "duration": 10,
    "start_time": "2023-06-19T09:28:35.619Z"
   },
   {
    "duration": 885,
    "start_time": "2023-06-19T09:28:35.631Z"
   },
   {
    "duration": 6,
    "start_time": "2023-06-19T09:28:36.518Z"
   },
   {
    "duration": 56,
    "start_time": "2023-06-19T09:28:36.525Z"
   },
   {
    "duration": 6,
    "start_time": "2023-06-19T09:28:36.582Z"
   },
   {
    "duration": 359,
    "start_time": "2023-06-19T09:28:36.591Z"
   },
   {
    "duration": 5,
    "start_time": "2023-06-19T09:28:36.952Z"
   },
   {
    "duration": 16,
    "start_time": "2023-06-19T09:28:36.958Z"
   },
   {
    "duration": 117,
    "start_time": "2023-06-19T09:28:36.976Z"
   },
   {
    "duration": 73,
    "start_time": "2023-06-19T09:31:01.090Z"
   },
   {
    "duration": 49,
    "start_time": "2023-06-20T08:18:20.756Z"
   },
   {
    "duration": 8,
    "start_time": "2023-06-20T08:18:51.557Z"
   },
   {
    "duration": 1201,
    "start_time": "2023-06-25T16:24:14.530Z"
   },
   {
    "duration": 4394,
    "start_time": "2023-06-25T16:24:15.734Z"
   },
   {
    "duration": 222,
    "start_time": "2023-06-25T16:24:20.130Z"
   },
   {
    "duration": 242,
    "start_time": "2023-06-25T16:24:20.359Z"
   },
   {
    "duration": 21,
    "start_time": "2023-06-25T16:24:20.606Z"
   },
   {
    "duration": 50,
    "start_time": "2023-06-25T16:24:20.629Z"
   },
   {
    "duration": 36,
    "start_time": "2023-06-25T16:24:20.685Z"
   },
   {
    "duration": 39,
    "start_time": "2023-06-25T16:24:20.723Z"
   },
   {
    "duration": 40,
    "start_time": "2023-06-25T16:24:20.764Z"
   },
   {
    "duration": 205,
    "start_time": "2023-06-25T16:24:20.809Z"
   },
   {
    "duration": 5,
    "start_time": "2023-06-25T16:24:22.041Z"
   },
   {
    "duration": 335,
    "start_time": "2023-06-25T16:24:22.741Z"
   },
   {
    "duration": 122,
    "start_time": "2023-06-25T16:24:23.396Z"
   },
   {
    "duration": 138,
    "start_time": "2023-06-25T16:24:23.690Z"
   },
   {
    "duration": 516,
    "start_time": "2023-06-25T16:24:24.297Z"
   },
   {
    "duration": 8,
    "start_time": "2023-06-25T16:24:24.816Z"
   },
   {
    "duration": 71,
    "start_time": "2023-06-25T16:24:24.908Z"
   },
   {
    "duration": 8,
    "start_time": "2023-06-25T16:24:25.145Z"
   },
   {
    "duration": 1347,
    "start_time": "2023-06-25T16:24:25.794Z"
   },
   {
    "duration": 18,
    "start_time": "2023-06-25T16:24:27.144Z"
   },
   {
    "duration": 84,
    "start_time": "2023-06-25T16:24:27.174Z"
   },
   {
    "duration": 10,
    "start_time": "2023-06-25T16:24:27.260Z"
   },
   {
    "duration": 607,
    "start_time": "2023-06-25T16:24:27.437Z"
   },
   {
    "duration": 21,
    "start_time": "2023-06-25T16:24:28.047Z"
   },
   {
    "duration": 14,
    "start_time": "2023-06-25T16:24:28.094Z"
   },
   {
    "duration": 222,
    "start_time": "2023-06-25T16:24:47.308Z"
   },
   {
    "duration": 126,
    "start_time": "2023-06-25T16:24:47.533Z"
   },
   {
    "duration": 129,
    "start_time": "2023-06-25T16:24:48.631Z"
   },
   {
    "duration": 93,
    "start_time": "2023-06-25T16:24:48.888Z"
   },
   {
    "duration": 1697,
    "start_time": "2023-06-25T16:31:57.331Z"
   },
   {
    "duration": 528,
    "start_time": "2023-06-25T16:32:17.294Z"
   },
   {
    "duration": 495,
    "start_time": "2023-06-25T17:09:12.775Z"
   },
   {
    "duration": 199,
    "start_time": "2023-06-25T17:31:27.475Z"
   },
   {
    "duration": 5,
    "start_time": "2023-06-25T17:32:08.342Z"
   },
   {
    "duration": 3,
    "start_time": "2023-06-25T17:32:53.471Z"
   },
   {
    "duration": 138,
    "start_time": "2023-06-25T17:32:53.953Z"
   },
   {
    "duration": 2,
    "start_time": "2023-06-25T17:47:23.111Z"
   },
   {
    "duration": 3,
    "start_time": "2023-06-25T17:47:23.311Z"
   },
   {
    "duration": 3,
    "start_time": "2023-06-25T17:47:23.498Z"
   },
   {
    "duration": 3108,
    "start_time": "2023-06-25T17:47:23.689Z"
   },
   {
    "duration": 140,
    "start_time": "2023-06-25T17:47:26.799Z"
   },
   {
    "duration": 161,
    "start_time": "2023-06-25T17:47:26.940Z"
   },
   {
    "duration": 20,
    "start_time": "2023-06-25T17:47:27.103Z"
   },
   {
    "duration": 49,
    "start_time": "2023-06-25T17:47:27.125Z"
   },
   {
    "duration": 20,
    "start_time": "2023-06-25T17:47:27.176Z"
   },
   {
    "duration": 28,
    "start_time": "2023-06-25T17:47:27.198Z"
   },
   {
    "duration": 47,
    "start_time": "2023-06-25T17:47:27.228Z"
   },
   {
    "duration": 193,
    "start_time": "2023-06-25T17:47:27.278Z"
   },
   {
    "duration": 4,
    "start_time": "2023-06-25T17:47:28.021Z"
   },
   {
    "duration": 219,
    "start_time": "2023-06-25T17:47:28.221Z"
   },
   {
    "duration": 36,
    "start_time": "2023-06-25T17:47:28.590Z"
   },
   {
    "duration": 75,
    "start_time": "2023-06-25T17:47:28.771Z"
   },
   {
    "duration": 429,
    "start_time": "2023-06-25T17:47:29.368Z"
   },
   {
    "duration": 6,
    "start_time": "2023-06-25T17:47:29.799Z"
   },
   {
    "duration": 54,
    "start_time": "2023-06-25T17:47:29.940Z"
   },
   {
    "duration": 6,
    "start_time": "2023-06-25T17:47:30.169Z"
   },
   {
    "duration": 996,
    "start_time": "2023-06-25T17:47:30.567Z"
   },
   {
    "duration": 9,
    "start_time": "2023-06-25T17:47:31.565Z"
   },
   {
    "duration": 60,
    "start_time": "2023-06-25T17:47:31.576Z"
   },
   {
    "duration": 7,
    "start_time": "2023-06-25T17:47:31.638Z"
   },
   {
    "duration": 440,
    "start_time": "2023-06-25T17:47:31.890Z"
   },
   {
    "duration": 6,
    "start_time": "2023-06-25T17:47:32.333Z"
   },
   {
    "duration": 31,
    "start_time": "2023-06-25T17:47:32.341Z"
   },
   {
    "duration": 141,
    "start_time": "2023-06-25T17:47:32.680Z"
   },
   {
    "duration": 82,
    "start_time": "2023-06-25T17:47:32.871Z"
   },
   {
    "duration": 443,
    "start_time": "2023-06-25T17:47:33.841Z"
   },
   {
    "duration": 479,
    "start_time": "2023-06-25T17:47:34.286Z"
   },
   {
    "duration": 4,
    "start_time": "2023-06-25T17:47:34.767Z"
   },
   {
    "duration": 89,
    "start_time": "2023-06-25T17:47:34.774Z"
   },
   {
    "duration": 73,
    "start_time": "2023-06-25T17:47:35.630Z"
   },
   {
    "duration": 84,
    "start_time": "2023-06-25T17:47:35.850Z"
   },
   {
    "duration": 263,
    "start_time": "2023-06-25T17:48:32.621Z"
   },
   {
    "duration": 179,
    "start_time": "2023-06-25T17:48:40.250Z"
   },
   {
    "duration": 1651,
    "start_time": "2023-06-25T17:49:06.857Z"
   },
   {
    "duration": 3,
    "start_time": "2023-06-25T17:49:08.510Z"
   },
   {
    "duration": 9,
    "start_time": "2023-06-25T17:49:08.515Z"
   },
   {
    "duration": 932,
    "start_time": "2023-06-25T17:49:08.526Z"
   },
   {
    "duration": 149,
    "start_time": "2023-06-25T17:49:09.461Z"
   },
   {
    "duration": 162,
    "start_time": "2023-06-25T17:49:09.612Z"
   },
   {
    "duration": 23,
    "start_time": "2023-06-25T17:49:09.776Z"
   },
   {
    "duration": 21,
    "start_time": "2023-06-25T17:49:09.800Z"
   },
   {
    "duration": 40,
    "start_time": "2023-06-25T17:49:09.822Z"
   },
   {
    "duration": 24,
    "start_time": "2023-06-25T17:49:09.864Z"
   },
   {
    "duration": 21,
    "start_time": "2023-06-25T17:49:09.889Z"
   },
   {
    "duration": 162,
    "start_time": "2023-06-25T17:49:09.912Z"
   },
   {
    "duration": 5,
    "start_time": "2023-06-25T17:49:10.081Z"
   },
   {
    "duration": 223,
    "start_time": "2023-06-25T17:49:10.089Z"
   },
   {
    "duration": 76,
    "start_time": "2023-06-25T17:49:10.314Z"
   },
   {
    "duration": 104,
    "start_time": "2023-06-25T17:49:10.391Z"
   },
   {
    "duration": 572,
    "start_time": "2023-06-25T17:49:10.497Z"
   },
   {
    "duration": 9,
    "start_time": "2023-06-25T17:49:11.071Z"
   },
   {
    "duration": 79,
    "start_time": "2023-06-25T17:49:11.082Z"
   },
   {
    "duration": 8,
    "start_time": "2023-06-25T17:49:11.163Z"
   },
   {
    "duration": 1080,
    "start_time": "2023-06-25T17:49:11.174Z"
   },
   {
    "duration": 11,
    "start_time": "2023-06-25T17:49:12.256Z"
   },
   {
    "duration": 53,
    "start_time": "2023-06-25T17:49:12.270Z"
   },
   {
    "duration": 31,
    "start_time": "2023-06-25T17:49:12.325Z"
   },
   {
    "duration": 471,
    "start_time": "2023-06-25T17:49:12.358Z"
   },
   {
    "duration": 8,
    "start_time": "2023-06-25T17:49:12.832Z"
   },
   {
    "duration": 21,
    "start_time": "2023-06-25T17:49:12.842Z"
   },
   {
    "duration": 163,
    "start_time": "2023-06-25T17:49:12.865Z"
   },
   {
    "duration": 96,
    "start_time": "2023-06-25T17:49:13.030Z"
   },
   {
    "duration": 378,
    "start_time": "2023-06-25T17:49:13.127Z"
   },
   {
    "duration": 438,
    "start_time": "2023-06-25T17:49:13.506Z"
   },
   {
    "duration": 3,
    "start_time": "2023-06-25T17:49:13.945Z"
   },
   {
    "duration": 287,
    "start_time": "2023-06-25T17:49:13.953Z"
   },
   {
    "duration": 104,
    "start_time": "2023-06-25T17:49:14.242Z"
   },
   {
    "duration": 2050,
    "start_time": "2023-06-25T17:49:14.347Z"
   },
   {
    "duration": 159,
    "start_time": "2023-06-25T18:15:42.219Z"
   },
   {
    "duration": 33,
    "start_time": "2023-06-25T18:18:11.396Z"
   },
   {
    "duration": 92,
    "start_time": "2023-06-25T18:18:12.129Z"
   },
   {
    "duration": 15,
    "start_time": "2023-06-25T18:18:16.710Z"
   },
   {
    "duration": 1595,
    "start_time": "2023-06-25T18:18:25.199Z"
   },
   {
    "duration": 2,
    "start_time": "2023-06-25T18:18:26.796Z"
   },
   {
    "duration": 6,
    "start_time": "2023-06-25T18:18:26.800Z"
   },
   {
    "duration": 973,
    "start_time": "2023-06-25T18:18:26.808Z"
   },
   {
    "duration": 153,
    "start_time": "2023-06-25T18:18:27.783Z"
   },
   {
    "duration": 164,
    "start_time": "2023-06-25T18:18:27.938Z"
   },
   {
    "duration": 23,
    "start_time": "2023-06-25T18:18:28.104Z"
   },
   {
    "duration": 47,
    "start_time": "2023-06-25T18:18:28.129Z"
   },
   {
    "duration": 21,
    "start_time": "2023-06-25T18:18:28.178Z"
   },
   {
    "duration": 35,
    "start_time": "2023-06-25T18:18:28.202Z"
   },
   {
    "duration": 72,
    "start_time": "2023-06-25T18:18:28.239Z"
   },
   {
    "duration": 180,
    "start_time": "2023-06-25T18:18:28.314Z"
   },
   {
    "duration": 4,
    "start_time": "2023-06-25T18:18:28.496Z"
   },
   {
    "duration": 268,
    "start_time": "2023-06-25T18:18:28.501Z"
   },
   {
    "duration": 48,
    "start_time": "2023-06-25T18:18:28.771Z"
   },
   {
    "duration": 90,
    "start_time": "2023-06-25T18:18:28.820Z"
   },
   {
    "duration": 464,
    "start_time": "2023-06-25T18:18:28.912Z"
   },
   {
    "duration": 8,
    "start_time": "2023-06-25T18:18:29.377Z"
   },
   {
    "duration": 63,
    "start_time": "2023-06-25T18:18:29.387Z"
   },
   {
    "duration": 9,
    "start_time": "2023-06-25T18:18:29.452Z"
   },
   {
    "duration": 1121,
    "start_time": "2023-06-25T18:18:29.463Z"
   },
   {
    "duration": 9,
    "start_time": "2023-06-25T18:18:30.587Z"
   },
   {
    "duration": 92,
    "start_time": "2023-06-25T18:18:30.597Z"
   },
   {
    "duration": 8,
    "start_time": "2023-06-25T18:18:30.691Z"
   },
   {
    "duration": 487,
    "start_time": "2023-06-25T18:18:30.700Z"
   },
   {
    "duration": 5,
    "start_time": "2023-06-25T18:18:31.189Z"
   },
   {
    "duration": 45,
    "start_time": "2023-06-25T18:18:31.195Z"
   },
   {
    "duration": 110,
    "start_time": "2023-06-25T18:18:31.243Z"
   },
   {
    "duration": 80,
    "start_time": "2023-06-25T18:18:31.356Z"
   },
   {
    "duration": 181,
    "start_time": "2023-06-25T18:18:31.438Z"
   },
   {
    "duration": 197,
    "start_time": "2023-06-25T18:18:31.621Z"
   },
   {
    "duration": 1143841,
    "start_time": "2023-06-25T18:18:31.820Z"
   },
   {
    "duration": 1198,
    "start_time": "2023-06-25T18:37:35.663Z"
   },
   {
    "duration": 1279872,
    "start_time": "2023-06-25T18:37:36.869Z"
   },
   {
    "duration": 1812,
    "start_time": "2023-06-25T19:06:26.129Z"
   },
   {
    "duration": 3,
    "start_time": "2023-06-25T19:06:27.943Z"
   },
   {
    "duration": 16,
    "start_time": "2023-06-25T19:06:27.948Z"
   },
   {
    "duration": 2444,
    "start_time": "2023-06-25T19:06:27.966Z"
   },
   {
    "duration": 174,
    "start_time": "2023-06-25T19:06:30.412Z"
   },
   {
    "duration": 167,
    "start_time": "2023-06-25T19:06:30.588Z"
   },
   {
    "duration": 37,
    "start_time": "2023-06-25T19:06:30.757Z"
   },
   {
    "duration": 33,
    "start_time": "2023-06-25T19:06:30.796Z"
   },
   {
    "duration": 68,
    "start_time": "2023-06-25T19:06:30.831Z"
   },
   {
    "duration": 59,
    "start_time": "2023-06-25T19:06:30.902Z"
   },
   {
    "duration": 41,
    "start_time": "2023-06-25T19:06:30.963Z"
   },
   {
    "duration": 194,
    "start_time": "2023-06-25T19:06:31.006Z"
   },
   {
    "duration": 4,
    "start_time": "2023-06-25T19:06:31.202Z"
   },
   {
    "duration": 256,
    "start_time": "2023-06-25T19:06:31.208Z"
   },
   {
    "duration": 54,
    "start_time": "2023-06-25T19:06:31.466Z"
   },
   {
    "duration": 93,
    "start_time": "2023-06-25T19:06:31.521Z"
   },
   {
    "duration": 458,
    "start_time": "2023-06-25T19:06:31.615Z"
   },
   {
    "duration": 9,
    "start_time": "2023-06-25T19:06:32.075Z"
   },
   {
    "duration": 33,
    "start_time": "2023-06-25T19:06:32.085Z"
   },
   {
    "duration": 6,
    "start_time": "2023-06-25T19:06:32.120Z"
   },
   {
    "duration": 1264,
    "start_time": "2023-06-25T19:06:32.127Z"
   },
   {
    "duration": 8,
    "start_time": "2023-06-25T19:06:33.393Z"
   },
   {
    "duration": 27,
    "start_time": "2023-06-25T19:06:33.403Z"
   },
   {
    "duration": 36,
    "start_time": "2023-06-25T19:06:33.432Z"
   },
   {
    "duration": 471,
    "start_time": "2023-06-25T19:06:33.470Z"
   },
   {
    "duration": 12,
    "start_time": "2023-06-25T19:06:33.942Z"
   },
   {
    "duration": 16,
    "start_time": "2023-06-25T19:06:33.957Z"
   },
   {
    "duration": 108,
    "start_time": "2023-06-25T19:06:33.977Z"
   },
   {
    "duration": 91,
    "start_time": "2023-06-25T19:06:34.087Z"
   },
   {
    "duration": 176,
    "start_time": "2023-06-25T19:06:34.180Z"
   },
   {
    "duration": 206,
    "start_time": "2023-06-25T19:06:34.358Z"
   },
   {
    "duration": 1861,
    "start_time": "2023-06-25T19:13:23.919Z"
   },
   {
    "duration": 4,
    "start_time": "2023-06-25T19:13:25.788Z"
   },
   {
    "duration": 11,
    "start_time": "2023-06-25T19:13:25.794Z"
   },
   {
    "duration": 1156,
    "start_time": "2023-06-25T19:13:25.808Z"
   },
   {
    "duration": 183,
    "start_time": "2023-06-25T19:13:26.966Z"
   },
   {
    "duration": 196,
    "start_time": "2023-06-25T19:13:27.151Z"
   },
   {
    "duration": 52,
    "start_time": "2023-06-25T19:13:27.354Z"
   },
   {
    "duration": 39,
    "start_time": "2023-06-25T19:13:27.408Z"
   },
   {
    "duration": 51,
    "start_time": "2023-06-25T19:13:27.449Z"
   },
   {
    "duration": 32,
    "start_time": "2023-06-25T19:13:27.505Z"
   },
   {
    "duration": 51,
    "start_time": "2023-06-25T19:13:27.539Z"
   },
   {
    "duration": 199,
    "start_time": "2023-06-25T19:13:27.592Z"
   },
   {
    "duration": 5,
    "start_time": "2023-06-25T19:13:27.793Z"
   },
   {
    "duration": 320,
    "start_time": "2023-06-25T19:13:27.800Z"
   },
   {
    "duration": 69,
    "start_time": "2023-06-25T19:13:28.122Z"
   },
   {
    "duration": 107,
    "start_time": "2023-06-25T19:13:28.193Z"
   },
   {
    "duration": 514,
    "start_time": "2023-06-25T19:13:28.302Z"
   },
   {
    "duration": 6,
    "start_time": "2023-06-25T19:13:28.818Z"
   },
   {
    "duration": 58,
    "start_time": "2023-06-25T19:13:28.825Z"
   },
   {
    "duration": 10,
    "start_time": "2023-06-25T19:13:28.885Z"
   },
   {
    "duration": 1197,
    "start_time": "2023-06-25T19:13:28.897Z"
   },
   {
    "duration": 10,
    "start_time": "2023-06-25T19:13:30.097Z"
   },
   {
    "duration": 60,
    "start_time": "2023-06-25T19:13:30.109Z"
   },
   {
    "duration": 18,
    "start_time": "2023-06-25T19:13:30.174Z"
   },
   {
    "duration": 582,
    "start_time": "2023-06-25T19:13:30.194Z"
   },
   {
    "duration": 14,
    "start_time": "2023-06-25T19:13:30.779Z"
   },
   {
    "duration": 175,
    "start_time": "2023-06-25T19:13:30.795Z"
   },
   {
    "duration": 154,
    "start_time": "2023-06-25T19:13:30.974Z"
   },
   {
    "duration": 90,
    "start_time": "2023-06-25T19:13:31.129Z"
   },
   {
    "duration": 232,
    "start_time": "2023-06-25T19:13:31.221Z"
   },
   {
    "duration": 260,
    "start_time": "2023-06-25T19:13:31.458Z"
   },
   {
    "duration": 1848,
    "start_time": "2023-06-25T19:14:49.139Z"
   },
   {
    "duration": 4,
    "start_time": "2023-06-25T19:14:50.990Z"
   },
   {
    "duration": 15,
    "start_time": "2023-06-25T19:14:50.996Z"
   },
   {
    "duration": 1138,
    "start_time": "2023-06-25T19:14:51.013Z"
   },
   {
    "duration": 189,
    "start_time": "2023-06-25T19:14:52.152Z"
   },
   {
    "duration": 196,
    "start_time": "2023-06-25T19:14:52.342Z"
   },
   {
    "duration": 29,
    "start_time": "2023-06-25T19:14:52.539Z"
   },
   {
    "duration": 40,
    "start_time": "2023-06-25T19:14:52.571Z"
   },
   {
    "duration": 25,
    "start_time": "2023-06-25T19:14:52.613Z"
   },
   {
    "duration": 59,
    "start_time": "2023-06-25T19:14:52.641Z"
   },
   {
    "duration": 33,
    "start_time": "2023-06-25T19:14:52.704Z"
   },
   {
    "duration": 191,
    "start_time": "2023-06-25T19:14:52.739Z"
   },
   {
    "duration": 5,
    "start_time": "2023-06-25T19:14:52.932Z"
   },
   {
    "duration": 281,
    "start_time": "2023-06-25T19:14:52.938Z"
   },
   {
    "duration": 68,
    "start_time": "2023-06-25T19:14:53.221Z"
   },
   {
    "duration": 113,
    "start_time": "2023-06-25T19:14:53.291Z"
   },
   {
    "duration": 530,
    "start_time": "2023-06-25T19:14:53.406Z"
   },
   {
    "duration": 6,
    "start_time": "2023-06-25T19:14:53.938Z"
   },
   {
    "duration": 68,
    "start_time": "2023-06-25T19:14:53.946Z"
   },
   {
    "duration": 7,
    "start_time": "2023-06-25T19:14:54.015Z"
   },
   {
    "duration": 1230,
    "start_time": "2023-06-25T19:14:54.024Z"
   },
   {
    "duration": 17,
    "start_time": "2023-06-25T19:14:55.256Z"
   },
   {
    "duration": 47,
    "start_time": "2023-06-25T19:14:55.276Z"
   },
   {
    "duration": 11,
    "start_time": "2023-06-25T19:14:55.325Z"
   },
   {
    "duration": 581,
    "start_time": "2023-06-25T19:14:55.338Z"
   },
   {
    "duration": 6,
    "start_time": "2023-06-25T19:14:55.921Z"
   },
   {
    "duration": 9,
    "start_time": "2023-06-25T19:14:55.928Z"
   },
   {
    "duration": 131,
    "start_time": "2023-06-25T19:14:55.958Z"
   },
   {
    "duration": 93,
    "start_time": "2023-06-25T19:14:56.091Z"
   },
   {
    "duration": 224,
    "start_time": "2023-06-25T19:14:56.186Z"
   },
   {
    "duration": 260,
    "start_time": "2023-06-25T19:14:56.412Z"
   },
   {
    "duration": 1525,
    "start_time": "2023-06-25T19:20:11.701Z"
   },
   {
    "duration": 3,
    "start_time": "2023-06-25T19:20:13.228Z"
   },
   {
    "duration": 9,
    "start_time": "2023-06-25T19:20:13.233Z"
   },
   {
    "duration": 928,
    "start_time": "2023-06-25T19:20:13.243Z"
   },
   {
    "duration": 180,
    "start_time": "2023-06-25T19:20:14.174Z"
   },
   {
    "duration": 161,
    "start_time": "2023-06-25T19:20:14.357Z"
   },
   {
    "duration": 34,
    "start_time": "2023-06-25T19:20:14.520Z"
   },
   {
    "duration": 32,
    "start_time": "2023-06-25T19:20:14.557Z"
   },
   {
    "duration": 24,
    "start_time": "2023-06-25T19:20:14.591Z"
   },
   {
    "duration": 50,
    "start_time": "2023-06-25T19:20:14.617Z"
   },
   {
    "duration": 28,
    "start_time": "2023-06-25T19:20:14.668Z"
   },
   {
    "duration": 146,
    "start_time": "2023-06-25T19:20:14.698Z"
   },
   {
    "duration": 10,
    "start_time": "2023-06-25T19:20:14.846Z"
   },
   {
    "duration": 226,
    "start_time": "2023-06-25T19:20:14.862Z"
   },
   {
    "duration": 64,
    "start_time": "2023-06-25T19:20:15.090Z"
   },
   {
    "duration": 98,
    "start_time": "2023-06-25T19:20:15.157Z"
   },
   {
    "duration": 459,
    "start_time": "2023-06-25T19:20:15.258Z"
   },
   {
    "duration": 6,
    "start_time": "2023-06-25T19:20:15.719Z"
   },
   {
    "duration": 59,
    "start_time": "2023-06-25T19:20:15.727Z"
   },
   {
    "duration": 6,
    "start_time": "2023-06-25T19:20:15.788Z"
   },
   {
    "duration": 1085,
    "start_time": "2023-06-25T19:20:15.795Z"
   },
   {
    "duration": 8,
    "start_time": "2023-06-25T19:20:16.882Z"
   },
   {
    "duration": 33,
    "start_time": "2023-06-25T19:20:16.891Z"
   },
   {
    "duration": 39,
    "start_time": "2023-06-25T19:20:16.925Z"
   },
   {
    "duration": 441,
    "start_time": "2023-06-25T19:20:16.967Z"
   },
   {
    "duration": 5,
    "start_time": "2023-06-25T19:20:17.410Z"
   },
   {
    "duration": 17,
    "start_time": "2023-06-25T19:20:17.416Z"
   },
   {
    "duration": 138,
    "start_time": "2023-06-25T19:20:17.435Z"
   },
   {
    "duration": 81,
    "start_time": "2023-06-25T19:20:17.575Z"
   },
   {
    "duration": 247,
    "start_time": "2023-06-25T19:20:17.658Z"
   },
   {
    "duration": 206,
    "start_time": "2023-06-25T19:20:17.910Z"
   },
   {
    "duration": 124,
    "start_time": "2023-06-25T19:25:51.998Z"
   },
   {
    "duration": 1675,
    "start_time": "2023-06-25T19:26:00.651Z"
   },
   {
    "duration": 1558,
    "start_time": "2023-06-25T19:26:10.647Z"
   },
   {
    "duration": 3,
    "start_time": "2023-06-25T19:26:12.647Z"
   },
   {
    "duration": 5,
    "start_time": "2023-06-25T19:26:12.936Z"
   },
   {
    "duration": 934,
    "start_time": "2023-06-25T19:26:13.171Z"
   },
   {
    "duration": 155,
    "start_time": "2023-06-25T19:26:14.107Z"
   },
   {
    "duration": 153,
    "start_time": "2023-06-25T19:26:14.264Z"
   },
   {
    "duration": 37,
    "start_time": "2023-06-25T19:26:14.419Z"
   },
   {
    "duration": 40,
    "start_time": "2023-06-25T19:26:14.458Z"
   },
   {
    "duration": 24,
    "start_time": "2023-06-25T19:26:14.500Z"
   },
   {
    "duration": 25,
    "start_time": "2023-06-25T19:26:14.617Z"
   },
   {
    "duration": 33,
    "start_time": "2023-06-25T19:26:14.808Z"
   },
   {
    "duration": 178,
    "start_time": "2023-06-25T19:26:15.025Z"
   },
   {
    "duration": 12,
    "start_time": "2023-06-25T19:26:15.209Z"
   },
   {
    "duration": 233,
    "start_time": "2023-06-25T19:26:15.407Z"
   },
   {
    "duration": 54,
    "start_time": "2023-06-25T19:26:15.807Z"
   },
   {
    "duration": 84,
    "start_time": "2023-06-25T19:26:15.995Z"
   },
   {
    "duration": 452,
    "start_time": "2023-06-25T19:26:16.597Z"
   },
   {
    "duration": 9,
    "start_time": "2023-06-25T19:26:17.051Z"
   },
   {
    "duration": 34,
    "start_time": "2023-06-25T19:26:17.187Z"
   },
   {
    "duration": 6,
    "start_time": "2023-06-25T19:26:17.387Z"
   },
   {
    "duration": 1103,
    "start_time": "2023-06-25T19:26:17.784Z"
   },
   {
    "duration": 7,
    "start_time": "2023-06-25T19:26:18.889Z"
   },
   {
    "duration": 35,
    "start_time": "2023-06-25T19:26:18.897Z"
   },
   {
    "duration": 22,
    "start_time": "2023-06-25T19:26:18.934Z"
   },
   {
    "duration": 431,
    "start_time": "2023-06-25T19:26:19.156Z"
   },
   {
    "duration": 8,
    "start_time": "2023-06-25T19:26:21.087Z"
   },
   {
    "duration": 10,
    "start_time": "2023-06-25T19:26:22.768Z"
   },
   {
    "duration": 97,
    "start_time": "2023-06-25T19:26:23.170Z"
   },
   {
    "duration": 65,
    "start_time": "2023-06-25T19:26:23.367Z"
   },
   {
    "duration": 205,
    "start_time": "2023-06-25T19:26:24.378Z"
   },
   {
    "duration": 206,
    "start_time": "2023-06-25T19:26:24.771Z"
   },
   {
    "duration": 1578,
    "start_time": "2023-06-25T19:27:24.569Z"
   },
   {
    "duration": 2,
    "start_time": "2023-06-25T19:27:26.149Z"
   },
   {
    "duration": 12,
    "start_time": "2023-06-25T19:27:26.155Z"
   },
   {
    "duration": 1019,
    "start_time": "2023-06-25T19:27:26.169Z"
   },
   {
    "duration": 170,
    "start_time": "2023-06-25T19:27:27.190Z"
   },
   {
    "duration": 198,
    "start_time": "2023-06-25T19:27:27.362Z"
   },
   {
    "duration": 35,
    "start_time": "2023-06-25T19:27:27.562Z"
   },
   {
    "duration": 48,
    "start_time": "2023-06-25T19:27:27.600Z"
   },
   {
    "duration": 37,
    "start_time": "2023-06-25T19:27:27.650Z"
   },
   {
    "duration": 23,
    "start_time": "2023-06-25T19:27:27.689Z"
   },
   {
    "duration": 53,
    "start_time": "2023-06-25T19:27:27.714Z"
   },
   {
    "duration": 133,
    "start_time": "2023-06-25T19:27:27.771Z"
   },
   {
    "duration": 13,
    "start_time": "2023-06-25T19:27:27.905Z"
   },
   {
    "duration": 229,
    "start_time": "2023-06-25T19:27:27.921Z"
   },
   {
    "duration": 52,
    "start_time": "2023-06-25T19:27:28.154Z"
   },
   {
    "duration": 101,
    "start_time": "2023-06-25T19:27:28.207Z"
   },
   {
    "duration": 609,
    "start_time": "2023-06-25T19:27:28.310Z"
   },
   {
    "duration": 7,
    "start_time": "2023-06-25T19:27:28.921Z"
   },
   {
    "duration": 57,
    "start_time": "2023-06-25T19:27:28.929Z"
   },
   {
    "duration": 6,
    "start_time": "2023-06-25T19:27:28.988Z"
   },
   {
    "duration": 1052,
    "start_time": "2023-06-25T19:27:28.997Z"
   },
   {
    "duration": 12,
    "start_time": "2023-06-25T19:27:30.051Z"
   },
   {
    "duration": 53,
    "start_time": "2023-06-25T19:27:30.066Z"
   },
   {
    "duration": 8,
    "start_time": "2023-06-25T19:27:30.121Z"
   },
   {
    "duration": 476,
    "start_time": "2023-06-25T19:27:30.131Z"
   },
   {
    "duration": 6,
    "start_time": "2023-06-25T19:27:30.609Z"
   },
   {
    "duration": 58,
    "start_time": "2023-06-25T19:27:30.617Z"
   },
   {
    "duration": 176,
    "start_time": "2023-06-25T19:27:30.678Z"
   },
   {
    "duration": 87,
    "start_time": "2023-06-25T19:27:30.857Z"
   },
   {
    "duration": 213,
    "start_time": "2023-06-25T19:27:30.946Z"
   },
   {
    "duration": 207,
    "start_time": "2023-06-25T19:27:31.167Z"
   },
   {
    "duration": 108246,
    "start_time": "2023-06-25T19:27:31.376Z"
   },
   {
    "duration": 94,
    "start_time": "2023-06-25T19:29:19.624Z"
   },
   {
    "duration": 3,
    "start_time": "2023-06-25T19:29:19.721Z"
   },
   {
    "duration": 22768,
    "start_time": "2023-06-25T19:29:19.725Z"
   },
   {
    "duration": 95,
    "start_time": "2023-06-25T19:29:42.495Z"
   },
   {
    "duration": 445688,
    "start_time": "2023-06-25T19:29:42.591Z"
   },
   {
    "duration": 12,
    "start_time": "2023-06-25T19:37:08.281Z"
   },
   {
    "duration": 0,
    "start_time": "2023-06-25T19:37:08.294Z"
   },
   {
    "duration": 0,
    "start_time": "2023-06-25T19:37:08.295Z"
   },
   {
    "duration": 0,
    "start_time": "2023-06-25T19:37:08.297Z"
   },
   {
    "duration": 0,
    "start_time": "2023-06-25T19:37:08.297Z"
   },
   {
    "duration": 0,
    "start_time": "2023-06-25T19:37:08.298Z"
   },
   {
    "duration": 21,
    "start_time": "2023-06-25T19:43:32.287Z"
   },
   {
    "duration": 1463,
    "start_time": "2023-06-25T19:43:42.523Z"
   },
   {
    "duration": 1782,
    "start_time": "2023-06-25T19:44:13.612Z"
   },
   {
    "duration": 32707,
    "start_time": "2023-06-25T19:44:31.781Z"
   },
   {
    "duration": 627,
    "start_time": "2023-06-25T19:45:09.035Z"
   },
   {
    "duration": 1468,
    "start_time": "2023-06-25T19:48:02.709Z"
   },
   {
    "duration": 3,
    "start_time": "2023-06-25T19:48:04.179Z"
   },
   {
    "duration": 10,
    "start_time": "2023-06-25T19:48:04.183Z"
   },
   {
    "duration": 863,
    "start_time": "2023-06-25T19:48:04.195Z"
   },
   {
    "duration": 134,
    "start_time": "2023-06-25T19:48:05.061Z"
   },
   {
    "duration": 138,
    "start_time": "2023-06-25T19:48:05.196Z"
   },
   {
    "duration": 22,
    "start_time": "2023-06-25T19:48:06.251Z"
   },
   {
    "duration": 27,
    "start_time": "2023-06-25T19:48:06.444Z"
   },
   {
    "duration": 21,
    "start_time": "2023-06-25T19:48:06.612Z"
   },
   {
    "duration": 22,
    "start_time": "2023-06-25T19:48:06.811Z"
   },
   {
    "duration": 22,
    "start_time": "2023-06-25T19:48:06.986Z"
   },
   {
    "duration": 147,
    "start_time": "2023-06-25T19:48:07.212Z"
   },
   {
    "duration": 5,
    "start_time": "2023-06-25T19:48:07.391Z"
   },
   {
    "duration": 192,
    "start_time": "2023-06-25T19:48:07.632Z"
   },
   {
    "duration": 51,
    "start_time": "2023-06-25T19:48:07.952Z"
   },
   {
    "duration": 73,
    "start_time": "2023-06-25T19:48:08.132Z"
   },
   {
    "duration": 433,
    "start_time": "2023-06-25T19:48:08.787Z"
   },
   {
    "duration": 7,
    "start_time": "2023-06-25T19:48:09.221Z"
   },
   {
    "duration": 33,
    "start_time": "2023-06-25T19:48:09.398Z"
   },
   {
    "duration": 7,
    "start_time": "2023-06-25T19:48:09.592Z"
   },
   {
    "duration": 941,
    "start_time": "2023-06-25T19:48:10.032Z"
   },
   {
    "duration": 8,
    "start_time": "2023-06-25T19:48:10.975Z"
   },
   {
    "duration": 34,
    "start_time": "2023-06-25T19:48:11.933Z"
   },
   {
    "duration": 7,
    "start_time": "2023-06-25T19:48:12.112Z"
   },
   {
    "duration": 390,
    "start_time": "2023-06-25T19:48:12.512Z"
   },
   {
    "duration": 5,
    "start_time": "2023-06-25T19:48:12.904Z"
   },
   {
    "duration": 17,
    "start_time": "2023-06-25T19:48:12.911Z"
   },
   {
    "duration": 85,
    "start_time": "2023-06-25T19:48:13.295Z"
   },
   {
    "duration": 67,
    "start_time": "2023-06-25T19:48:13.512Z"
   },
   {
    "duration": 189,
    "start_time": "2023-06-25T19:48:14.995Z"
   },
   {
    "duration": 11,
    "start_time": "2023-06-25T19:48:16.354Z"
   },
   {
    "duration": 223,
    "start_time": "2023-06-25T19:50:26.714Z"
   },
   {
    "duration": 1552,
    "start_time": "2023-06-25T19:56:30.147Z"
   },
   {
    "duration": 3,
    "start_time": "2023-06-25T19:56:31.701Z"
   },
   {
    "duration": 38,
    "start_time": "2023-06-25T19:56:31.706Z"
   },
   {
    "duration": 895,
    "start_time": "2023-06-25T19:56:31.746Z"
   },
   {
    "duration": 144,
    "start_time": "2023-06-25T19:56:32.644Z"
   },
   {
    "duration": 142,
    "start_time": "2023-06-25T19:56:32.790Z"
   },
   {
    "duration": 24,
    "start_time": "2023-06-25T19:56:32.934Z"
   },
   {
    "duration": 39,
    "start_time": "2023-06-25T19:56:32.960Z"
   },
   {
    "duration": 35,
    "start_time": "2023-06-25T19:56:33.001Z"
   },
   {
    "duration": 34,
    "start_time": "2023-06-25T19:56:33.038Z"
   },
   {
    "duration": 31,
    "start_time": "2023-06-25T19:56:33.075Z"
   },
   {
    "duration": 135,
    "start_time": "2023-06-25T19:56:33.108Z"
   },
   {
    "duration": 10,
    "start_time": "2023-06-25T19:56:33.245Z"
   },
   {
    "duration": 120,
    "start_time": "2023-06-25T19:56:33.258Z"
   },
   {
    "duration": 0,
    "start_time": "2023-06-25T19:56:33.380Z"
   },
   {
    "duration": 0,
    "start_time": "2023-06-25T19:56:33.382Z"
   },
   {
    "duration": 0,
    "start_time": "2023-06-25T19:56:33.383Z"
   },
   {
    "duration": 0,
    "start_time": "2023-06-25T19:56:33.384Z"
   },
   {
    "duration": 1,
    "start_time": "2023-06-25T19:56:33.385Z"
   },
   {
    "duration": 0,
    "start_time": "2023-06-25T19:56:33.387Z"
   },
   {
    "duration": 0,
    "start_time": "2023-06-25T19:56:33.388Z"
   },
   {
    "duration": 0,
    "start_time": "2023-06-25T19:56:33.388Z"
   },
   {
    "duration": 0,
    "start_time": "2023-06-25T19:56:33.389Z"
   },
   {
    "duration": 0,
    "start_time": "2023-06-25T19:56:33.391Z"
   },
   {
    "duration": 0,
    "start_time": "2023-06-25T19:56:33.391Z"
   },
   {
    "duration": 0,
    "start_time": "2023-06-25T19:56:33.392Z"
   },
   {
    "duration": 0,
    "start_time": "2023-06-25T19:56:33.393Z"
   },
   {
    "duration": 0,
    "start_time": "2023-06-25T19:56:33.395Z"
   },
   {
    "duration": 0,
    "start_time": "2023-06-25T19:56:33.396Z"
   },
   {
    "duration": 0,
    "start_time": "2023-06-25T19:56:33.397Z"
   },
   {
    "duration": 0,
    "start_time": "2023-06-25T19:56:33.398Z"
   },
   {
    "duration": 0,
    "start_time": "2023-06-25T19:56:33.399Z"
   },
   {
    "duration": 0,
    "start_time": "2023-06-25T19:56:33.400Z"
   },
   {
    "duration": 0,
    "start_time": "2023-06-25T19:56:33.401Z"
   },
   {
    "duration": 0,
    "start_time": "2023-06-25T19:56:33.402Z"
   },
   {
    "duration": 0,
    "start_time": "2023-06-25T19:56:33.403Z"
   },
   {
    "duration": 0,
    "start_time": "2023-06-25T19:56:33.404Z"
   },
   {
    "duration": 0,
    "start_time": "2023-06-25T19:56:33.405Z"
   },
   {
    "duration": 0,
    "start_time": "2023-06-25T19:56:33.455Z"
   },
   {
    "duration": 0,
    "start_time": "2023-06-25T19:56:33.456Z"
   },
   {
    "duration": 0,
    "start_time": "2023-06-25T19:56:33.457Z"
   },
   {
    "duration": 0,
    "start_time": "2023-06-25T19:56:33.458Z"
   },
   {
    "duration": 0,
    "start_time": "2023-06-25T19:56:33.459Z"
   },
   {
    "duration": 0,
    "start_time": "2023-06-25T19:56:33.460Z"
   },
   {
    "duration": 0,
    "start_time": "2023-06-25T19:56:33.461Z"
   },
   {
    "duration": 473,
    "start_time": "2023-06-25T19:59:01.232Z"
   },
   {
    "duration": 11,
    "start_time": "2023-06-25T19:59:05.040Z"
   },
   {
    "duration": 495,
    "start_time": "2023-06-25T19:59:16.594Z"
   },
   {
    "duration": 1007,
    "start_time": "2023-06-25T19:59:17.787Z"
   },
   {
    "duration": 1816,
    "start_time": "2023-06-25T19:59:54.651Z"
   },
   {
    "duration": 3,
    "start_time": "2023-06-25T19:59:56.470Z"
   },
   {
    "duration": 19,
    "start_time": "2023-06-25T19:59:56.475Z"
   },
   {
    "duration": 946,
    "start_time": "2023-06-25T19:59:56.496Z"
   },
   {
    "duration": 176,
    "start_time": "2023-06-25T19:59:57.445Z"
   },
   {
    "duration": 140,
    "start_time": "2023-06-25T19:59:57.622Z"
   },
   {
    "duration": 25,
    "start_time": "2023-06-25T19:59:57.763Z"
   },
   {
    "duration": 24,
    "start_time": "2023-06-25T19:59:57.789Z"
   },
   {
    "duration": 42,
    "start_time": "2023-06-25T19:59:57.815Z"
   },
   {
    "duration": 28,
    "start_time": "2023-06-25T19:59:57.858Z"
   },
   {
    "duration": 37,
    "start_time": "2023-06-25T19:59:57.888Z"
   },
   {
    "duration": 163,
    "start_time": "2023-06-25T19:59:57.927Z"
   },
   {
    "duration": 3,
    "start_time": "2023-06-25T19:59:58.092Z"
   },
   {
    "duration": 611,
    "start_time": "2023-06-25T19:59:58.097Z"
   },
   {
    "duration": 952,
    "start_time": "2023-06-25T19:59:58.709Z"
   },
   {
    "duration": 196,
    "start_time": "2023-06-25T19:59:59.662Z"
   },
   {
    "duration": 43,
    "start_time": "2023-06-25T19:59:59.860Z"
   },
   {
    "duration": 87,
    "start_time": "2023-06-25T19:59:59.905Z"
   },
   {
    "duration": 438,
    "start_time": "2023-06-25T19:59:59.994Z"
   },
   {
    "duration": 20,
    "start_time": "2023-06-25T20:00:00.434Z"
   },
   {
    "duration": 55,
    "start_time": "2023-06-25T20:00:00.456Z"
   },
   {
    "duration": 6,
    "start_time": "2023-06-25T20:00:00.513Z"
   },
   {
    "duration": 988,
    "start_time": "2023-06-25T20:00:00.521Z"
   },
   {
    "duration": 9,
    "start_time": "2023-06-25T20:00:01.511Z"
   },
   {
    "duration": 170,
    "start_time": "2023-06-25T20:00:01.522Z"
   },
   {
    "duration": 9,
    "start_time": "2023-06-25T20:00:01.694Z"
   },
   {
    "duration": 418,
    "start_time": "2023-06-25T20:00:01.706Z"
   },
   {
    "duration": 6,
    "start_time": "2023-06-25T20:00:02.127Z"
   },
   {
    "duration": 93,
    "start_time": "2023-06-25T20:00:02.134Z"
   },
   {
    "duration": 192,
    "start_time": "2023-06-25T20:00:02.229Z"
   },
   {
    "duration": 126,
    "start_time": "2023-06-25T20:00:02.423Z"
   },
   {
    "duration": 169,
    "start_time": "2023-06-25T20:00:02.551Z"
   },
   {
    "duration": 11,
    "start_time": "2023-06-25T20:00:02.722Z"
   },
   {
    "duration": 206,
    "start_time": "2023-06-25T20:00:02.735Z"
   },
   {
    "duration": 4944,
    "start_time": "2023-06-25T20:22:42.221Z"
   },
   {
    "duration": 3,
    "start_time": "2023-06-25T20:22:47.167Z"
   },
   {
    "duration": 5,
    "start_time": "2023-06-25T20:22:47.171Z"
   },
   {
    "duration": 2903,
    "start_time": "2023-06-25T20:22:47.178Z"
   },
   {
    "duration": 141,
    "start_time": "2023-06-25T20:22:50.083Z"
   },
   {
    "duration": 137,
    "start_time": "2023-06-25T20:22:50.225Z"
   },
   {
    "duration": 2,
    "start_time": "2023-06-25T20:22:50.364Z"
   },
   {
    "duration": 9,
    "start_time": "2023-06-25T20:22:50.367Z"
   },
   {
    "duration": 4,
    "start_time": "2023-06-25T20:22:50.378Z"
   },
   {
    "duration": 9,
    "start_time": "2023-06-25T20:22:50.384Z"
   },
   {
    "duration": 4,
    "start_time": "2023-06-25T20:22:50.394Z"
   },
   {
    "duration": 144,
    "start_time": "2023-06-25T20:22:50.400Z"
   },
   {
    "duration": 5,
    "start_time": "2023-06-25T20:22:50.553Z"
   },
   {
    "duration": 506,
    "start_time": "2023-06-25T20:22:50.560Z"
   },
   {
    "duration": 975,
    "start_time": "2023-06-25T20:22:51.068Z"
   },
   {
    "duration": 197,
    "start_time": "2023-06-25T20:22:52.045Z"
   },
   {
    "duration": 45,
    "start_time": "2023-06-25T20:22:52.244Z"
   },
   {
    "duration": 91,
    "start_time": "2023-06-25T20:22:52.291Z"
   },
   {
    "duration": 454,
    "start_time": "2023-06-25T20:22:52.384Z"
   },
   {
    "duration": 6,
    "start_time": "2023-06-25T20:22:52.840Z"
   },
   {
    "duration": 44,
    "start_time": "2023-06-25T20:22:52.848Z"
   },
   {
    "duration": 6,
    "start_time": "2023-06-25T20:22:52.894Z"
   },
   {
    "duration": 932,
    "start_time": "2023-06-25T20:22:52.902Z"
   },
   {
    "duration": 19,
    "start_time": "2023-06-25T20:22:53.836Z"
   },
   {
    "duration": 26,
    "start_time": "2023-06-25T20:22:53.857Z"
   },
   {
    "duration": 7,
    "start_time": "2023-06-25T20:22:53.884Z"
   },
   {
    "duration": 390,
    "start_time": "2023-06-25T20:22:53.893Z"
   },
   {
    "duration": 6,
    "start_time": "2023-06-25T20:22:54.284Z"
   },
   {
    "duration": 7,
    "start_time": "2023-06-25T20:22:54.292Z"
   },
   {
    "duration": 109,
    "start_time": "2023-06-25T20:22:54.301Z"
   },
   {
    "duration": 84,
    "start_time": "2023-06-25T20:22:54.412Z"
   },
   {
    "duration": 180,
    "start_time": "2023-06-25T20:22:54.497Z"
   },
   {
    "duration": 11,
    "start_time": "2023-06-25T20:22:54.679Z"
   },
   {
    "duration": 198,
    "start_time": "2023-06-25T20:22:54.692Z"
   },
   {
    "duration": 1472,
    "start_time": "2023-06-25T20:31:17.782Z"
   },
   {
    "duration": 6,
    "start_time": "2023-06-25T20:31:19.256Z"
   },
   {
    "duration": 7,
    "start_time": "2023-06-25T20:31:19.264Z"
   },
   {
    "duration": 1057,
    "start_time": "2023-06-25T20:31:19.273Z"
   },
   {
    "duration": 246,
    "start_time": "2023-06-25T20:31:20.333Z"
   },
   {
    "duration": 254,
    "start_time": "2023-06-25T20:31:20.581Z"
   },
   {
    "duration": 49,
    "start_time": "2023-06-25T20:31:20.838Z"
   },
   {
    "duration": 36,
    "start_time": "2023-06-25T20:31:20.890Z"
   },
   {
    "duration": 53,
    "start_time": "2023-06-25T20:31:20.929Z"
   },
   {
    "duration": 40,
    "start_time": "2023-06-25T20:31:20.986Z"
   },
   {
    "duration": 48,
    "start_time": "2023-06-25T20:31:21.028Z"
   },
   {
    "duration": 165,
    "start_time": "2023-06-25T20:31:21.079Z"
   },
   {
    "duration": 10,
    "start_time": "2023-06-25T20:31:21.246Z"
   },
   {
    "duration": 491,
    "start_time": "2023-06-25T20:31:21.258Z"
   },
   {
    "duration": 1004,
    "start_time": "2023-06-25T20:31:21.751Z"
   },
   {
    "duration": 204,
    "start_time": "2023-06-25T20:31:22.756Z"
   },
   {
    "duration": 60,
    "start_time": "2023-06-25T20:31:22.962Z"
   },
   {
    "duration": 97,
    "start_time": "2023-06-25T20:31:23.024Z"
   },
   {
    "duration": 472,
    "start_time": "2023-06-25T20:31:23.122Z"
   },
   {
    "duration": 7,
    "start_time": "2023-06-25T20:31:23.596Z"
   },
   {
    "duration": 52,
    "start_time": "2023-06-25T20:31:23.605Z"
   },
   {
    "duration": 7,
    "start_time": "2023-06-25T20:31:23.659Z"
   },
   {
    "duration": 994,
    "start_time": "2023-06-25T20:31:23.668Z"
   },
   {
    "duration": 10,
    "start_time": "2023-06-25T20:31:24.664Z"
   },
   {
    "duration": 34,
    "start_time": "2023-06-25T20:31:24.676Z"
   },
   {
    "duration": 10,
    "start_time": "2023-06-25T20:31:24.711Z"
   },
   {
    "duration": 422,
    "start_time": "2023-06-25T20:31:24.755Z"
   },
   {
    "duration": 8,
    "start_time": "2023-06-25T20:31:25.183Z"
   },
   {
    "duration": 14,
    "start_time": "2023-06-25T20:31:25.194Z"
   },
   {
    "duration": 150,
    "start_time": "2023-06-25T20:31:25.210Z"
   },
   {
    "duration": 70,
    "start_time": "2023-06-25T20:31:25.362Z"
   },
   {
    "duration": 181,
    "start_time": "2023-06-25T20:31:25.434Z"
   },
   {
    "duration": 16,
    "start_time": "2023-06-25T20:31:25.617Z"
   },
   {
    "duration": 220,
    "start_time": "2023-06-25T20:31:25.635Z"
   },
   {
    "duration": 1625,
    "start_time": "2023-06-25T20:33:34.247Z"
   },
   {
    "duration": 4,
    "start_time": "2023-06-25T20:33:35.878Z"
   },
   {
    "duration": 12,
    "start_time": "2023-06-25T20:33:35.884Z"
   },
   {
    "duration": 1014,
    "start_time": "2023-06-25T20:33:35.899Z"
   },
   {
    "duration": 146,
    "start_time": "2023-06-25T20:33:36.915Z"
   },
   {
    "duration": 148,
    "start_time": "2023-06-25T20:33:37.063Z"
   },
   {
    "duration": 626,
    "start_time": "2023-06-25T20:33:37.213Z"
   },
   {
    "duration": 1112,
    "start_time": "2023-06-25T20:33:37.840Z"
   },
   {
    "duration": 26,
    "start_time": "2023-06-25T20:33:38.954Z"
   },
   {
    "duration": 23,
    "start_time": "2023-06-25T20:33:38.983Z"
   },
   {
    "duration": 54,
    "start_time": "2023-06-25T20:33:39.008Z"
   },
   {
    "duration": 41,
    "start_time": "2023-06-25T20:33:39.065Z"
   },
   {
    "duration": 54,
    "start_time": "2023-06-25T20:33:39.109Z"
   },
   {
    "duration": 172,
    "start_time": "2023-06-25T20:33:39.166Z"
   },
   {
    "duration": 14,
    "start_time": "2023-06-25T20:33:39.340Z"
   },
   {
    "duration": 231,
    "start_time": "2023-06-25T20:33:39.356Z"
   },
   {
    "duration": 44,
    "start_time": "2023-06-25T20:33:39.589Z"
   },
   {
    "duration": 93,
    "start_time": "2023-06-25T20:33:39.635Z"
   },
   {
    "duration": 465,
    "start_time": "2023-06-25T20:33:39.730Z"
   },
   {
    "duration": 9,
    "start_time": "2023-06-25T20:33:40.197Z"
   },
   {
    "duration": 72,
    "start_time": "2023-06-25T20:33:40.208Z"
   },
   {
    "duration": 8,
    "start_time": "2023-06-25T20:33:40.283Z"
   },
   {
    "duration": 1060,
    "start_time": "2023-06-25T20:33:40.294Z"
   },
   {
    "duration": 9,
    "start_time": "2023-06-25T20:33:41.356Z"
   },
   {
    "duration": 34,
    "start_time": "2023-06-25T20:33:41.367Z"
   },
   {
    "duration": 11,
    "start_time": "2023-06-25T20:33:41.403Z"
   },
   {
    "duration": 469,
    "start_time": "2023-06-25T20:33:41.416Z"
   },
   {
    "duration": 7,
    "start_time": "2023-06-25T20:33:41.890Z"
   },
   {
    "duration": 14,
    "start_time": "2023-06-25T20:33:41.899Z"
   },
   {
    "duration": 146,
    "start_time": "2023-06-25T20:33:41.915Z"
   },
   {
    "duration": 70,
    "start_time": "2023-06-25T20:33:42.063Z"
   },
   {
    "duration": 191,
    "start_time": "2023-06-25T20:33:42.155Z"
   },
   {
    "duration": 12,
    "start_time": "2023-06-25T20:33:42.354Z"
   },
   {
    "duration": 293,
    "start_time": "2023-06-25T20:33:42.368Z"
   },
   {
    "duration": 1660,
    "start_time": "2023-06-25T20:35:25.940Z"
   },
   {
    "duration": 3,
    "start_time": "2023-06-25T20:35:27.602Z"
   },
   {
    "duration": 5,
    "start_time": "2023-06-25T20:35:27.607Z"
   },
   {
    "duration": 871,
    "start_time": "2023-06-25T20:35:27.614Z"
   },
   {
    "duration": 148,
    "start_time": "2023-06-25T20:35:28.487Z"
   },
   {
    "duration": 144,
    "start_time": "2023-06-25T20:35:28.637Z"
   },
   {
    "duration": 52,
    "start_time": "2023-06-25T20:35:28.783Z"
   },
   {
    "duration": 239,
    "start_time": "2023-06-25T20:35:28.837Z"
   },
   {
    "duration": 425,
    "start_time": "2023-06-25T20:35:29.078Z"
   },
   {
    "duration": 19,
    "start_time": "2023-06-25T20:35:29.505Z"
   },
   {
    "duration": 33,
    "start_time": "2023-06-25T20:35:29.526Z"
   },
   {
    "duration": 20,
    "start_time": "2023-06-25T20:35:29.561Z"
   },
   {
    "duration": 27,
    "start_time": "2023-06-25T20:35:29.583Z"
   },
   {
    "duration": 27,
    "start_time": "2023-06-25T20:35:29.613Z"
   },
   {
    "duration": 103,
    "start_time": "2023-06-25T20:35:29.642Z"
   },
   {
    "duration": 15,
    "start_time": "2023-06-25T20:35:29.747Z"
   },
   {
    "duration": 132,
    "start_time": "2023-06-25T20:35:29.765Z"
   },
   {
    "duration": 84,
    "start_time": "2023-06-25T20:35:29.899Z"
   },
   {
    "duration": 436,
    "start_time": "2023-06-25T20:35:29.985Z"
   },
   {
    "duration": 8,
    "start_time": "2023-06-25T20:35:30.423Z"
   },
   {
    "duration": 50,
    "start_time": "2023-06-25T20:35:30.433Z"
   },
   {
    "duration": 18,
    "start_time": "2023-06-25T20:35:30.484Z"
   },
   {
    "duration": 1010,
    "start_time": "2023-06-25T20:35:30.504Z"
   },
   {
    "duration": 10,
    "start_time": "2023-06-25T20:35:31.516Z"
   },
   {
    "duration": 37,
    "start_time": "2023-06-25T20:35:31.528Z"
   },
   {
    "duration": 8,
    "start_time": "2023-06-25T20:35:31.566Z"
   },
   {
    "duration": 422,
    "start_time": "2023-06-25T20:35:31.575Z"
   },
   {
    "duration": 5,
    "start_time": "2023-06-25T20:35:31.999Z"
   },
   {
    "duration": 18,
    "start_time": "2023-06-25T20:35:32.006Z"
   },
   {
    "duration": 96,
    "start_time": "2023-06-25T20:35:32.026Z"
   },
   {
    "duration": 79,
    "start_time": "2023-06-25T20:35:32.124Z"
   },
   {
    "duration": 183,
    "start_time": "2023-06-25T20:35:32.205Z"
   },
   {
    "duration": 15,
    "start_time": "2023-06-25T20:35:32.390Z"
   },
   {
    "duration": 193,
    "start_time": "2023-06-25T20:35:32.407Z"
   },
   {
    "duration": 1518,
    "start_time": "2023-06-25T20:37:30.596Z"
   },
   {
    "duration": 3,
    "start_time": "2023-06-25T20:37:32.116Z"
   },
   {
    "duration": 26,
    "start_time": "2023-06-25T20:37:32.120Z"
   },
   {
    "duration": 913,
    "start_time": "2023-06-25T20:37:32.148Z"
   },
   {
    "duration": 156,
    "start_time": "2023-06-25T20:37:33.063Z"
   },
   {
    "duration": 142,
    "start_time": "2023-06-25T20:37:33.221Z"
   },
   {
    "duration": 53,
    "start_time": "2023-06-25T20:37:33.364Z"
   },
   {
    "duration": 230,
    "start_time": "2023-06-25T20:37:33.420Z"
   },
   {
    "duration": 380,
    "start_time": "2023-06-25T20:37:33.654Z"
   },
   {
    "duration": 24,
    "start_time": "2023-06-25T20:37:34.035Z"
   },
   {
    "duration": 28,
    "start_time": "2023-06-25T20:37:34.061Z"
   },
   {
    "duration": 29,
    "start_time": "2023-06-25T20:37:34.091Z"
   },
   {
    "duration": 20,
    "start_time": "2023-06-25T20:37:34.122Z"
   },
   {
    "duration": 27,
    "start_time": "2023-06-25T20:37:34.145Z"
   },
   {
    "duration": 111,
    "start_time": "2023-06-25T20:37:34.174Z"
   },
   {
    "duration": 4,
    "start_time": "2023-06-25T20:37:34.288Z"
   },
   {
    "duration": 214,
    "start_time": "2023-06-25T20:37:34.293Z"
   },
   {
    "duration": 92,
    "start_time": "2023-06-25T20:37:34.509Z"
   },
   {
    "duration": 399,
    "start_time": "2023-06-25T20:37:34.603Z"
   },
   {
    "duration": 8,
    "start_time": "2023-06-25T20:37:35.005Z"
   },
   {
    "duration": 42,
    "start_time": "2023-06-25T20:37:35.015Z"
   },
   {
    "duration": 8,
    "start_time": "2023-06-25T20:37:35.059Z"
   },
   {
    "duration": 971,
    "start_time": "2023-06-25T20:37:35.068Z"
   },
   {
    "duration": 15,
    "start_time": "2023-06-25T20:37:36.040Z"
   },
   {
    "duration": 25,
    "start_time": "2023-06-25T20:37:36.057Z"
   },
   {
    "duration": 10,
    "start_time": "2023-06-25T20:37:36.083Z"
   },
   {
    "duration": 453,
    "start_time": "2023-06-25T20:37:36.095Z"
   },
   {
    "duration": 6,
    "start_time": "2023-06-25T20:37:36.550Z"
   },
   {
    "duration": 11,
    "start_time": "2023-06-25T20:37:36.557Z"
   },
   {
    "duration": 99,
    "start_time": "2023-06-25T20:37:36.571Z"
   },
   {
    "duration": 104,
    "start_time": "2023-06-25T20:37:36.672Z"
   },
   {
    "duration": 170,
    "start_time": "2023-06-25T20:37:36.779Z"
   },
   {
    "duration": 13,
    "start_time": "2023-06-25T20:37:36.954Z"
   },
   {
    "duration": 185,
    "start_time": "2023-06-25T20:37:36.969Z"
   },
   {
    "duration": 1603,
    "start_time": "2023-06-25T20:45:33.930Z"
   },
   {
    "duration": 3,
    "start_time": "2023-06-25T20:45:35.535Z"
   },
   {
    "duration": 15,
    "start_time": "2023-06-25T20:45:35.540Z"
   },
   {
    "duration": 858,
    "start_time": "2023-06-25T20:45:35.557Z"
   },
   {
    "duration": 155,
    "start_time": "2023-06-25T20:45:36.417Z"
   },
   {
    "duration": 138,
    "start_time": "2023-06-25T20:45:36.574Z"
   },
   {
    "duration": 62,
    "start_time": "2023-06-25T20:45:36.714Z"
   },
   {
    "duration": 220,
    "start_time": "2023-06-25T20:45:36.777Z"
   },
   {
    "duration": 484,
    "start_time": "2023-06-25T20:45:36.999Z"
   },
   {
    "duration": 31,
    "start_time": "2023-06-25T20:45:37.488Z"
   },
   {
    "duration": 44,
    "start_time": "2023-06-25T20:45:37.521Z"
   },
   {
    "duration": 26,
    "start_time": "2023-06-25T20:45:37.567Z"
   },
   {
    "duration": 25,
    "start_time": "2023-06-25T20:45:37.596Z"
   },
   {
    "duration": 44,
    "start_time": "2023-06-25T20:45:37.623Z"
   },
   {
    "duration": 86,
    "start_time": "2023-06-25T20:45:37.669Z"
   },
   {
    "duration": 3,
    "start_time": "2023-06-25T20:45:37.757Z"
   },
   {
    "duration": 137,
    "start_time": "2023-06-25T20:45:37.762Z"
   },
   {
    "duration": 82,
    "start_time": "2023-06-25T20:45:37.901Z"
   },
   {
    "duration": 407,
    "start_time": "2023-06-25T20:45:37.985Z"
   },
   {
    "duration": 7,
    "start_time": "2023-06-25T20:45:38.394Z"
   },
   {
    "duration": 25,
    "start_time": "2023-06-25T20:45:38.403Z"
   },
   {
    "duration": 28,
    "start_time": "2023-06-25T20:45:38.430Z"
   },
   {
    "duration": 1016,
    "start_time": "2023-06-25T20:45:38.459Z"
   },
   {
    "duration": 9,
    "start_time": "2023-06-25T20:45:39.477Z"
   },
   {
    "duration": 25,
    "start_time": "2023-06-25T20:45:39.488Z"
   },
   {
    "duration": 7,
    "start_time": "2023-06-25T20:45:39.515Z"
   },
   {
    "duration": 419,
    "start_time": "2023-06-25T20:45:39.555Z"
   },
   {
    "duration": 6,
    "start_time": "2023-06-25T20:45:39.977Z"
   },
   {
    "duration": 9,
    "start_time": "2023-06-25T20:45:39.984Z"
   },
   {
    "duration": 103,
    "start_time": "2023-06-25T20:45:39.994Z"
   },
   {
    "duration": 80,
    "start_time": "2023-06-25T20:45:40.099Z"
   },
   {
    "duration": 172,
    "start_time": "2023-06-25T20:45:40.180Z"
   },
   {
    "duration": 11,
    "start_time": "2023-06-25T20:45:40.354Z"
   },
   {
    "duration": 21,
    "start_time": "2023-06-25T20:45:40.367Z"
   },
   {
    "duration": 20,
    "start_time": "2023-06-25T20:45:40.390Z"
   },
   {
    "duration": 53,
    "start_time": "2023-06-25T20:45:40.411Z"
   },
   {
    "duration": 20,
    "start_time": "2023-06-25T20:45:40.466Z"
   },
   {
    "duration": 23,
    "start_time": "2023-06-25T20:45:40.488Z"
   },
   {
    "duration": 44,
    "start_time": "2023-06-25T20:45:40.513Z"
   },
   {
    "duration": 182,
    "start_time": "2023-06-25T20:45:40.559Z"
   },
   {
    "duration": 1850,
    "start_time": "2023-06-25T21:01:19.829Z"
   },
   {
    "duration": 7,
    "start_time": "2023-06-25T21:01:21.682Z"
   },
   {
    "duration": 6,
    "start_time": "2023-06-25T21:01:21.691Z"
   },
   {
    "duration": 937,
    "start_time": "2023-06-25T21:01:21.699Z"
   },
   {
    "duration": 200,
    "start_time": "2023-06-25T21:01:22.638Z"
   },
   {
    "duration": 268,
    "start_time": "2023-06-25T21:01:22.840Z"
   },
   {
    "duration": 72,
    "start_time": "2023-06-25T21:01:23.111Z"
   },
   {
    "duration": 51,
    "start_time": "2023-06-25T21:01:23.186Z"
   },
   {
    "duration": 47,
    "start_time": "2023-06-25T21:01:23.239Z"
   },
   {
    "duration": 35,
    "start_time": "2023-06-25T21:01:23.290Z"
   },
   {
    "duration": 49,
    "start_time": "2023-06-25T21:01:23.327Z"
   },
   {
    "duration": 45,
    "start_time": "2023-06-25T21:01:23.379Z"
   },
   {
    "duration": 47,
    "start_time": "2023-06-25T21:01:23.426Z"
   },
   {
    "duration": 43,
    "start_time": "2023-06-25T21:01:23.477Z"
   },
   {
    "duration": 52,
    "start_time": "2023-06-25T21:01:23.522Z"
   },
   {
    "duration": 41,
    "start_time": "2023-06-25T21:01:23.576Z"
   },
   {
    "duration": 54,
    "start_time": "2023-06-25T21:01:23.620Z"
   },
   {
    "duration": 171,
    "start_time": "2023-06-25T21:01:23.677Z"
   },
   {
    "duration": 298,
    "start_time": "2023-06-25T21:01:23.850Z"
   },
   {
    "duration": 480,
    "start_time": "2023-06-25T21:01:24.154Z"
   },
   {
    "duration": 7,
    "start_time": "2023-06-25T21:01:24.636Z"
   },
   {
    "duration": 216,
    "start_time": "2023-06-25T21:01:24.644Z"
   },
   {
    "duration": 122,
    "start_time": "2023-06-25T21:01:24.863Z"
   },
   {
    "duration": 686,
    "start_time": "2023-06-25T21:01:24.987Z"
   },
   {
    "duration": 11,
    "start_time": "2023-06-25T21:01:25.675Z"
   },
   {
    "duration": 37,
    "start_time": "2023-06-25T21:01:25.688Z"
   },
   {
    "duration": 28,
    "start_time": "2023-06-25T21:01:25.727Z"
   },
   {
    "duration": 1172,
    "start_time": "2023-06-25T21:01:25.761Z"
   },
   {
    "duration": 22,
    "start_time": "2023-06-25T21:01:26.935Z"
   },
   {
    "duration": 37,
    "start_time": "2023-06-25T21:01:26.962Z"
   },
   {
    "duration": 10,
    "start_time": "2023-06-25T21:01:27.002Z"
   },
   {
    "duration": 662,
    "start_time": "2023-06-25T21:01:27.014Z"
   },
   {
    "duration": 7,
    "start_time": "2023-06-25T21:01:27.679Z"
   },
   {
    "duration": 12,
    "start_time": "2023-06-25T21:01:27.688Z"
   },
   {
    "duration": 107,
    "start_time": "2023-06-25T21:01:27.702Z"
   },
   {
    "duration": 98,
    "start_time": "2023-06-25T21:01:27.811Z"
   },
   {
    "duration": 266,
    "start_time": "2023-06-25T21:01:27.911Z"
   },
   {
    "duration": 23,
    "start_time": "2023-06-25T21:01:28.180Z"
   },
   {
    "duration": 288,
    "start_time": "2023-06-25T21:01:28.206Z"
   },
   {
    "duration": 2167,
    "start_time": "2023-06-25T21:04:36.230Z"
   },
   {
    "duration": 7,
    "start_time": "2023-06-25T21:04:38.400Z"
   },
   {
    "duration": 18,
    "start_time": "2023-06-25T21:04:38.410Z"
   },
   {
    "duration": 1286,
    "start_time": "2023-06-25T21:04:38.430Z"
   },
   {
    "duration": 198,
    "start_time": "2023-06-25T21:04:39.719Z"
   },
   {
    "duration": 269,
    "start_time": "2023-06-25T21:04:39.920Z"
   },
   {
    "duration": 60,
    "start_time": "2023-06-25T21:04:40.198Z"
   },
   {
    "duration": 43,
    "start_time": "2023-06-25T21:04:40.263Z"
   },
   {
    "duration": 51,
    "start_time": "2023-06-25T21:04:40.309Z"
   },
   {
    "duration": 41,
    "start_time": "2023-06-25T21:04:40.380Z"
   },
   {
    "duration": 97,
    "start_time": "2023-06-25T21:04:40.423Z"
   },
   {
    "duration": 27,
    "start_time": "2023-06-25T21:04:40.523Z"
   },
   {
    "duration": 69,
    "start_time": "2023-06-25T21:04:40.555Z"
   },
   {
    "duration": 30,
    "start_time": "2023-06-25T21:04:40.628Z"
   },
   {
    "duration": 58,
    "start_time": "2023-06-25T21:04:40.661Z"
   },
   {
    "duration": 39,
    "start_time": "2023-06-25T21:04:40.721Z"
   },
   {
    "duration": 42,
    "start_time": "2023-06-25T21:04:40.762Z"
   },
   {
    "duration": 124,
    "start_time": "2023-06-25T21:04:40.808Z"
   },
   {
    "duration": 231,
    "start_time": "2023-06-25T21:04:40.935Z"
   },
   {
    "duration": 406,
    "start_time": "2023-06-25T21:04:41.169Z"
   },
   {
    "duration": 6,
    "start_time": "2023-06-25T21:04:41.579Z"
   },
   {
    "duration": 176,
    "start_time": "2023-06-25T21:04:41.588Z"
   },
   {
    "duration": 97,
    "start_time": "2023-06-25T21:04:41.766Z"
   },
   {
    "duration": 629,
    "start_time": "2023-06-25T21:04:41.865Z"
   },
   {
    "duration": 13,
    "start_time": "2023-06-25T21:04:42.496Z"
   },
   {
    "duration": 30,
    "start_time": "2023-06-25T21:04:42.514Z"
   },
   {
    "duration": 22,
    "start_time": "2023-06-25T21:04:42.563Z"
   },
   {
    "duration": 1269,
    "start_time": "2023-06-25T21:04:42.590Z"
   },
   {
    "duration": 11,
    "start_time": "2023-06-25T21:04:43.862Z"
   },
   {
    "duration": 35,
    "start_time": "2023-06-25T21:04:43.875Z"
   },
   {
    "duration": 9,
    "start_time": "2023-06-25T21:04:43.912Z"
   },
   {
    "duration": 688,
    "start_time": "2023-06-25T21:04:43.923Z"
   },
   {
    "duration": 7,
    "start_time": "2023-06-25T21:04:44.614Z"
   },
   {
    "duration": 9,
    "start_time": "2023-06-25T21:04:44.623Z"
   },
   {
    "duration": 141,
    "start_time": "2023-06-25T21:04:44.634Z"
   },
   {
    "duration": 94,
    "start_time": "2023-06-25T21:04:44.778Z"
   },
   {
    "duration": 198,
    "start_time": "2023-06-25T21:04:44.874Z"
   },
   {
    "duration": 20,
    "start_time": "2023-06-25T21:04:45.075Z"
   },
   {
    "duration": 222,
    "start_time": "2023-06-25T21:04:45.097Z"
   },
   {
    "duration": 1523,
    "start_time": "2023-06-25T21:07:50.113Z"
   },
   {
    "duration": 2,
    "start_time": "2023-06-25T21:07:51.638Z"
   },
   {
    "duration": 27,
    "start_time": "2023-06-25T21:07:51.642Z"
   },
   {
    "duration": 902,
    "start_time": "2023-06-25T21:07:51.671Z"
   },
   {
    "duration": 154,
    "start_time": "2023-06-25T21:07:52.576Z"
   },
   {
    "duration": 154,
    "start_time": "2023-06-25T21:07:52.732Z"
   },
   {
    "duration": 72,
    "start_time": "2023-06-25T21:07:52.888Z"
   },
   {
    "duration": 27,
    "start_time": "2023-06-25T21:07:52.962Z"
   },
   {
    "duration": 29,
    "start_time": "2023-06-25T21:07:52.990Z"
   },
   {
    "duration": 19,
    "start_time": "2023-06-25T21:07:53.021Z"
   },
   {
    "duration": 74,
    "start_time": "2023-06-25T21:07:53.042Z"
   },
   {
    "duration": 22,
    "start_time": "2023-06-25T21:07:53.117Z"
   },
   {
    "duration": 75,
    "start_time": "2023-06-25T21:07:53.140Z"
   },
   {
    "duration": 20,
    "start_time": "2023-06-25T21:07:53.219Z"
   },
   {
    "duration": 28,
    "start_time": "2023-06-25T21:07:53.255Z"
   },
   {
    "duration": 27,
    "start_time": "2023-06-25T21:07:53.285Z"
   },
   {
    "duration": 21,
    "start_time": "2023-06-25T21:07:53.314Z"
   },
   {
    "duration": 119,
    "start_time": "2023-06-25T21:07:53.337Z"
   },
   {
    "duration": 163,
    "start_time": "2023-06-25T21:07:53.458Z"
   },
   {
    "duration": 308,
    "start_time": "2023-06-25T21:07:53.622Z"
   },
   {
    "duration": 4,
    "start_time": "2023-06-25T21:07:53.931Z"
   },
   {
    "duration": 141,
    "start_time": "2023-06-25T21:07:53.937Z"
   },
   {
    "duration": 79,
    "start_time": "2023-06-25T21:07:54.079Z"
   },
   {
    "duration": 427,
    "start_time": "2023-06-25T21:07:54.159Z"
   },
   {
    "duration": 7,
    "start_time": "2023-06-25T21:07:54.588Z"
   },
   {
    "duration": 23,
    "start_time": "2023-06-25T21:07:54.596Z"
   },
   {
    "duration": 6,
    "start_time": "2023-06-25T21:07:54.621Z"
   },
   {
    "duration": 969,
    "start_time": "2023-06-25T21:07:54.629Z"
   },
   {
    "duration": 6,
    "start_time": "2023-06-25T21:07:55.600Z"
   },
   {
    "duration": 52,
    "start_time": "2023-06-25T21:07:55.609Z"
   },
   {
    "duration": 11,
    "start_time": "2023-06-25T21:07:55.663Z"
   },
   {
    "duration": 428,
    "start_time": "2023-06-25T21:07:55.676Z"
   },
   {
    "duration": 4,
    "start_time": "2023-06-25T21:07:56.106Z"
   },
   {
    "duration": 9,
    "start_time": "2023-06-25T21:07:56.112Z"
   },
   {
    "duration": 95,
    "start_time": "2023-06-25T21:07:56.123Z"
   },
   {
    "duration": 75,
    "start_time": "2023-06-25T21:07:56.220Z"
   },
   {
    "duration": 175,
    "start_time": "2023-06-25T21:07:56.296Z"
   },
   {
    "duration": 13,
    "start_time": "2023-06-25T21:07:56.473Z"
   },
   {
    "duration": 181,
    "start_time": "2023-06-25T21:07:56.488Z"
   },
   {
    "duration": 1751,
    "start_time": "2023-06-26T07:10:32.232Z"
   },
   {
    "duration": 3,
    "start_time": "2023-06-26T07:10:33.985Z"
   },
   {
    "duration": 13,
    "start_time": "2023-06-26T07:10:33.989Z"
   },
   {
    "duration": 1109,
    "start_time": "2023-06-26T07:10:34.004Z"
   },
   {
    "duration": 127,
    "start_time": "2023-06-26T07:10:35.115Z"
   },
   {
    "duration": 122,
    "start_time": "2023-06-26T07:10:35.243Z"
   },
   {
    "duration": 65,
    "start_time": "2023-06-26T07:10:35.367Z"
   },
   {
    "duration": 54,
    "start_time": "2023-06-26T07:10:35.434Z"
   },
   {
    "duration": 35,
    "start_time": "2023-06-26T07:10:35.490Z"
   },
   {
    "duration": 36,
    "start_time": "2023-06-26T07:10:35.528Z"
   },
   {
    "duration": 72,
    "start_time": "2023-06-26T07:10:35.565Z"
   },
   {
    "duration": 20,
    "start_time": "2023-06-26T07:10:35.639Z"
   },
   {
    "duration": 78,
    "start_time": "2023-06-26T07:10:35.660Z"
   },
   {
    "duration": 21,
    "start_time": "2023-06-26T07:10:35.740Z"
   },
   {
    "duration": 36,
    "start_time": "2023-06-26T07:10:35.762Z"
   },
   {
    "duration": 22,
    "start_time": "2023-06-26T07:10:35.800Z"
   },
   {
    "duration": 45,
    "start_time": "2023-06-26T07:10:35.824Z"
   },
   {
    "duration": 82,
    "start_time": "2023-06-26T07:10:35.870Z"
   },
   {
    "duration": 152,
    "start_time": "2023-06-26T07:10:35.954Z"
   },
   {
    "duration": 306,
    "start_time": "2023-06-26T07:10:36.108Z"
   },
   {
    "duration": 3,
    "start_time": "2023-06-26T07:10:36.416Z"
   },
   {
    "duration": 110,
    "start_time": "2023-06-26T07:10:36.421Z"
   },
   {
    "duration": 86,
    "start_time": "2023-06-26T07:10:36.533Z"
   },
   {
    "duration": 426,
    "start_time": "2023-06-26T07:10:36.621Z"
   },
   {
    "duration": 9,
    "start_time": "2023-06-26T07:10:37.049Z"
   },
   {
    "duration": 48,
    "start_time": "2023-06-26T07:10:37.060Z"
   },
   {
    "duration": 8,
    "start_time": "2023-06-26T07:10:37.111Z"
   },
   {
    "duration": 1014,
    "start_time": "2023-06-26T07:10:37.124Z"
   },
   {
    "duration": 9,
    "start_time": "2023-06-26T07:10:38.140Z"
   },
   {
    "duration": 47,
    "start_time": "2023-06-26T07:10:38.150Z"
   },
   {
    "duration": 8,
    "start_time": "2023-06-26T07:10:38.199Z"
   },
   {
    "duration": 452,
    "start_time": "2023-06-26T07:10:38.209Z"
   },
   {
    "duration": 5,
    "start_time": "2023-06-26T07:10:38.663Z"
   },
   {
    "duration": 38,
    "start_time": "2023-06-26T07:10:38.670Z"
   },
   {
    "duration": 62,
    "start_time": "2023-06-26T07:10:38.710Z"
   },
   {
    "duration": 91,
    "start_time": "2023-06-26T07:10:38.774Z"
   },
   {
    "duration": 170,
    "start_time": "2023-06-26T07:10:38.867Z"
   },
   {
    "duration": 12,
    "start_time": "2023-06-26T07:10:39.038Z"
   },
   {
    "duration": 176,
    "start_time": "2023-06-26T07:10:39.052Z"
   },
   {
    "duration": 17473,
    "start_time": "2023-06-26T07:10:39.230Z"
   },
   {
    "duration": 909,
    "start_time": "2023-06-26T07:10:56.705Z"
   },
   {
    "duration": 245,
    "start_time": "2023-06-26T07:10:57.616Z"
   },
   {
    "duration": 0,
    "start_time": "2023-06-26T07:10:57.863Z"
   },
   {
    "duration": 0,
    "start_time": "2023-06-26T07:10:57.865Z"
   },
   {
    "duration": 0,
    "start_time": "2023-06-26T07:10:57.867Z"
   },
   {
    "duration": 0,
    "start_time": "2023-06-26T07:10:57.868Z"
   },
   {
    "duration": 0,
    "start_time": "2023-06-26T07:10:57.870Z"
   },
   {
    "duration": 0,
    "start_time": "2023-06-26T07:10:57.871Z"
   },
   {
    "duration": 0,
    "start_time": "2023-06-26T07:10:57.872Z"
   },
   {
    "duration": 0,
    "start_time": "2023-06-26T07:10:57.874Z"
   },
   {
    "duration": 129,
    "start_time": "2023-06-26T07:17:17.120Z"
   },
   {
    "duration": 15,
    "start_time": "2023-06-26T07:25:42.129Z"
   },
   {
    "duration": 82,
    "start_time": "2023-06-26T07:29:21.332Z"
   },
   {
    "duration": 143,
    "start_time": "2023-06-26T07:29:27.143Z"
   },
   {
    "duration": 6,
    "start_time": "2023-06-26T07:29:57.720Z"
   },
   {
    "duration": 4,
    "start_time": "2023-06-26T07:29:57.896Z"
   },
   {
    "duration": 5,
    "start_time": "2023-06-26T07:29:58.052Z"
   },
   {
    "duration": 877,
    "start_time": "2023-06-26T07:29:58.235Z"
   },
   {
    "duration": 146,
    "start_time": "2023-06-26T07:29:59.114Z"
   },
   {
    "duration": 54,
    "start_time": "2023-06-26T07:29:59.261Z"
   },
   {
    "duration": 72,
    "start_time": "2023-06-26T07:29:59.318Z"
   },
   {
    "duration": 19,
    "start_time": "2023-06-26T07:29:59.668Z"
   },
   {
    "duration": 18,
    "start_time": "2023-06-26T07:29:59.845Z"
   },
   {
    "duration": 257,
    "start_time": "2023-06-26T07:30:00.036Z"
   },
   {
    "duration": 76,
    "start_time": "2023-06-26T07:30:00.295Z"
   },
   {
    "duration": 36,
    "start_time": "2023-06-26T07:30:00.423Z"
   },
   {
    "duration": 123,
    "start_time": "2023-06-26T07:30:00.599Z"
   },
   {
    "duration": 132,
    "start_time": "2023-06-26T07:30:01.004Z"
   },
   {
    "duration": 32,
    "start_time": "2023-06-26T07:30:12.250Z"
   },
   {
    "duration": 157,
    "start_time": "2023-06-26T07:30:18.950Z"
   },
   {
    "duration": 314,
    "start_time": "2023-06-26T07:30:21.761Z"
   },
   {
    "duration": 1567,
    "start_time": "2023-06-26T07:30:33.608Z"
   },
   {
    "duration": 2,
    "start_time": "2023-06-26T07:30:36.197Z"
   },
   {
    "duration": 4,
    "start_time": "2023-06-26T07:30:36.393Z"
   },
   {
    "duration": 876,
    "start_time": "2023-06-26T07:30:36.616Z"
   },
   {
    "duration": 213,
    "start_time": "2023-06-26T07:30:37.495Z"
   },
   {
    "duration": 54,
    "start_time": "2023-06-26T07:30:37.710Z"
   },
   {
    "duration": 178,
    "start_time": "2023-06-26T07:30:37.767Z"
   },
   {
    "duration": 29,
    "start_time": "2023-06-26T07:30:38.139Z"
   },
   {
    "duration": 28,
    "start_time": "2023-06-26T07:30:38.344Z"
   },
   {
    "duration": 27,
    "start_time": "2023-06-26T07:30:38.542Z"
   },
   {
    "duration": 34,
    "start_time": "2023-06-26T07:30:38.741Z"
   },
   {
    "duration": 30,
    "start_time": "2023-06-26T07:30:38.938Z"
   },
   {
    "duration": 321,
    "start_time": "2023-06-26T07:30:39.148Z"
   },
   {
    "duration": 129,
    "start_time": "2023-06-26T07:30:39.585Z"
   },
   {
    "duration": 31,
    "start_time": "2023-06-26T07:30:41.252Z"
   },
   {
    "duration": 185,
    "start_time": "2023-06-26T07:30:43.392Z"
   },
   {
    "duration": 320,
    "start_time": "2023-06-26T07:30:44.522Z"
   },
   {
    "duration": 4,
    "start_time": "2023-06-26T07:30:47.055Z"
   },
   {
    "duration": 72,
    "start_time": "2023-06-26T07:31:44.539Z"
   },
   {
    "duration": 421,
    "start_time": "2023-06-26T07:32:04.896Z"
   },
   {
    "duration": 7,
    "start_time": "2023-06-26T07:32:05.537Z"
   },
   {
    "duration": 26,
    "start_time": "2023-06-26T07:32:10.004Z"
   },
   {
    "duration": 8,
    "start_time": "2023-06-26T07:32:10.409Z"
   },
   {
    "duration": 976,
    "start_time": "2023-06-26T07:32:15.616Z"
   },
   {
    "duration": 8,
    "start_time": "2023-06-26T07:32:16.641Z"
   },
   {
    "duration": 27,
    "start_time": "2023-06-26T07:32:37.109Z"
   },
   {
    "duration": 9,
    "start_time": "2023-06-26T07:32:37.962Z"
   },
   {
    "duration": 447,
    "start_time": "2023-06-26T07:32:40.543Z"
   },
   {
    "duration": 8,
    "start_time": "2023-06-26T07:32:41.155Z"
   },
   {
    "duration": 9,
    "start_time": "2023-06-26T07:32:42.201Z"
   },
   {
    "duration": 127,
    "start_time": "2023-06-26T07:32:43.208Z"
   },
   {
    "duration": 76,
    "start_time": "2023-06-26T07:32:44.552Z"
   },
   {
    "duration": 4,
    "start_time": "2023-06-26T07:37:52.505Z"
   },
   {
    "duration": 2,
    "start_time": "2023-06-26T07:37:52.658Z"
   },
   {
    "duration": 4,
    "start_time": "2023-06-26T07:37:52.823Z"
   },
   {
    "duration": 852,
    "start_time": "2023-06-26T07:37:53.014Z"
   },
   {
    "duration": 214,
    "start_time": "2023-06-26T07:37:53.868Z"
   },
   {
    "duration": 1492,
    "start_time": "2023-06-26T07:38:02.433Z"
   },
   {
    "duration": 2,
    "start_time": "2023-06-26T07:38:03.928Z"
   },
   {
    "duration": 41,
    "start_time": "2023-06-26T07:38:03.932Z"
   },
   {
    "duration": 837,
    "start_time": "2023-06-26T07:38:03.975Z"
   },
   {
    "duration": 125,
    "start_time": "2023-06-26T07:38:04.814Z"
   },
   {
    "duration": 47,
    "start_time": "2023-06-26T07:38:04.941Z"
   },
   {
    "duration": 76,
    "start_time": "2023-06-26T07:38:05.002Z"
   },
   {
    "duration": 27,
    "start_time": "2023-06-26T07:38:05.080Z"
   },
   {
    "duration": 18,
    "start_time": "2023-06-26T07:38:05.236Z"
   },
   {
    "duration": 18,
    "start_time": "2023-06-26T07:38:05.416Z"
   },
   {
    "duration": 19,
    "start_time": "2023-06-26T07:38:05.616Z"
   },
   {
    "duration": 23,
    "start_time": "2023-06-26T07:38:05.812Z"
   },
   {
    "duration": 74,
    "start_time": "2023-06-26T07:38:06.013Z"
   },
   {
    "duration": 135,
    "start_time": "2023-06-26T07:38:06.400Z"
   },
   {
    "duration": 31,
    "start_time": "2023-06-26T07:38:06.808Z"
   },
   {
    "duration": 181,
    "start_time": "2023-06-26T07:38:09.484Z"
   },
   {
    "duration": 184,
    "start_time": "2023-06-26T07:38:10.658Z"
   },
   {
    "duration": 165,
    "start_time": "2023-06-26T07:38:26.900Z"
   },
   {
    "duration": 258,
    "start_time": "2023-06-26T07:38:27.844Z"
   },
   {
    "duration": 156,
    "start_time": "2023-06-26T07:38:37.468Z"
   },
   {
    "duration": 165,
    "start_time": "2023-06-26T07:38:51.942Z"
   },
   {
    "duration": 180,
    "start_time": "2023-06-26T07:40:13.361Z"
   },
   {
    "duration": 4,
    "start_time": "2023-06-26T07:42:48.428Z"
   },
   {
    "duration": 3,
    "start_time": "2023-06-26T07:42:51.725Z"
   },
   {
    "duration": 4,
    "start_time": "2023-06-26T07:42:52.352Z"
   },
   {
    "duration": 766,
    "start_time": "2023-06-26T07:42:53.905Z"
   },
   {
    "duration": 114,
    "start_time": "2023-06-26T07:42:55.528Z"
   },
   {
    "duration": 44,
    "start_time": "2023-06-26T07:42:56.643Z"
   },
   {
    "duration": 77,
    "start_time": "2023-06-26T07:42:57.022Z"
   },
   {
    "duration": 1513,
    "start_time": "2023-06-26T07:43:04.438Z"
   },
   {
    "duration": 3,
    "start_time": "2023-06-26T07:43:05.953Z"
   },
   {
    "duration": 12,
    "start_time": "2023-06-26T07:43:05.957Z"
   },
   {
    "duration": 853,
    "start_time": "2023-06-26T07:43:05.971Z"
   },
   {
    "duration": 123,
    "start_time": "2023-06-26T07:43:06.826Z"
   },
   {
    "duration": 55,
    "start_time": "2023-06-26T07:43:06.951Z"
   },
   {
    "duration": 94,
    "start_time": "2023-06-26T07:43:07.008Z"
   },
   {
    "duration": 25,
    "start_time": "2023-06-26T07:43:13.512Z"
   },
   {
    "duration": 21,
    "start_time": "2023-06-26T07:43:13.685Z"
   },
   {
    "duration": 22,
    "start_time": "2023-06-26T07:43:13.844Z"
   },
   {
    "duration": 20,
    "start_time": "2023-06-26T07:43:14.043Z"
   },
   {
    "duration": 39,
    "start_time": "2023-06-26T07:43:14.224Z"
   },
   {
    "duration": 68,
    "start_time": "2023-06-26T07:43:14.432Z"
   },
   {
    "duration": 122,
    "start_time": "2023-06-26T07:43:18.696Z"
   },
   {
    "duration": 31,
    "start_time": "2023-06-26T07:43:22.965Z"
   },
   {
    "duration": 3,
    "start_time": "2023-06-26T07:43:23.215Z"
   },
   {
    "duration": 121,
    "start_time": "2023-06-26T07:43:44.932Z"
   },
   {
    "duration": 4,
    "start_time": "2023-06-26T07:43:45.408Z"
   },
   {
    "duration": 15,
    "start_time": "2023-06-26T07:43:54.659Z"
   },
   {
    "duration": 1559,
    "start_time": "2023-06-26T07:44:03.820Z"
   },
   {
    "duration": 3,
    "start_time": "2023-06-26T07:44:05.381Z"
   },
   {
    "duration": 16,
    "start_time": "2023-06-26T07:44:05.386Z"
   },
   {
    "duration": 853,
    "start_time": "2023-06-26T07:44:05.404Z"
   },
   {
    "duration": 133,
    "start_time": "2023-06-26T07:44:06.259Z"
   },
   {
    "duration": 56,
    "start_time": "2023-06-26T07:44:06.394Z"
   },
   {
    "duration": 97,
    "start_time": "2023-06-26T07:44:06.452Z"
   },
   {
    "duration": 19,
    "start_time": "2023-06-26T07:44:06.551Z"
   },
   {
    "duration": 35,
    "start_time": "2023-06-26T07:44:06.571Z"
   },
   {
    "duration": 20,
    "start_time": "2023-06-26T07:44:06.631Z"
   },
   {
    "duration": 20,
    "start_time": "2023-06-26T07:44:06.829Z"
   },
   {
    "duration": 21,
    "start_time": "2023-06-26T07:44:07.027Z"
   },
   {
    "duration": 73,
    "start_time": "2023-06-26T07:44:07.231Z"
   },
   {
    "duration": 123,
    "start_time": "2023-06-26T07:44:07.625Z"
   },
   {
    "duration": 29,
    "start_time": "2023-06-26T07:44:08.805Z"
   },
   {
    "duration": 4,
    "start_time": "2023-06-26T07:44:10.857Z"
   },
   {
    "duration": 81,
    "start_time": "2023-06-26T07:44:12.472Z"
   },
   {
    "duration": 86,
    "start_time": "2023-06-26T07:44:32.672Z"
   },
   {
    "duration": 423,
    "start_time": "2023-06-26T07:44:33.333Z"
   },
   {
    "duration": 7,
    "start_time": "2023-06-26T07:44:33.758Z"
   },
   {
    "duration": 35,
    "start_time": "2023-06-26T07:44:36.932Z"
   },
   {
    "duration": 8,
    "start_time": "2023-06-26T07:44:37.153Z"
   },
   {
    "duration": 980,
    "start_time": "2023-06-26T07:44:37.620Z"
   },
   {
    "duration": 9,
    "start_time": "2023-06-26T07:44:38.603Z"
   },
   {
    "duration": 32,
    "start_time": "2023-06-26T07:44:47.084Z"
   },
   {
    "duration": 9,
    "start_time": "2023-06-26T07:44:47.260Z"
   },
   {
    "duration": 405,
    "start_time": "2023-06-26T07:44:48.638Z"
   },
   {
    "duration": 7,
    "start_time": "2023-06-26T07:44:49.204Z"
   },
   {
    "duration": 9,
    "start_time": "2023-06-26T07:44:49.409Z"
   },
   {
    "duration": 75,
    "start_time": "2023-06-26T07:44:52.934Z"
   },
   {
    "duration": 75,
    "start_time": "2023-06-26T07:44:53.147Z"
   },
   {
    "duration": 170,
    "start_time": "2023-06-26T07:45:02.712Z"
   },
   {
    "duration": 11,
    "start_time": "2023-06-26T07:45:03.513Z"
   },
   {
    "duration": 177,
    "start_time": "2023-06-26T07:45:04.117Z"
   }
  ],
  "kernelspec": {
   "display_name": "Python 3 (ipykernel)",
   "language": "python",
   "name": "python3"
  },
  "language_info": {
   "codemirror_mode": {
    "name": "ipython",
    "version": 3
   },
   "file_extension": ".py",
   "mimetype": "text/x-python",
   "name": "python",
   "nbconvert_exporter": "python",
   "pygments_lexer": "ipython3",
   "version": "3.9.5"
  },
  "toc": {
   "base_numbering": 1,
   "nav_menu": {},
   "number_sections": true,
   "sideBar": true,
   "skip_h1_title": true,
   "title_cell": "Table of Contents",
   "title_sidebar": "Contents",
   "toc_cell": false,
   "toc_position": {},
   "toc_section_display": true,
   "toc_window_display": false
  }
 },
 "nbformat": 4,
 "nbformat_minor": 4
}
